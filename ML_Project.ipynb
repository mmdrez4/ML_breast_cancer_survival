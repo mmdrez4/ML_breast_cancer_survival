{
  "cells": [
    {
      "cell_type": "markdown",
      "metadata": {
        "id": "view-in-github",
        "colab_type": "text"
      },
      "source": [
        "<a href=\"https://colab.research.google.com/github/mmdrez4/ML_breast_cancer_survival/blob/main/ML_Project.ipynb\" target=\"_parent\"><img src=\"https://colab.research.google.com/assets/colab-badge.svg\" alt=\"Open In Colab\"/></a>"
      ]
    },
    {
      "cell_type": "markdown",
      "id": "5902c1f3",
      "metadata": {
        "id": "5902c1f3"
      },
      "source": [
        "<img src='http://www-scf.usc.edu/~ghasemig/images/sharif.png' alt=\"SUT logo\" width=200 height=200 align=left class=\"saturate\" >\n",
        "\n",
        "<br>\n",
        "<font face=\"Times New Roman\">\n",
        "<div dir=ltr align=center>\n",
        "<font color=0F5298 size=7>\n",
        "    Introduction to Machine Learning <br>\n",
        "<font color=2565AE size=5>\n",
        "    Computer Engineering Department <br>\n",
        "    Fall 2022<br>\n",
        "<font color=3C99D size=5>\n",
        "    Project <br>\n",
        "<font color=696880 size=4>\n",
        "    Project Team \n",
        "    \n",
        "    \n",
        "____\n"
      ]
    },
    {
      "cell_type": "markdown",
      "id": "40df5e74",
      "metadata": {
        "id": "40df5e74"
      },
      "source": [
        "# Introduction"
      ]
    },
    {
      "cell_type": "markdown",
      "id": "5a627177",
      "metadata": {
        "id": "5a627177"
      },
      "source": [
        "In this project, we are going to have a brief and elementary hands-on real-world project, predicting breast cancer survival using machine learning models with clinical data and gene expression profiles."
      ]
    },
    {
      "cell_type": "markdown",
      "id": "b1e52cbc",
      "metadata": {
        "id": "b1e52cbc"
      },
      "source": [
        "# Data Documentation"
      ]
    },
    {
      "cell_type": "markdown",
      "id": "254cb90f",
      "metadata": {
        "ExecuteTime": {
          "end_time": "2023-01-29T19:31:29.604891Z",
          "start_time": "2023-01-29T19:31:29.601061Z"
        },
        "id": "254cb90f"
      },
      "source": [
        "For this purpose, we will use \"Breast Cancer Gene Expression Profiles (METABRIC)\" data. \n",
        "The first 31 columns of data contain clinical information including death status.\n",
        "The next columns of the data contain gene's related information which includes both gene expressions and mutation information. (gene's mutation info columns have been marked with \"_mut\" at the end of the names of the columns) \n",
        "For more information please read the [data documentation](https://www.kaggle.com/datasets/raghadalharbi/breast-cancer-gene-expression-profiles-metabric)."
      ]
    },
    {
      "cell_type": "markdown",
      "id": "9cef1d4a",
      "metadata": {
        "id": "9cef1d4a"
      },
      "source": [
        "# Data Preparation (15 Points)"
      ]
    },
    {
      "cell_type": "markdown",
      "id": "f3240d5d",
      "metadata": {
        "id": "f3240d5d"
      },
      "source": [
        "In this section you must first split data into three datasets:\n",
        "<br>\n",
        "1- clinical dataset\n",
        "<br>\n",
        "2- gene expressions dataset\n",
        "<br>\n",
        "3- gene mutation dataset. (We will not use this dataset in further steps of the project)"
      ]
    },
    {
      "cell_type": "markdown",
      "id": "cc42f2b1",
      "metadata": {
        "id": "cc42f2b1"
      },
      "source": [
        "## Data Loading & Splitting"
      ]
    },
    {
      "cell_type": "code",
      "source": [
        "import pandas as pd\n",
        "from sklearn.model_selection import train_test_split\n",
        "from sklearn.preprocessing import LabelEncoder\n",
        "import torch\n",
        "from torch import nn\n",
        "from torch.nn import functional as F\n",
        "from torch.utils.data import Dataset, DataLoader, random_split\n",
        "from torchvision import transforms, datasets\n",
        "\n",
        "from tqdm import tqdm\n",
        "import numpy as np\n",
        "import seaborn as sns\n",
        "import pandas as pd\n",
        "import matplotlib.pyplot as plt"
      ],
      "metadata": {
        "id": "4flGgiR5dyUU"
      },
      "id": "4flGgiR5dyUU",
      "execution_count": null,
      "outputs": []
    },
    {
      "cell_type": "code",
      "execution_count": null,
      "id": "463b243b",
      "metadata": {
        "colab": {
          "base_uri": "https://localhost:8080/",
          "height": 421
        },
        "id": "463b243b",
        "outputId": "3f59481f-0b82-4fd3-a56d-4c3afc5f9c9e"
      },
      "outputs": [
        {
          "output_type": "stream",
          "name": "stderr",
          "text": [
            "/usr/local/lib/python3.8/dist-packages/IPython/core/interactiveshell.py:3326: DtypeWarning: Columns (678,688,690,692) have mixed types.Specify dtype option on import or set low_memory=False.\n",
            "  exec(code_obj, self.user_global_ns, self.user_ns)\n"
          ]
        },
        {
          "output_type": "execute_result",
          "data": {
            "text/plain": [
              "   patient_id  age_at_diagnosis type_of_breast_surgery    cancer_type  \\\n",
              "0           0             75.65             MASTECTOMY  Breast Cancer   \n",
              "1           2             43.19      BREAST CONSERVING  Breast Cancer   \n",
              "2           5             48.87             MASTECTOMY  Breast Cancer   \n",
              "3           6             47.68             MASTECTOMY  Breast Cancer   \n",
              "4           8             76.97             MASTECTOMY  Breast Cancer   \n",
              "\n",
              "                        cancer_type_detailed cellularity  chemotherapy  \\\n",
              "0           Breast Invasive Ductal Carcinoma         NaN             0   \n",
              "1           Breast Invasive Ductal Carcinoma        High             0   \n",
              "2           Breast Invasive Ductal Carcinoma        High             1   \n",
              "3  Breast Mixed Ductal and Lobular Carcinoma    Moderate             1   \n",
              "4  Breast Mixed Ductal and Lobular Carcinoma        High             1   \n",
              "\n",
              "  pam50_+_claudin-low_subtype  cohort er_status_measured_by_ihc  ... mtap_mut  \\\n",
              "0                 claudin-low     1.0                   Positve  ...        0   \n",
              "1                        LumA     1.0                   Positve  ...        0   \n",
              "2                        LumB     1.0                   Positve  ...        0   \n",
              "3                        LumB     1.0                   Positve  ...        0   \n",
              "4                        LumB     1.0                   Positve  ...        0   \n",
              "\n",
              "   ppp2cb_mut smarcd1_mut nras_mut ndfip1_mut  hras_mut prps2_mut smarcb1_mut  \\\n",
              "0           0           0        0          0         0         0           0   \n",
              "1           0           0        0          0         0         0           0   \n",
              "2           0           0        0          0         0         0           0   \n",
              "3           0           0        0          0         0         0           0   \n",
              "4           0           0        0          0         0         0           0   \n",
              "\n",
              "  stmn2_mut  siah1_mut  \n",
              "0         0          0  \n",
              "1         0          0  \n",
              "2         0          0  \n",
              "3         0          0  \n",
              "4         0          0  \n",
              "\n",
              "[5 rows x 693 columns]"
            ],
            "text/html": [
              "\n",
              "  <div id=\"df-7a4ca332-7149-4486-8419-0b3b4a19fcf8\">\n",
              "    <div class=\"colab-df-container\">\n",
              "      <div>\n",
              "<style scoped>\n",
              "    .dataframe tbody tr th:only-of-type {\n",
              "        vertical-align: middle;\n",
              "    }\n",
              "\n",
              "    .dataframe tbody tr th {\n",
              "        vertical-align: top;\n",
              "    }\n",
              "\n",
              "    .dataframe thead th {\n",
              "        text-align: right;\n",
              "    }\n",
              "</style>\n",
              "<table border=\"1\" class=\"dataframe\">\n",
              "  <thead>\n",
              "    <tr style=\"text-align: right;\">\n",
              "      <th></th>\n",
              "      <th>patient_id</th>\n",
              "      <th>age_at_diagnosis</th>\n",
              "      <th>type_of_breast_surgery</th>\n",
              "      <th>cancer_type</th>\n",
              "      <th>cancer_type_detailed</th>\n",
              "      <th>cellularity</th>\n",
              "      <th>chemotherapy</th>\n",
              "      <th>pam50_+_claudin-low_subtype</th>\n",
              "      <th>cohort</th>\n",
              "      <th>er_status_measured_by_ihc</th>\n",
              "      <th>...</th>\n",
              "      <th>mtap_mut</th>\n",
              "      <th>ppp2cb_mut</th>\n",
              "      <th>smarcd1_mut</th>\n",
              "      <th>nras_mut</th>\n",
              "      <th>ndfip1_mut</th>\n",
              "      <th>hras_mut</th>\n",
              "      <th>prps2_mut</th>\n",
              "      <th>smarcb1_mut</th>\n",
              "      <th>stmn2_mut</th>\n",
              "      <th>siah1_mut</th>\n",
              "    </tr>\n",
              "  </thead>\n",
              "  <tbody>\n",
              "    <tr>\n",
              "      <th>0</th>\n",
              "      <td>0</td>\n",
              "      <td>75.65</td>\n",
              "      <td>MASTECTOMY</td>\n",
              "      <td>Breast Cancer</td>\n",
              "      <td>Breast Invasive Ductal Carcinoma</td>\n",
              "      <td>NaN</td>\n",
              "      <td>0</td>\n",
              "      <td>claudin-low</td>\n",
              "      <td>1.0</td>\n",
              "      <td>Positve</td>\n",
              "      <td>...</td>\n",
              "      <td>0</td>\n",
              "      <td>0</td>\n",
              "      <td>0</td>\n",
              "      <td>0</td>\n",
              "      <td>0</td>\n",
              "      <td>0</td>\n",
              "      <td>0</td>\n",
              "      <td>0</td>\n",
              "      <td>0</td>\n",
              "      <td>0</td>\n",
              "    </tr>\n",
              "    <tr>\n",
              "      <th>1</th>\n",
              "      <td>2</td>\n",
              "      <td>43.19</td>\n",
              "      <td>BREAST CONSERVING</td>\n",
              "      <td>Breast Cancer</td>\n",
              "      <td>Breast Invasive Ductal Carcinoma</td>\n",
              "      <td>High</td>\n",
              "      <td>0</td>\n",
              "      <td>LumA</td>\n",
              "      <td>1.0</td>\n",
              "      <td>Positve</td>\n",
              "      <td>...</td>\n",
              "      <td>0</td>\n",
              "      <td>0</td>\n",
              "      <td>0</td>\n",
              "      <td>0</td>\n",
              "      <td>0</td>\n",
              "      <td>0</td>\n",
              "      <td>0</td>\n",
              "      <td>0</td>\n",
              "      <td>0</td>\n",
              "      <td>0</td>\n",
              "    </tr>\n",
              "    <tr>\n",
              "      <th>2</th>\n",
              "      <td>5</td>\n",
              "      <td>48.87</td>\n",
              "      <td>MASTECTOMY</td>\n",
              "      <td>Breast Cancer</td>\n",
              "      <td>Breast Invasive Ductal Carcinoma</td>\n",
              "      <td>High</td>\n",
              "      <td>1</td>\n",
              "      <td>LumB</td>\n",
              "      <td>1.0</td>\n",
              "      <td>Positve</td>\n",
              "      <td>...</td>\n",
              "      <td>0</td>\n",
              "      <td>0</td>\n",
              "      <td>0</td>\n",
              "      <td>0</td>\n",
              "      <td>0</td>\n",
              "      <td>0</td>\n",
              "      <td>0</td>\n",
              "      <td>0</td>\n",
              "      <td>0</td>\n",
              "      <td>0</td>\n",
              "    </tr>\n",
              "    <tr>\n",
              "      <th>3</th>\n",
              "      <td>6</td>\n",
              "      <td>47.68</td>\n",
              "      <td>MASTECTOMY</td>\n",
              "      <td>Breast Cancer</td>\n",
              "      <td>Breast Mixed Ductal and Lobular Carcinoma</td>\n",
              "      <td>Moderate</td>\n",
              "      <td>1</td>\n",
              "      <td>LumB</td>\n",
              "      <td>1.0</td>\n",
              "      <td>Positve</td>\n",
              "      <td>...</td>\n",
              "      <td>0</td>\n",
              "      <td>0</td>\n",
              "      <td>0</td>\n",
              "      <td>0</td>\n",
              "      <td>0</td>\n",
              "      <td>0</td>\n",
              "      <td>0</td>\n",
              "      <td>0</td>\n",
              "      <td>0</td>\n",
              "      <td>0</td>\n",
              "    </tr>\n",
              "    <tr>\n",
              "      <th>4</th>\n",
              "      <td>8</td>\n",
              "      <td>76.97</td>\n",
              "      <td>MASTECTOMY</td>\n",
              "      <td>Breast Cancer</td>\n",
              "      <td>Breast Mixed Ductal and Lobular Carcinoma</td>\n",
              "      <td>High</td>\n",
              "      <td>1</td>\n",
              "      <td>LumB</td>\n",
              "      <td>1.0</td>\n",
              "      <td>Positve</td>\n",
              "      <td>...</td>\n",
              "      <td>0</td>\n",
              "      <td>0</td>\n",
              "      <td>0</td>\n",
              "      <td>0</td>\n",
              "      <td>0</td>\n",
              "      <td>0</td>\n",
              "      <td>0</td>\n",
              "      <td>0</td>\n",
              "      <td>0</td>\n",
              "      <td>0</td>\n",
              "    </tr>\n",
              "  </tbody>\n",
              "</table>\n",
              "<p>5 rows × 693 columns</p>\n",
              "</div>\n",
              "      <button class=\"colab-df-convert\" onclick=\"convertToInteractive('df-7a4ca332-7149-4486-8419-0b3b4a19fcf8')\"\n",
              "              title=\"Convert this dataframe to an interactive table.\"\n",
              "              style=\"display:none;\">\n",
              "        \n",
              "  <svg xmlns=\"http://www.w3.org/2000/svg\" height=\"24px\"viewBox=\"0 0 24 24\"\n",
              "       width=\"24px\">\n",
              "    <path d=\"M0 0h24v24H0V0z\" fill=\"none\"/>\n",
              "    <path d=\"M18.56 5.44l.94 2.06.94-2.06 2.06-.94-2.06-.94-.94-2.06-.94 2.06-2.06.94zm-11 1L8.5 8.5l.94-2.06 2.06-.94-2.06-.94L8.5 2.5l-.94 2.06-2.06.94zm10 10l.94 2.06.94-2.06 2.06-.94-2.06-.94-.94-2.06-.94 2.06-2.06.94z\"/><path d=\"M17.41 7.96l-1.37-1.37c-.4-.4-.92-.59-1.43-.59-.52 0-1.04.2-1.43.59L10.3 9.45l-7.72 7.72c-.78.78-.78 2.05 0 2.83L4 21.41c.39.39.9.59 1.41.59.51 0 1.02-.2 1.41-.59l7.78-7.78 2.81-2.81c.8-.78.8-2.07 0-2.86zM5.41 20L4 18.59l7.72-7.72 1.47 1.35L5.41 20z\"/>\n",
              "  </svg>\n",
              "      </button>\n",
              "      \n",
              "  <style>\n",
              "    .colab-df-container {\n",
              "      display:flex;\n",
              "      flex-wrap:wrap;\n",
              "      gap: 12px;\n",
              "    }\n",
              "\n",
              "    .colab-df-convert {\n",
              "      background-color: #E8F0FE;\n",
              "      border: none;\n",
              "      border-radius: 50%;\n",
              "      cursor: pointer;\n",
              "      display: none;\n",
              "      fill: #1967D2;\n",
              "      height: 32px;\n",
              "      padding: 0 0 0 0;\n",
              "      width: 32px;\n",
              "    }\n",
              "\n",
              "    .colab-df-convert:hover {\n",
              "      background-color: #E2EBFA;\n",
              "      box-shadow: 0px 1px 2px rgba(60, 64, 67, 0.3), 0px 1px 3px 1px rgba(60, 64, 67, 0.15);\n",
              "      fill: #174EA6;\n",
              "    }\n",
              "\n",
              "    [theme=dark] .colab-df-convert {\n",
              "      background-color: #3B4455;\n",
              "      fill: #D2E3FC;\n",
              "    }\n",
              "\n",
              "    [theme=dark] .colab-df-convert:hover {\n",
              "      background-color: #434B5C;\n",
              "      box-shadow: 0px 1px 3px 1px rgba(0, 0, 0, 0.15);\n",
              "      filter: drop-shadow(0px 1px 2px rgba(0, 0, 0, 0.3));\n",
              "      fill: #FFFFFF;\n",
              "    }\n",
              "  </style>\n",
              "\n",
              "      <script>\n",
              "        const buttonEl =\n",
              "          document.querySelector('#df-7a4ca332-7149-4486-8419-0b3b4a19fcf8 button.colab-df-convert');\n",
              "        buttonEl.style.display =\n",
              "          google.colab.kernel.accessAllowed ? 'block' : 'none';\n",
              "\n",
              "        async function convertToInteractive(key) {\n",
              "          const element = document.querySelector('#df-7a4ca332-7149-4486-8419-0b3b4a19fcf8');\n",
              "          const dataTable =\n",
              "            await google.colab.kernel.invokeFunction('convertToInteractive',\n",
              "                                                     [key], {});\n",
              "          if (!dataTable) return;\n",
              "\n",
              "          const docLinkHtml = 'Like what you see? Visit the ' +\n",
              "            '<a target=\"_blank\" href=https://colab.research.google.com/notebooks/data_table.ipynb>data table notebook</a>'\n",
              "            + ' to learn more about interactive tables.';\n",
              "          element.innerHTML = '';\n",
              "          dataTable['output_type'] = 'display_data';\n",
              "          await google.colab.output.renderOutput(dataTable, element);\n",
              "          const docLink = document.createElement('div');\n",
              "          docLink.innerHTML = docLinkHtml;\n",
              "          element.appendChild(docLink);\n",
              "        }\n",
              "      </script>\n",
              "    </div>\n",
              "  </div>\n",
              "  "
            ]
          },
          "metadata": {},
          "execution_count": 2
        }
      ],
      "source": [
        "# TODO\n",
        "df = pd.read_csv('METABRIC_RNA_Mutation.csv')\n",
        "df.head()"
      ]
    },
    {
      "cell_type": "code",
      "source": [
        "df_clinical = df.iloc[:,:31]\n",
        "df_gene_expression = df.iloc[:,31:520]\n",
        "df_gene_mutation = df.iloc[:,520:]"
      ],
      "metadata": {
        "id": "Mpuc7kgWiDLI"
      },
      "id": "Mpuc7kgWiDLI",
      "execution_count": null,
      "outputs": []
    },
    {
      "cell_type": "code",
      "source": [
        "df_clinical"
      ],
      "metadata": {
        "colab": {
          "base_uri": "https://localhost:8080/",
          "height": 658
        },
        "id": "ceMEV80EU01u",
        "outputId": "5a5ab560-57fe-48c9-e82d-55d56d6d788c"
      },
      "id": "ceMEV80EU01u",
      "execution_count": null,
      "outputs": [
        {
          "output_type": "execute_result",
          "data": {
            "text/plain": [
              "      patient_id  age_at_diagnosis type_of_breast_surgery    cancer_type  \\\n",
              "0              0             75.65             MASTECTOMY  Breast Cancer   \n",
              "1              2             43.19      BREAST CONSERVING  Breast Cancer   \n",
              "2              5             48.87             MASTECTOMY  Breast Cancer   \n",
              "3              6             47.68             MASTECTOMY  Breast Cancer   \n",
              "4              8             76.97             MASTECTOMY  Breast Cancer   \n",
              "...          ...               ...                    ...            ...   \n",
              "1899        7295             43.10      BREAST CONSERVING  Breast Cancer   \n",
              "1900        7296             42.88             MASTECTOMY  Breast Cancer   \n",
              "1901        7297             62.90             MASTECTOMY  Breast Cancer   \n",
              "1902        7298             61.16             MASTECTOMY  Breast Cancer   \n",
              "1903        7299             60.02      BREAST CONSERVING  Breast Cancer   \n",
              "\n",
              "                           cancer_type_detailed cellularity  chemotherapy  \\\n",
              "0              Breast Invasive Ductal Carcinoma         NaN             0   \n",
              "1              Breast Invasive Ductal Carcinoma        High             0   \n",
              "2              Breast Invasive Ductal Carcinoma        High             1   \n",
              "3     Breast Mixed Ductal and Lobular Carcinoma    Moderate             1   \n",
              "4     Breast Mixed Ductal and Lobular Carcinoma        High             1   \n",
              "...                                         ...         ...           ...   \n",
              "1899          Breast Invasive Lobular Carcinoma        High             0   \n",
              "1900           Breast Invasive Ductal Carcinoma        High             0   \n",
              "1901           Breast Invasive Ductal Carcinoma        High             0   \n",
              "1902           Breast Invasive Ductal Carcinoma    Moderate             0   \n",
              "1903           Breast Invasive Ductal Carcinoma        High             0   \n",
              "\n",
              "     pam50_+_claudin-low_subtype  cohort er_status_measured_by_ihc  ...  \\\n",
              "0                    claudin-low     1.0                   Positve  ...   \n",
              "1                           LumA     1.0                   Positve  ...   \n",
              "2                           LumB     1.0                   Positve  ...   \n",
              "3                           LumB     1.0                   Positve  ...   \n",
              "4                           LumB     1.0                   Positve  ...   \n",
              "...                          ...     ...                       ...  ...   \n",
              "1899                        LumA     4.0                   Positve  ...   \n",
              "1900                        LumB     4.0                   Positve  ...   \n",
              "1901                        LumB     4.0                   Positve  ...   \n",
              "1902                        LumB     4.0                   Positve  ...   \n",
              "1903                        LumB     4.0                   Positve  ...   \n",
              "\n",
              "     nottingham_prognostic_index  oncotree_code overall_survival_months  \\\n",
              "0                          6.044            IDC              140.500000   \n",
              "1                          4.020            IDC               84.633333   \n",
              "2                          4.030            IDC              163.700000   \n",
              "3                          4.050           MDLC              164.933333   \n",
              "4                          6.080           MDLC               41.366667   \n",
              "...                          ...            ...                     ...   \n",
              "1899                       5.050            ILC              196.866667   \n",
              "1900                       5.040            IDC               44.733333   \n",
              "1901                       6.050            IDC              175.966667   \n",
              "1902                       5.050            IDC               86.233333   \n",
              "1903                       5.040            IDC              201.900000   \n",
              "\n",
              "     overall_survival pr_status  radio_therapy 3-gene_classifier_subtype  \\\n",
              "0                   1  Negative              1                 ER-/HER2-   \n",
              "1                   1  Positive              1     ER+/HER2- High Prolif   \n",
              "2                   0  Positive              0                       NaN   \n",
              "3                   1  Positive              1                       NaN   \n",
              "4                   0  Positive              1     ER+/HER2- High Prolif   \n",
              "...               ...       ...            ...                       ...   \n",
              "1899                1  Positive              1      ER+/HER2- Low Prolif   \n",
              "1900                0  Negative              1                       NaN   \n",
              "1901                0  Positive              1                       NaN   \n",
              "1902                0  Positive              0     ER+/HER2- High Prolif   \n",
              "1903                0  Negative              1     ER+/HER2- High Prolif   \n",
              "\n",
              "     tumor_size tumor_stage     death_from_cancer  \n",
              "0          22.0         2.0                Living  \n",
              "1          10.0         1.0                Living  \n",
              "2          15.0         2.0       Died of Disease  \n",
              "3          25.0         2.0                Living  \n",
              "4          40.0         2.0       Died of Disease  \n",
              "...         ...         ...                   ...  \n",
              "1899       25.0         NaN                Living  \n",
              "1900       20.0         NaN       Died of Disease  \n",
              "1901       25.0         NaN       Died of Disease  \n",
              "1902       25.0         NaN  Died of Other Causes  \n",
              "1903       20.0         NaN  Died of Other Causes  \n",
              "\n",
              "[1904 rows x 31 columns]"
            ],
            "text/html": [
              "\n",
              "  <div id=\"df-cff3f498-364e-4e07-b154-410f40bdf125\">\n",
              "    <div class=\"colab-df-container\">\n",
              "      <div>\n",
              "<style scoped>\n",
              "    .dataframe tbody tr th:only-of-type {\n",
              "        vertical-align: middle;\n",
              "    }\n",
              "\n",
              "    .dataframe tbody tr th {\n",
              "        vertical-align: top;\n",
              "    }\n",
              "\n",
              "    .dataframe thead th {\n",
              "        text-align: right;\n",
              "    }\n",
              "</style>\n",
              "<table border=\"1\" class=\"dataframe\">\n",
              "  <thead>\n",
              "    <tr style=\"text-align: right;\">\n",
              "      <th></th>\n",
              "      <th>patient_id</th>\n",
              "      <th>age_at_diagnosis</th>\n",
              "      <th>type_of_breast_surgery</th>\n",
              "      <th>cancer_type</th>\n",
              "      <th>cancer_type_detailed</th>\n",
              "      <th>cellularity</th>\n",
              "      <th>chemotherapy</th>\n",
              "      <th>pam50_+_claudin-low_subtype</th>\n",
              "      <th>cohort</th>\n",
              "      <th>er_status_measured_by_ihc</th>\n",
              "      <th>...</th>\n",
              "      <th>nottingham_prognostic_index</th>\n",
              "      <th>oncotree_code</th>\n",
              "      <th>overall_survival_months</th>\n",
              "      <th>overall_survival</th>\n",
              "      <th>pr_status</th>\n",
              "      <th>radio_therapy</th>\n",
              "      <th>3-gene_classifier_subtype</th>\n",
              "      <th>tumor_size</th>\n",
              "      <th>tumor_stage</th>\n",
              "      <th>death_from_cancer</th>\n",
              "    </tr>\n",
              "  </thead>\n",
              "  <tbody>\n",
              "    <tr>\n",
              "      <th>0</th>\n",
              "      <td>0</td>\n",
              "      <td>75.65</td>\n",
              "      <td>MASTECTOMY</td>\n",
              "      <td>Breast Cancer</td>\n",
              "      <td>Breast Invasive Ductal Carcinoma</td>\n",
              "      <td>NaN</td>\n",
              "      <td>0</td>\n",
              "      <td>claudin-low</td>\n",
              "      <td>1.0</td>\n",
              "      <td>Positve</td>\n",
              "      <td>...</td>\n",
              "      <td>6.044</td>\n",
              "      <td>IDC</td>\n",
              "      <td>140.500000</td>\n",
              "      <td>1</td>\n",
              "      <td>Negative</td>\n",
              "      <td>1</td>\n",
              "      <td>ER-/HER2-</td>\n",
              "      <td>22.0</td>\n",
              "      <td>2.0</td>\n",
              "      <td>Living</td>\n",
              "    </tr>\n",
              "    <tr>\n",
              "      <th>1</th>\n",
              "      <td>2</td>\n",
              "      <td>43.19</td>\n",
              "      <td>BREAST CONSERVING</td>\n",
              "      <td>Breast Cancer</td>\n",
              "      <td>Breast Invasive Ductal Carcinoma</td>\n",
              "      <td>High</td>\n",
              "      <td>0</td>\n",
              "      <td>LumA</td>\n",
              "      <td>1.0</td>\n",
              "      <td>Positve</td>\n",
              "      <td>...</td>\n",
              "      <td>4.020</td>\n",
              "      <td>IDC</td>\n",
              "      <td>84.633333</td>\n",
              "      <td>1</td>\n",
              "      <td>Positive</td>\n",
              "      <td>1</td>\n",
              "      <td>ER+/HER2- High Prolif</td>\n",
              "      <td>10.0</td>\n",
              "      <td>1.0</td>\n",
              "      <td>Living</td>\n",
              "    </tr>\n",
              "    <tr>\n",
              "      <th>2</th>\n",
              "      <td>5</td>\n",
              "      <td>48.87</td>\n",
              "      <td>MASTECTOMY</td>\n",
              "      <td>Breast Cancer</td>\n",
              "      <td>Breast Invasive Ductal Carcinoma</td>\n",
              "      <td>High</td>\n",
              "      <td>1</td>\n",
              "      <td>LumB</td>\n",
              "      <td>1.0</td>\n",
              "      <td>Positve</td>\n",
              "      <td>...</td>\n",
              "      <td>4.030</td>\n",
              "      <td>IDC</td>\n",
              "      <td>163.700000</td>\n",
              "      <td>0</td>\n",
              "      <td>Positive</td>\n",
              "      <td>0</td>\n",
              "      <td>NaN</td>\n",
              "      <td>15.0</td>\n",
              "      <td>2.0</td>\n",
              "      <td>Died of Disease</td>\n",
              "    </tr>\n",
              "    <tr>\n",
              "      <th>3</th>\n",
              "      <td>6</td>\n",
              "      <td>47.68</td>\n",
              "      <td>MASTECTOMY</td>\n",
              "      <td>Breast Cancer</td>\n",
              "      <td>Breast Mixed Ductal and Lobular Carcinoma</td>\n",
              "      <td>Moderate</td>\n",
              "      <td>1</td>\n",
              "      <td>LumB</td>\n",
              "      <td>1.0</td>\n",
              "      <td>Positve</td>\n",
              "      <td>...</td>\n",
              "      <td>4.050</td>\n",
              "      <td>MDLC</td>\n",
              "      <td>164.933333</td>\n",
              "      <td>1</td>\n",
              "      <td>Positive</td>\n",
              "      <td>1</td>\n",
              "      <td>NaN</td>\n",
              "      <td>25.0</td>\n",
              "      <td>2.0</td>\n",
              "      <td>Living</td>\n",
              "    </tr>\n",
              "    <tr>\n",
              "      <th>4</th>\n",
              "      <td>8</td>\n",
              "      <td>76.97</td>\n",
              "      <td>MASTECTOMY</td>\n",
              "      <td>Breast Cancer</td>\n",
              "      <td>Breast Mixed Ductal and Lobular Carcinoma</td>\n",
              "      <td>High</td>\n",
              "      <td>1</td>\n",
              "      <td>LumB</td>\n",
              "      <td>1.0</td>\n",
              "      <td>Positve</td>\n",
              "      <td>...</td>\n",
              "      <td>6.080</td>\n",
              "      <td>MDLC</td>\n",
              "      <td>41.366667</td>\n",
              "      <td>0</td>\n",
              "      <td>Positive</td>\n",
              "      <td>1</td>\n",
              "      <td>ER+/HER2- High Prolif</td>\n",
              "      <td>40.0</td>\n",
              "      <td>2.0</td>\n",
              "      <td>Died of Disease</td>\n",
              "    </tr>\n",
              "    <tr>\n",
              "      <th>...</th>\n",
              "      <td>...</td>\n",
              "      <td>...</td>\n",
              "      <td>...</td>\n",
              "      <td>...</td>\n",
              "      <td>...</td>\n",
              "      <td>...</td>\n",
              "      <td>...</td>\n",
              "      <td>...</td>\n",
              "      <td>...</td>\n",
              "      <td>...</td>\n",
              "      <td>...</td>\n",
              "      <td>...</td>\n",
              "      <td>...</td>\n",
              "      <td>...</td>\n",
              "      <td>...</td>\n",
              "      <td>...</td>\n",
              "      <td>...</td>\n",
              "      <td>...</td>\n",
              "      <td>...</td>\n",
              "      <td>...</td>\n",
              "      <td>...</td>\n",
              "    </tr>\n",
              "    <tr>\n",
              "      <th>1899</th>\n",
              "      <td>7295</td>\n",
              "      <td>43.10</td>\n",
              "      <td>BREAST CONSERVING</td>\n",
              "      <td>Breast Cancer</td>\n",
              "      <td>Breast Invasive Lobular Carcinoma</td>\n",
              "      <td>High</td>\n",
              "      <td>0</td>\n",
              "      <td>LumA</td>\n",
              "      <td>4.0</td>\n",
              "      <td>Positve</td>\n",
              "      <td>...</td>\n",
              "      <td>5.050</td>\n",
              "      <td>ILC</td>\n",
              "      <td>196.866667</td>\n",
              "      <td>1</td>\n",
              "      <td>Positive</td>\n",
              "      <td>1</td>\n",
              "      <td>ER+/HER2- Low Prolif</td>\n",
              "      <td>25.0</td>\n",
              "      <td>NaN</td>\n",
              "      <td>Living</td>\n",
              "    </tr>\n",
              "    <tr>\n",
              "      <th>1900</th>\n",
              "      <td>7296</td>\n",
              "      <td>42.88</td>\n",
              "      <td>MASTECTOMY</td>\n",
              "      <td>Breast Cancer</td>\n",
              "      <td>Breast Invasive Ductal Carcinoma</td>\n",
              "      <td>High</td>\n",
              "      <td>0</td>\n",
              "      <td>LumB</td>\n",
              "      <td>4.0</td>\n",
              "      <td>Positve</td>\n",
              "      <td>...</td>\n",
              "      <td>5.040</td>\n",
              "      <td>IDC</td>\n",
              "      <td>44.733333</td>\n",
              "      <td>0</td>\n",
              "      <td>Negative</td>\n",
              "      <td>1</td>\n",
              "      <td>NaN</td>\n",
              "      <td>20.0</td>\n",
              "      <td>NaN</td>\n",
              "      <td>Died of Disease</td>\n",
              "    </tr>\n",
              "    <tr>\n",
              "      <th>1901</th>\n",
              "      <td>7297</td>\n",
              "      <td>62.90</td>\n",
              "      <td>MASTECTOMY</td>\n",
              "      <td>Breast Cancer</td>\n",
              "      <td>Breast Invasive Ductal Carcinoma</td>\n",
              "      <td>High</td>\n",
              "      <td>0</td>\n",
              "      <td>LumB</td>\n",
              "      <td>4.0</td>\n",
              "      <td>Positve</td>\n",
              "      <td>...</td>\n",
              "      <td>6.050</td>\n",
              "      <td>IDC</td>\n",
              "      <td>175.966667</td>\n",
              "      <td>0</td>\n",
              "      <td>Positive</td>\n",
              "      <td>1</td>\n",
              "      <td>NaN</td>\n",
              "      <td>25.0</td>\n",
              "      <td>NaN</td>\n",
              "      <td>Died of Disease</td>\n",
              "    </tr>\n",
              "    <tr>\n",
              "      <th>1902</th>\n",
              "      <td>7298</td>\n",
              "      <td>61.16</td>\n",
              "      <td>MASTECTOMY</td>\n",
              "      <td>Breast Cancer</td>\n",
              "      <td>Breast Invasive Ductal Carcinoma</td>\n",
              "      <td>Moderate</td>\n",
              "      <td>0</td>\n",
              "      <td>LumB</td>\n",
              "      <td>4.0</td>\n",
              "      <td>Positve</td>\n",
              "      <td>...</td>\n",
              "      <td>5.050</td>\n",
              "      <td>IDC</td>\n",
              "      <td>86.233333</td>\n",
              "      <td>0</td>\n",
              "      <td>Positive</td>\n",
              "      <td>0</td>\n",
              "      <td>ER+/HER2- High Prolif</td>\n",
              "      <td>25.0</td>\n",
              "      <td>NaN</td>\n",
              "      <td>Died of Other Causes</td>\n",
              "    </tr>\n",
              "    <tr>\n",
              "      <th>1903</th>\n",
              "      <td>7299</td>\n",
              "      <td>60.02</td>\n",
              "      <td>BREAST CONSERVING</td>\n",
              "      <td>Breast Cancer</td>\n",
              "      <td>Breast Invasive Ductal Carcinoma</td>\n",
              "      <td>High</td>\n",
              "      <td>0</td>\n",
              "      <td>LumB</td>\n",
              "      <td>4.0</td>\n",
              "      <td>Positve</td>\n",
              "      <td>...</td>\n",
              "      <td>5.040</td>\n",
              "      <td>IDC</td>\n",
              "      <td>201.900000</td>\n",
              "      <td>0</td>\n",
              "      <td>Negative</td>\n",
              "      <td>1</td>\n",
              "      <td>ER+/HER2- High Prolif</td>\n",
              "      <td>20.0</td>\n",
              "      <td>NaN</td>\n",
              "      <td>Died of Other Causes</td>\n",
              "    </tr>\n",
              "  </tbody>\n",
              "</table>\n",
              "<p>1904 rows × 31 columns</p>\n",
              "</div>\n",
              "      <button class=\"colab-df-convert\" onclick=\"convertToInteractive('df-cff3f498-364e-4e07-b154-410f40bdf125')\"\n",
              "              title=\"Convert this dataframe to an interactive table.\"\n",
              "              style=\"display:none;\">\n",
              "        \n",
              "  <svg xmlns=\"http://www.w3.org/2000/svg\" height=\"24px\"viewBox=\"0 0 24 24\"\n",
              "       width=\"24px\">\n",
              "    <path d=\"M0 0h24v24H0V0z\" fill=\"none\"/>\n",
              "    <path d=\"M18.56 5.44l.94 2.06.94-2.06 2.06-.94-2.06-.94-.94-2.06-.94 2.06-2.06.94zm-11 1L8.5 8.5l.94-2.06 2.06-.94-2.06-.94L8.5 2.5l-.94 2.06-2.06.94zm10 10l.94 2.06.94-2.06 2.06-.94-2.06-.94-.94-2.06-.94 2.06-2.06.94z\"/><path d=\"M17.41 7.96l-1.37-1.37c-.4-.4-.92-.59-1.43-.59-.52 0-1.04.2-1.43.59L10.3 9.45l-7.72 7.72c-.78.78-.78 2.05 0 2.83L4 21.41c.39.39.9.59 1.41.59.51 0 1.02-.2 1.41-.59l7.78-7.78 2.81-2.81c.8-.78.8-2.07 0-2.86zM5.41 20L4 18.59l7.72-7.72 1.47 1.35L5.41 20z\"/>\n",
              "  </svg>\n",
              "      </button>\n",
              "      \n",
              "  <style>\n",
              "    .colab-df-container {\n",
              "      display:flex;\n",
              "      flex-wrap:wrap;\n",
              "      gap: 12px;\n",
              "    }\n",
              "\n",
              "    .colab-df-convert {\n",
              "      background-color: #E8F0FE;\n",
              "      border: none;\n",
              "      border-radius: 50%;\n",
              "      cursor: pointer;\n",
              "      display: none;\n",
              "      fill: #1967D2;\n",
              "      height: 32px;\n",
              "      padding: 0 0 0 0;\n",
              "      width: 32px;\n",
              "    }\n",
              "\n",
              "    .colab-df-convert:hover {\n",
              "      background-color: #E2EBFA;\n",
              "      box-shadow: 0px 1px 2px rgba(60, 64, 67, 0.3), 0px 1px 3px 1px rgba(60, 64, 67, 0.15);\n",
              "      fill: #174EA6;\n",
              "    }\n",
              "\n",
              "    [theme=dark] .colab-df-convert {\n",
              "      background-color: #3B4455;\n",
              "      fill: #D2E3FC;\n",
              "    }\n",
              "\n",
              "    [theme=dark] .colab-df-convert:hover {\n",
              "      background-color: #434B5C;\n",
              "      box-shadow: 0px 1px 3px 1px rgba(0, 0, 0, 0.15);\n",
              "      filter: drop-shadow(0px 1px 2px rgba(0, 0, 0, 0.3));\n",
              "      fill: #FFFFFF;\n",
              "    }\n",
              "  </style>\n",
              "\n",
              "      <script>\n",
              "        const buttonEl =\n",
              "          document.querySelector('#df-cff3f498-364e-4e07-b154-410f40bdf125 button.colab-df-convert');\n",
              "        buttonEl.style.display =\n",
              "          google.colab.kernel.accessAllowed ? 'block' : 'none';\n",
              "\n",
              "        async function convertToInteractive(key) {\n",
              "          const element = document.querySelector('#df-cff3f498-364e-4e07-b154-410f40bdf125');\n",
              "          const dataTable =\n",
              "            await google.colab.kernel.invokeFunction('convertToInteractive',\n",
              "                                                     [key], {});\n",
              "          if (!dataTable) return;\n",
              "\n",
              "          const docLinkHtml = 'Like what you see? Visit the ' +\n",
              "            '<a target=\"_blank\" href=https://colab.research.google.com/notebooks/data_table.ipynb>data table notebook</a>'\n",
              "            + ' to learn more about interactive tables.';\n",
              "          element.innerHTML = '';\n",
              "          dataTable['output_type'] = 'display_data';\n",
              "          await google.colab.output.renderOutput(dataTable, element);\n",
              "          const docLink = document.createElement('div');\n",
              "          docLink.innerHTML = docLinkHtml;\n",
              "          element.appendChild(docLink);\n",
              "        }\n",
              "      </script>\n",
              "    </div>\n",
              "  </div>\n",
              "  "
            ]
          },
          "metadata": {},
          "execution_count": 4
        }
      ]
    },
    {
      "cell_type": "markdown",
      "id": "aebfdb6b",
      "metadata": {
        "id": "aebfdb6b"
      },
      "source": [
        "## EDA"
      ]
    },
    {
      "cell_type": "markdown",
      "id": "e87d59d7",
      "metadata": {
        "id": "e87d59d7"
      },
      "source": [
        "For each dataset, you must perform a sufficient EDA."
      ]
    },
    {
      "cell_type": "markdown",
      "source": [
        "### <font color='GoldenRod'>**EDA for clinical dataset**</font> "
      ],
      "metadata": {
        "id": "W_atrETRj6eb"
      },
      "id": "W_atrETRj6eb"
    },
    {
      "cell_type": "code",
      "execution_count": null,
      "id": "d3815455",
      "metadata": {
        "colab": {
          "base_uri": "https://localhost:8080/",
          "height": 387
        },
        "id": "d3815455",
        "outputId": "94d7f9e8-d2d9-483c-c146-da5d738f24d1"
      },
      "outputs": [
        {
          "output_type": "execute_result",
          "data": {
            "text/plain": [
              "   patient_id  age_at_diagnosis type_of_breast_surgery    cancer_type  \\\n",
              "0           0             75.65             MASTECTOMY  Breast Cancer   \n",
              "1           2             43.19      BREAST CONSERVING  Breast Cancer   \n",
              "2           5             48.87             MASTECTOMY  Breast Cancer   \n",
              "3           6             47.68             MASTECTOMY  Breast Cancer   \n",
              "4           8             76.97             MASTECTOMY  Breast Cancer   \n",
              "\n",
              "                        cancer_type_detailed cellularity  chemotherapy  \\\n",
              "0           Breast Invasive Ductal Carcinoma         NaN             0   \n",
              "1           Breast Invasive Ductal Carcinoma        High             0   \n",
              "2           Breast Invasive Ductal Carcinoma        High             1   \n",
              "3  Breast Mixed Ductal and Lobular Carcinoma    Moderate             1   \n",
              "4  Breast Mixed Ductal and Lobular Carcinoma        High             1   \n",
              "\n",
              "  pam50_+_claudin-low_subtype  cohort er_status_measured_by_ihc  ...  \\\n",
              "0                 claudin-low     1.0                   Positve  ...   \n",
              "1                        LumA     1.0                   Positve  ...   \n",
              "2                        LumB     1.0                   Positve  ...   \n",
              "3                        LumB     1.0                   Positve  ...   \n",
              "4                        LumB     1.0                   Positve  ...   \n",
              "\n",
              "  nottingham_prognostic_index  oncotree_code overall_survival_months  \\\n",
              "0                       6.044            IDC              140.500000   \n",
              "1                       4.020            IDC               84.633333   \n",
              "2                       4.030            IDC              163.700000   \n",
              "3                       4.050           MDLC              164.933333   \n",
              "4                       6.080           MDLC               41.366667   \n",
              "\n",
              "  overall_survival pr_status  radio_therapy 3-gene_classifier_subtype  \\\n",
              "0                1  Negative              1                 ER-/HER2-   \n",
              "1                1  Positive              1     ER+/HER2- High Prolif   \n",
              "2                0  Positive              0                       NaN   \n",
              "3                1  Positive              1                       NaN   \n",
              "4                0  Positive              1     ER+/HER2- High Prolif   \n",
              "\n",
              "  tumor_size tumor_stage  death_from_cancer  \n",
              "0       22.0         2.0             Living  \n",
              "1       10.0         1.0             Living  \n",
              "2       15.0         2.0    Died of Disease  \n",
              "3       25.0         2.0             Living  \n",
              "4       40.0         2.0    Died of Disease  \n",
              "\n",
              "[5 rows x 31 columns]"
            ],
            "text/html": [
              "\n",
              "  <div id=\"df-307e3efc-22c9-4f5f-9424-0394f2cf40a8\">\n",
              "    <div class=\"colab-df-container\">\n",
              "      <div>\n",
              "<style scoped>\n",
              "    .dataframe tbody tr th:only-of-type {\n",
              "        vertical-align: middle;\n",
              "    }\n",
              "\n",
              "    .dataframe tbody tr th {\n",
              "        vertical-align: top;\n",
              "    }\n",
              "\n",
              "    .dataframe thead th {\n",
              "        text-align: right;\n",
              "    }\n",
              "</style>\n",
              "<table border=\"1\" class=\"dataframe\">\n",
              "  <thead>\n",
              "    <tr style=\"text-align: right;\">\n",
              "      <th></th>\n",
              "      <th>patient_id</th>\n",
              "      <th>age_at_diagnosis</th>\n",
              "      <th>type_of_breast_surgery</th>\n",
              "      <th>cancer_type</th>\n",
              "      <th>cancer_type_detailed</th>\n",
              "      <th>cellularity</th>\n",
              "      <th>chemotherapy</th>\n",
              "      <th>pam50_+_claudin-low_subtype</th>\n",
              "      <th>cohort</th>\n",
              "      <th>er_status_measured_by_ihc</th>\n",
              "      <th>...</th>\n",
              "      <th>nottingham_prognostic_index</th>\n",
              "      <th>oncotree_code</th>\n",
              "      <th>overall_survival_months</th>\n",
              "      <th>overall_survival</th>\n",
              "      <th>pr_status</th>\n",
              "      <th>radio_therapy</th>\n",
              "      <th>3-gene_classifier_subtype</th>\n",
              "      <th>tumor_size</th>\n",
              "      <th>tumor_stage</th>\n",
              "      <th>death_from_cancer</th>\n",
              "    </tr>\n",
              "  </thead>\n",
              "  <tbody>\n",
              "    <tr>\n",
              "      <th>0</th>\n",
              "      <td>0</td>\n",
              "      <td>75.65</td>\n",
              "      <td>MASTECTOMY</td>\n",
              "      <td>Breast Cancer</td>\n",
              "      <td>Breast Invasive Ductal Carcinoma</td>\n",
              "      <td>NaN</td>\n",
              "      <td>0</td>\n",
              "      <td>claudin-low</td>\n",
              "      <td>1.0</td>\n",
              "      <td>Positve</td>\n",
              "      <td>...</td>\n",
              "      <td>6.044</td>\n",
              "      <td>IDC</td>\n",
              "      <td>140.500000</td>\n",
              "      <td>1</td>\n",
              "      <td>Negative</td>\n",
              "      <td>1</td>\n",
              "      <td>ER-/HER2-</td>\n",
              "      <td>22.0</td>\n",
              "      <td>2.0</td>\n",
              "      <td>Living</td>\n",
              "    </tr>\n",
              "    <tr>\n",
              "      <th>1</th>\n",
              "      <td>2</td>\n",
              "      <td>43.19</td>\n",
              "      <td>BREAST CONSERVING</td>\n",
              "      <td>Breast Cancer</td>\n",
              "      <td>Breast Invasive Ductal Carcinoma</td>\n",
              "      <td>High</td>\n",
              "      <td>0</td>\n",
              "      <td>LumA</td>\n",
              "      <td>1.0</td>\n",
              "      <td>Positve</td>\n",
              "      <td>...</td>\n",
              "      <td>4.020</td>\n",
              "      <td>IDC</td>\n",
              "      <td>84.633333</td>\n",
              "      <td>1</td>\n",
              "      <td>Positive</td>\n",
              "      <td>1</td>\n",
              "      <td>ER+/HER2- High Prolif</td>\n",
              "      <td>10.0</td>\n",
              "      <td>1.0</td>\n",
              "      <td>Living</td>\n",
              "    </tr>\n",
              "    <tr>\n",
              "      <th>2</th>\n",
              "      <td>5</td>\n",
              "      <td>48.87</td>\n",
              "      <td>MASTECTOMY</td>\n",
              "      <td>Breast Cancer</td>\n",
              "      <td>Breast Invasive Ductal Carcinoma</td>\n",
              "      <td>High</td>\n",
              "      <td>1</td>\n",
              "      <td>LumB</td>\n",
              "      <td>1.0</td>\n",
              "      <td>Positve</td>\n",
              "      <td>...</td>\n",
              "      <td>4.030</td>\n",
              "      <td>IDC</td>\n",
              "      <td>163.700000</td>\n",
              "      <td>0</td>\n",
              "      <td>Positive</td>\n",
              "      <td>0</td>\n",
              "      <td>NaN</td>\n",
              "      <td>15.0</td>\n",
              "      <td>2.0</td>\n",
              "      <td>Died of Disease</td>\n",
              "    </tr>\n",
              "    <tr>\n",
              "      <th>3</th>\n",
              "      <td>6</td>\n",
              "      <td>47.68</td>\n",
              "      <td>MASTECTOMY</td>\n",
              "      <td>Breast Cancer</td>\n",
              "      <td>Breast Mixed Ductal and Lobular Carcinoma</td>\n",
              "      <td>Moderate</td>\n",
              "      <td>1</td>\n",
              "      <td>LumB</td>\n",
              "      <td>1.0</td>\n",
              "      <td>Positve</td>\n",
              "      <td>...</td>\n",
              "      <td>4.050</td>\n",
              "      <td>MDLC</td>\n",
              "      <td>164.933333</td>\n",
              "      <td>1</td>\n",
              "      <td>Positive</td>\n",
              "      <td>1</td>\n",
              "      <td>NaN</td>\n",
              "      <td>25.0</td>\n",
              "      <td>2.0</td>\n",
              "      <td>Living</td>\n",
              "    </tr>\n",
              "    <tr>\n",
              "      <th>4</th>\n",
              "      <td>8</td>\n",
              "      <td>76.97</td>\n",
              "      <td>MASTECTOMY</td>\n",
              "      <td>Breast Cancer</td>\n",
              "      <td>Breast Mixed Ductal and Lobular Carcinoma</td>\n",
              "      <td>High</td>\n",
              "      <td>1</td>\n",
              "      <td>LumB</td>\n",
              "      <td>1.0</td>\n",
              "      <td>Positve</td>\n",
              "      <td>...</td>\n",
              "      <td>6.080</td>\n",
              "      <td>MDLC</td>\n",
              "      <td>41.366667</td>\n",
              "      <td>0</td>\n",
              "      <td>Positive</td>\n",
              "      <td>1</td>\n",
              "      <td>ER+/HER2- High Prolif</td>\n",
              "      <td>40.0</td>\n",
              "      <td>2.0</td>\n",
              "      <td>Died of Disease</td>\n",
              "    </tr>\n",
              "  </tbody>\n",
              "</table>\n",
              "<p>5 rows × 31 columns</p>\n",
              "</div>\n",
              "      <button class=\"colab-df-convert\" onclick=\"convertToInteractive('df-307e3efc-22c9-4f5f-9424-0394f2cf40a8')\"\n",
              "              title=\"Convert this dataframe to an interactive table.\"\n",
              "              style=\"display:none;\">\n",
              "        \n",
              "  <svg xmlns=\"http://www.w3.org/2000/svg\" height=\"24px\"viewBox=\"0 0 24 24\"\n",
              "       width=\"24px\">\n",
              "    <path d=\"M0 0h24v24H0V0z\" fill=\"none\"/>\n",
              "    <path d=\"M18.56 5.44l.94 2.06.94-2.06 2.06-.94-2.06-.94-.94-2.06-.94 2.06-2.06.94zm-11 1L8.5 8.5l.94-2.06 2.06-.94-2.06-.94L8.5 2.5l-.94 2.06-2.06.94zm10 10l.94 2.06.94-2.06 2.06-.94-2.06-.94-.94-2.06-.94 2.06-2.06.94z\"/><path d=\"M17.41 7.96l-1.37-1.37c-.4-.4-.92-.59-1.43-.59-.52 0-1.04.2-1.43.59L10.3 9.45l-7.72 7.72c-.78.78-.78 2.05 0 2.83L4 21.41c.39.39.9.59 1.41.59.51 0 1.02-.2 1.41-.59l7.78-7.78 2.81-2.81c.8-.78.8-2.07 0-2.86zM5.41 20L4 18.59l7.72-7.72 1.47 1.35L5.41 20z\"/>\n",
              "  </svg>\n",
              "      </button>\n",
              "      \n",
              "  <style>\n",
              "    .colab-df-container {\n",
              "      display:flex;\n",
              "      flex-wrap:wrap;\n",
              "      gap: 12px;\n",
              "    }\n",
              "\n",
              "    .colab-df-convert {\n",
              "      background-color: #E8F0FE;\n",
              "      border: none;\n",
              "      border-radius: 50%;\n",
              "      cursor: pointer;\n",
              "      display: none;\n",
              "      fill: #1967D2;\n",
              "      height: 32px;\n",
              "      padding: 0 0 0 0;\n",
              "      width: 32px;\n",
              "    }\n",
              "\n",
              "    .colab-df-convert:hover {\n",
              "      background-color: #E2EBFA;\n",
              "      box-shadow: 0px 1px 2px rgba(60, 64, 67, 0.3), 0px 1px 3px 1px rgba(60, 64, 67, 0.15);\n",
              "      fill: #174EA6;\n",
              "    }\n",
              "\n",
              "    [theme=dark] .colab-df-convert {\n",
              "      background-color: #3B4455;\n",
              "      fill: #D2E3FC;\n",
              "    }\n",
              "\n",
              "    [theme=dark] .colab-df-convert:hover {\n",
              "      background-color: #434B5C;\n",
              "      box-shadow: 0px 1px 3px 1px rgba(0, 0, 0, 0.15);\n",
              "      filter: drop-shadow(0px 1px 2px rgba(0, 0, 0, 0.3));\n",
              "      fill: #FFFFFF;\n",
              "    }\n",
              "  </style>\n",
              "\n",
              "      <script>\n",
              "        const buttonEl =\n",
              "          document.querySelector('#df-307e3efc-22c9-4f5f-9424-0394f2cf40a8 button.colab-df-convert');\n",
              "        buttonEl.style.display =\n",
              "          google.colab.kernel.accessAllowed ? 'block' : 'none';\n",
              "\n",
              "        async function convertToInteractive(key) {\n",
              "          const element = document.querySelector('#df-307e3efc-22c9-4f5f-9424-0394f2cf40a8');\n",
              "          const dataTable =\n",
              "            await google.colab.kernel.invokeFunction('convertToInteractive',\n",
              "                                                     [key], {});\n",
              "          if (!dataTable) return;\n",
              "\n",
              "          const docLinkHtml = 'Like what you see? Visit the ' +\n",
              "            '<a target=\"_blank\" href=https://colab.research.google.com/notebooks/data_table.ipynb>data table notebook</a>'\n",
              "            + ' to learn more about interactive tables.';\n",
              "          element.innerHTML = '';\n",
              "          dataTable['output_type'] = 'display_data';\n",
              "          await google.colab.output.renderOutput(dataTable, element);\n",
              "          const docLink = document.createElement('div');\n",
              "          docLink.innerHTML = docLinkHtml;\n",
              "          element.appendChild(docLink);\n",
              "        }\n",
              "      </script>\n",
              "    </div>\n",
              "  </div>\n",
              "  "
            ]
          },
          "metadata": {},
          "execution_count": 5
        }
      ],
      "source": [
        "# For clinical\n",
        "df_clinical.head()"
      ]
    },
    {
      "cell_type": "code",
      "source": [
        "df_clinical.shape"
      ],
      "metadata": {
        "colab": {
          "base_uri": "https://localhost:8080/"
        },
        "id": "NL2QCbsfVmx4",
        "outputId": "b6672f42-2cc5-44fc-9af2-b21744a662ab"
      },
      "id": "NL2QCbsfVmx4",
      "execution_count": null,
      "outputs": [
        {
          "output_type": "execute_result",
          "data": {
            "text/plain": [
              "(1904, 31)"
            ]
          },
          "metadata": {},
          "execution_count": 6
        }
      ]
    },
    {
      "cell_type": "markdown",
      "source": [
        "We are going to predict overall_survival. So we drop that and death_from_cancer because they are kind of the same!"
      ],
      "metadata": {
        "id": "vQloPMISlGO0"
      },
      "id": "vQloPMISlGO0"
    },
    {
      "cell_type": "code",
      "source": [
        "df_clinical = df_clinical.drop('overall_survival', axis=1)\n",
        "df_clinical = df_clinical.drop('death_from_cancer', axis=1)"
      ],
      "metadata": {
        "id": "tmUpF-ekbpY6"
      },
      "id": "tmUpF-ekbpY6",
      "execution_count": null,
      "outputs": []
    },
    {
      "cell_type": "code",
      "source": [
        "df_clinical.info()"
      ],
      "metadata": {
        "colab": {
          "base_uri": "https://localhost:8080/"
        },
        "id": "_QeWyzu3mYdC",
        "outputId": "edf54d7b-4fc5-4bdd-f847-f27865e4b88d"
      },
      "id": "_QeWyzu3mYdC",
      "execution_count": null,
      "outputs": [
        {
          "output_type": "stream",
          "name": "stdout",
          "text": [
            "<class 'pandas.core.frame.DataFrame'>\n",
            "RangeIndex: 1904 entries, 0 to 1903\n",
            "Data columns (total 29 columns):\n",
            " #   Column                          Non-Null Count  Dtype  \n",
            "---  ------                          --------------  -----  \n",
            " 0   patient_id                      1904 non-null   int64  \n",
            " 1   age_at_diagnosis                1904 non-null   float64\n",
            " 2   type_of_breast_surgery          1882 non-null   object \n",
            " 3   cancer_type                     1904 non-null   object \n",
            " 4   cancer_type_detailed            1889 non-null   object \n",
            " 5   cellularity                     1850 non-null   object \n",
            " 6   chemotherapy                    1904 non-null   int64  \n",
            " 7   pam50_+_claudin-low_subtype     1904 non-null   object \n",
            " 8   cohort                          1904 non-null   float64\n",
            " 9   er_status_measured_by_ihc       1874 non-null   object \n",
            " 10  er_status                       1904 non-null   object \n",
            " 11  neoplasm_histologic_grade       1832 non-null   float64\n",
            " 12  her2_status_measured_by_snp6    1904 non-null   object \n",
            " 13  her2_status                     1904 non-null   object \n",
            " 14  tumor_other_histologic_subtype  1889 non-null   object \n",
            " 15  hormone_therapy                 1904 non-null   int64  \n",
            " 16  inferred_menopausal_state       1904 non-null   object \n",
            " 17  integrative_cluster             1904 non-null   object \n",
            " 18  primary_tumor_laterality        1798 non-null   object \n",
            " 19  lymph_nodes_examined_positive   1904 non-null   float64\n",
            " 20  mutation_count                  1859 non-null   float64\n",
            " 21  nottingham_prognostic_index     1904 non-null   float64\n",
            " 22  oncotree_code                   1889 non-null   object \n",
            " 23  overall_survival_months         1904 non-null   float64\n",
            " 24  pr_status                       1904 non-null   object \n",
            " 25  radio_therapy                   1904 non-null   int64  \n",
            " 26  3-gene_classifier_subtype       1700 non-null   object \n",
            " 27  tumor_size                      1884 non-null   float64\n",
            " 28  tumor_stage                     1403 non-null   float64\n",
            "dtypes: float64(9), int64(4), object(16)\n",
            "memory usage: 431.5+ KB\n"
          ]
        }
      ]
    },
    {
      "cell_type": "markdown",
      "source": [
        "We can see that there are several null data in df_clinical."
      ],
      "metadata": {
        "id": "AlFeWLzEY_BC"
      },
      "id": "AlFeWLzEY_BC"
    },
    {
      "cell_type": "code",
      "source": [
        "df_clinical.describe()"
      ],
      "metadata": {
        "colab": {
          "base_uri": "https://localhost:8080/",
          "height": 349
        },
        "id": "E_njy19EmshL",
        "outputId": "27390482-c649-4101-a9b6-1fa40cdcb4b9"
      },
      "id": "E_njy19EmshL",
      "execution_count": null,
      "outputs": [
        {
          "output_type": "execute_result",
          "data": {
            "text/plain": [
              "        patient_id  age_at_diagnosis  chemotherapy       cohort  \\\n",
              "count  1904.000000       1904.000000   1904.000000  1904.000000   \n",
              "mean   3921.982143         61.087054      0.207983     2.643908   \n",
              "std    2358.478332         12.978711      0.405971     1.228615   \n",
              "min       0.000000         21.930000      0.000000     1.000000   \n",
              "25%     896.500000         51.375000      0.000000     1.000000   \n",
              "50%    4730.500000         61.770000      0.000000     3.000000   \n",
              "75%    5536.250000         70.592500      0.000000     3.000000   \n",
              "max    7299.000000         96.290000      1.000000     5.000000   \n",
              "\n",
              "       neoplasm_histologic_grade  hormone_therapy  \\\n",
              "count                1832.000000      1904.000000   \n",
              "mean                    2.415939         0.616597   \n",
              "std                     0.650612         0.486343   \n",
              "min                     1.000000         0.000000   \n",
              "25%                     2.000000         0.000000   \n",
              "50%                     3.000000         1.000000   \n",
              "75%                     3.000000         1.000000   \n",
              "max                     3.000000         1.000000   \n",
              "\n",
              "       lymph_nodes_examined_positive  mutation_count  \\\n",
              "count                    1904.000000     1859.000000   \n",
              "mean                        2.002101        5.697687   \n",
              "std                         4.079993        4.058778   \n",
              "min                         0.000000        1.000000   \n",
              "25%                         0.000000        3.000000   \n",
              "50%                         0.000000        5.000000   \n",
              "75%                         2.000000        7.000000   \n",
              "max                        45.000000       80.000000   \n",
              "\n",
              "       nottingham_prognostic_index  overall_survival_months  radio_therapy  \\\n",
              "count                  1904.000000              1904.000000    1904.000000   \n",
              "mean                      4.033019               125.121324       0.597164   \n",
              "std                       1.144492                76.334148       0.490597   \n",
              "min                       1.000000                 0.000000       0.000000   \n",
              "25%                       3.046000                60.825000       0.000000   \n",
              "50%                       4.042000               115.616667       1.000000   \n",
              "75%                       5.040250               184.716667       1.000000   \n",
              "max                       6.360000               355.200000       1.000000   \n",
              "\n",
              "        tumor_size  tumor_stage  \n",
              "count  1884.000000  1403.000000  \n",
              "mean     26.238726     1.750535  \n",
              "std      15.160976     0.628999  \n",
              "min       1.000000     0.000000  \n",
              "25%      17.000000     1.000000  \n",
              "50%      23.000000     2.000000  \n",
              "75%      30.000000     2.000000  \n",
              "max     182.000000     4.000000  "
            ],
            "text/html": [
              "\n",
              "  <div id=\"df-5ec70000-68a1-44d1-8e62-05e3f7c68bb9\">\n",
              "    <div class=\"colab-df-container\">\n",
              "      <div>\n",
              "<style scoped>\n",
              "    .dataframe tbody tr th:only-of-type {\n",
              "        vertical-align: middle;\n",
              "    }\n",
              "\n",
              "    .dataframe tbody tr th {\n",
              "        vertical-align: top;\n",
              "    }\n",
              "\n",
              "    .dataframe thead th {\n",
              "        text-align: right;\n",
              "    }\n",
              "</style>\n",
              "<table border=\"1\" class=\"dataframe\">\n",
              "  <thead>\n",
              "    <tr style=\"text-align: right;\">\n",
              "      <th></th>\n",
              "      <th>patient_id</th>\n",
              "      <th>age_at_diagnosis</th>\n",
              "      <th>chemotherapy</th>\n",
              "      <th>cohort</th>\n",
              "      <th>neoplasm_histologic_grade</th>\n",
              "      <th>hormone_therapy</th>\n",
              "      <th>lymph_nodes_examined_positive</th>\n",
              "      <th>mutation_count</th>\n",
              "      <th>nottingham_prognostic_index</th>\n",
              "      <th>overall_survival_months</th>\n",
              "      <th>radio_therapy</th>\n",
              "      <th>tumor_size</th>\n",
              "      <th>tumor_stage</th>\n",
              "    </tr>\n",
              "  </thead>\n",
              "  <tbody>\n",
              "    <tr>\n",
              "      <th>count</th>\n",
              "      <td>1904.000000</td>\n",
              "      <td>1904.000000</td>\n",
              "      <td>1904.000000</td>\n",
              "      <td>1904.000000</td>\n",
              "      <td>1832.000000</td>\n",
              "      <td>1904.000000</td>\n",
              "      <td>1904.000000</td>\n",
              "      <td>1859.000000</td>\n",
              "      <td>1904.000000</td>\n",
              "      <td>1904.000000</td>\n",
              "      <td>1904.000000</td>\n",
              "      <td>1884.000000</td>\n",
              "      <td>1403.000000</td>\n",
              "    </tr>\n",
              "    <tr>\n",
              "      <th>mean</th>\n",
              "      <td>3921.982143</td>\n",
              "      <td>61.087054</td>\n",
              "      <td>0.207983</td>\n",
              "      <td>2.643908</td>\n",
              "      <td>2.415939</td>\n",
              "      <td>0.616597</td>\n",
              "      <td>2.002101</td>\n",
              "      <td>5.697687</td>\n",
              "      <td>4.033019</td>\n",
              "      <td>125.121324</td>\n",
              "      <td>0.597164</td>\n",
              "      <td>26.238726</td>\n",
              "      <td>1.750535</td>\n",
              "    </tr>\n",
              "    <tr>\n",
              "      <th>std</th>\n",
              "      <td>2358.478332</td>\n",
              "      <td>12.978711</td>\n",
              "      <td>0.405971</td>\n",
              "      <td>1.228615</td>\n",
              "      <td>0.650612</td>\n",
              "      <td>0.486343</td>\n",
              "      <td>4.079993</td>\n",
              "      <td>4.058778</td>\n",
              "      <td>1.144492</td>\n",
              "      <td>76.334148</td>\n",
              "      <td>0.490597</td>\n",
              "      <td>15.160976</td>\n",
              "      <td>0.628999</td>\n",
              "    </tr>\n",
              "    <tr>\n",
              "      <th>min</th>\n",
              "      <td>0.000000</td>\n",
              "      <td>21.930000</td>\n",
              "      <td>0.000000</td>\n",
              "      <td>1.000000</td>\n",
              "      <td>1.000000</td>\n",
              "      <td>0.000000</td>\n",
              "      <td>0.000000</td>\n",
              "      <td>1.000000</td>\n",
              "      <td>1.000000</td>\n",
              "      <td>0.000000</td>\n",
              "      <td>0.000000</td>\n",
              "      <td>1.000000</td>\n",
              "      <td>0.000000</td>\n",
              "    </tr>\n",
              "    <tr>\n",
              "      <th>25%</th>\n",
              "      <td>896.500000</td>\n",
              "      <td>51.375000</td>\n",
              "      <td>0.000000</td>\n",
              "      <td>1.000000</td>\n",
              "      <td>2.000000</td>\n",
              "      <td>0.000000</td>\n",
              "      <td>0.000000</td>\n",
              "      <td>3.000000</td>\n",
              "      <td>3.046000</td>\n",
              "      <td>60.825000</td>\n",
              "      <td>0.000000</td>\n",
              "      <td>17.000000</td>\n",
              "      <td>1.000000</td>\n",
              "    </tr>\n",
              "    <tr>\n",
              "      <th>50%</th>\n",
              "      <td>4730.500000</td>\n",
              "      <td>61.770000</td>\n",
              "      <td>0.000000</td>\n",
              "      <td>3.000000</td>\n",
              "      <td>3.000000</td>\n",
              "      <td>1.000000</td>\n",
              "      <td>0.000000</td>\n",
              "      <td>5.000000</td>\n",
              "      <td>4.042000</td>\n",
              "      <td>115.616667</td>\n",
              "      <td>1.000000</td>\n",
              "      <td>23.000000</td>\n",
              "      <td>2.000000</td>\n",
              "    </tr>\n",
              "    <tr>\n",
              "      <th>75%</th>\n",
              "      <td>5536.250000</td>\n",
              "      <td>70.592500</td>\n",
              "      <td>0.000000</td>\n",
              "      <td>3.000000</td>\n",
              "      <td>3.000000</td>\n",
              "      <td>1.000000</td>\n",
              "      <td>2.000000</td>\n",
              "      <td>7.000000</td>\n",
              "      <td>5.040250</td>\n",
              "      <td>184.716667</td>\n",
              "      <td>1.000000</td>\n",
              "      <td>30.000000</td>\n",
              "      <td>2.000000</td>\n",
              "    </tr>\n",
              "    <tr>\n",
              "      <th>max</th>\n",
              "      <td>7299.000000</td>\n",
              "      <td>96.290000</td>\n",
              "      <td>1.000000</td>\n",
              "      <td>5.000000</td>\n",
              "      <td>3.000000</td>\n",
              "      <td>1.000000</td>\n",
              "      <td>45.000000</td>\n",
              "      <td>80.000000</td>\n",
              "      <td>6.360000</td>\n",
              "      <td>355.200000</td>\n",
              "      <td>1.000000</td>\n",
              "      <td>182.000000</td>\n",
              "      <td>4.000000</td>\n",
              "    </tr>\n",
              "  </tbody>\n",
              "</table>\n",
              "</div>\n",
              "      <button class=\"colab-df-convert\" onclick=\"convertToInteractive('df-5ec70000-68a1-44d1-8e62-05e3f7c68bb9')\"\n",
              "              title=\"Convert this dataframe to an interactive table.\"\n",
              "              style=\"display:none;\">\n",
              "        \n",
              "  <svg xmlns=\"http://www.w3.org/2000/svg\" height=\"24px\"viewBox=\"0 0 24 24\"\n",
              "       width=\"24px\">\n",
              "    <path d=\"M0 0h24v24H0V0z\" fill=\"none\"/>\n",
              "    <path d=\"M18.56 5.44l.94 2.06.94-2.06 2.06-.94-2.06-.94-.94-2.06-.94 2.06-2.06.94zm-11 1L8.5 8.5l.94-2.06 2.06-.94-2.06-.94L8.5 2.5l-.94 2.06-2.06.94zm10 10l.94 2.06.94-2.06 2.06-.94-2.06-.94-.94-2.06-.94 2.06-2.06.94z\"/><path d=\"M17.41 7.96l-1.37-1.37c-.4-.4-.92-.59-1.43-.59-.52 0-1.04.2-1.43.59L10.3 9.45l-7.72 7.72c-.78.78-.78 2.05 0 2.83L4 21.41c.39.39.9.59 1.41.59.51 0 1.02-.2 1.41-.59l7.78-7.78 2.81-2.81c.8-.78.8-2.07 0-2.86zM5.41 20L4 18.59l7.72-7.72 1.47 1.35L5.41 20z\"/>\n",
              "  </svg>\n",
              "      </button>\n",
              "      \n",
              "  <style>\n",
              "    .colab-df-container {\n",
              "      display:flex;\n",
              "      flex-wrap:wrap;\n",
              "      gap: 12px;\n",
              "    }\n",
              "\n",
              "    .colab-df-convert {\n",
              "      background-color: #E8F0FE;\n",
              "      border: none;\n",
              "      border-radius: 50%;\n",
              "      cursor: pointer;\n",
              "      display: none;\n",
              "      fill: #1967D2;\n",
              "      height: 32px;\n",
              "      padding: 0 0 0 0;\n",
              "      width: 32px;\n",
              "    }\n",
              "\n",
              "    .colab-df-convert:hover {\n",
              "      background-color: #E2EBFA;\n",
              "      box-shadow: 0px 1px 2px rgba(60, 64, 67, 0.3), 0px 1px 3px 1px rgba(60, 64, 67, 0.15);\n",
              "      fill: #174EA6;\n",
              "    }\n",
              "\n",
              "    [theme=dark] .colab-df-convert {\n",
              "      background-color: #3B4455;\n",
              "      fill: #D2E3FC;\n",
              "    }\n",
              "\n",
              "    [theme=dark] .colab-df-convert:hover {\n",
              "      background-color: #434B5C;\n",
              "      box-shadow: 0px 1px 3px 1px rgba(0, 0, 0, 0.15);\n",
              "      filter: drop-shadow(0px 1px 2px rgba(0, 0, 0, 0.3));\n",
              "      fill: #FFFFFF;\n",
              "    }\n",
              "  </style>\n",
              "\n",
              "      <script>\n",
              "        const buttonEl =\n",
              "          document.querySelector('#df-5ec70000-68a1-44d1-8e62-05e3f7c68bb9 button.colab-df-convert');\n",
              "        buttonEl.style.display =\n",
              "          google.colab.kernel.accessAllowed ? 'block' : 'none';\n",
              "\n",
              "        async function convertToInteractive(key) {\n",
              "          const element = document.querySelector('#df-5ec70000-68a1-44d1-8e62-05e3f7c68bb9');\n",
              "          const dataTable =\n",
              "            await google.colab.kernel.invokeFunction('convertToInteractive',\n",
              "                                                     [key], {});\n",
              "          if (!dataTable) return;\n",
              "\n",
              "          const docLinkHtml = 'Like what you see? Visit the ' +\n",
              "            '<a target=\"_blank\" href=https://colab.research.google.com/notebooks/data_table.ipynb>data table notebook</a>'\n",
              "            + ' to learn more about interactive tables.';\n",
              "          element.innerHTML = '';\n",
              "          dataTable['output_type'] = 'display_data';\n",
              "          await google.colab.output.renderOutput(dataTable, element);\n",
              "          const docLink = document.createElement('div');\n",
              "          docLink.innerHTML = docLinkHtml;\n",
              "          element.appendChild(docLink);\n",
              "        }\n",
              "      </script>\n",
              "    </div>\n",
              "  </div>\n",
              "  "
            ]
          },
          "metadata": {},
          "execution_count": 9
        }
      ]
    },
    {
      "cell_type": "markdown",
      "source": [
        "Visualizing to check if there are any missing values."
      ],
      "metadata": {
        "id": "qsZPogrem9Is"
      },
      "id": "qsZPogrem9Is"
    },
    {
      "cell_type": "code",
      "source": [
        "sns.heatmap(df_clinical.isnull(),cbar=False,cmap='viridis')"
      ],
      "metadata": {
        "colab": {
          "base_uri": "https://localhost:8080/",
          "height": 442
        },
        "id": "IUPngl2Bm0w1",
        "outputId": "702921c3-7b4b-4d81-f082-b2978196af36"
      },
      "id": "IUPngl2Bm0w1",
      "execution_count": null,
      "outputs": [
        {
          "output_type": "execute_result",
          "data": {
            "text/plain": [
              "<matplotlib.axes._subplots.AxesSubplot at 0x7fbbeed1c8b0>"
            ]
          },
          "metadata": {},
          "execution_count": 10
        },
        {
          "output_type": "display_data",
          "data": {
            "text/plain": [
              "<Figure size 432x288 with 1 Axes>"
            ],
            "image/png": "[encoded data removed]"
          },
          "metadata": {
            "needs_background": "light"
          }
        }
      ]
    },
    {
      "cell_type": "code",
      "source": [
        "df_clinical.isnull().sum()"
      ],
      "metadata": {
        "colab": {
          "base_uri": "https://localhost:8080/"
        },
        "id": "ggKrgLu8aVb_",
        "outputId": "5e133ebc-e810-4cfa-fe2a-e4137cb2708c"
      },
      "id": "ggKrgLu8aVb_",
      "execution_count": null,
      "outputs": [
        {
          "output_type": "execute_result",
          "data": {
            "text/plain": [
              "patient_id                          0\n",
              "age_at_diagnosis                    0\n",
              "type_of_breast_surgery             22\n",
              "cancer_type                         0\n",
              "cancer_type_detailed               15\n",
              "cellularity                        54\n",
              "chemotherapy                        0\n",
              "pam50_+_claudin-low_subtype         0\n",
              "cohort                              0\n",
              "er_status_measured_by_ihc          30\n",
              "er_status                           0\n",
              "neoplasm_histologic_grade          72\n",
              "her2_status_measured_by_snp6        0\n",
              "her2_status                         0\n",
              "tumor_other_histologic_subtype     15\n",
              "hormone_therapy                     0\n",
              "inferred_menopausal_state           0\n",
              "integrative_cluster                 0\n",
              "primary_tumor_laterality          106\n",
              "lymph_nodes_examined_positive       0\n",
              "mutation_count                     45\n",
              "nottingham_prognostic_index         0\n",
              "oncotree_code                      15\n",
              "overall_survival_months             0\n",
              "pr_status                           0\n",
              "radio_therapy                       0\n",
              "3-gene_classifier_subtype         204\n",
              "tumor_size                         20\n",
              "tumor_stage                       501\n",
              "dtype: int64"
            ]
          },
          "metadata": {},
          "execution_count": 11
        }
      ]
    },
    {
      "cell_type": "markdown",
      "source": [
        "It's obvious that there are some missing value here:\n",
        "\n",
        "22 in type_of_breast_surgery\n",
        "\n",
        "15 in cancer_type_detailed\n",
        "\n",
        "54 in cellularity\n",
        "\n",
        "30 in er_status_measured_by_ihc\n",
        "\n",
        "72 in neoplasm_histologic_grade\n",
        "\n",
        "15 in tumor_other_histologic_subtype\n",
        "\n",
        "106 in primary_tumor_laterality\n",
        "\n",
        "45 in mutation_count\n",
        "\n",
        "15 in oncotree_code\n",
        "\n",
        "204 in 3-gene_classifier_subtype\n",
        "\n",
        "20 in tumor_size\n",
        "\n",
        "501 in tumor_stage\n",
        "\n",
        "\n",
        "So we try to fullfill them properly. The numerical values also can be filled using the median value. Sometimes filling null values with mean values can hamper the whole dataset in case of presence of outliers can alter the mean and standard deviation of data. So, filling null values with median values can also be a very effective method. So in this problem we use median instead of mean.\n",
        "For non-numerical values we use mode to fullfill the null values."
      ],
      "metadata": {
        "id": "4EiEWE5Im-Ix"
      },
      "id": "4EiEWE5Im-Ix"
    },
    {
      "cell_type": "code",
      "source": [
        "df_clinical['type_of_breast_surgery'] = df_clinical['type_of_breast_surgery'].fillna(df_clinical['type_of_breast_surgery'].mode()[0])\n",
        "df_clinical['cancer_type_detailed'] = df_clinical['type_of_breast_surgery'].fillna(df_clinical['type_of_breast_surgery'].mode()[0])\n",
        "df_clinical['cellularity'] = df_clinical['cellularity'].fillna(df_clinical['cellularity'].mode()[0])\n",
        "df_clinical['er_status_measured_by_ihc'] = df_clinical['er_status_measured_by_ihc'].fillna(df_clinical['er_status_measured_by_ihc'].mode()[0])\n",
        "df_clinical['neoplasm_histologic_grade'] = df_clinical['neoplasm_histologic_grade'].fillna(df_clinical['neoplasm_histologic_grade'].median())\n",
        "df_clinical['tumor_other_histologic_subtype'] = df_clinical['tumor_other_histologic_subtype'].fillna(df_clinical['tumor_other_histologic_subtype'].mode()[0])\n",
        "df_clinical['primary_tumor_laterality'] = df_clinical['primary_tumor_laterality'].fillna(df_clinical['primary_tumor_laterality'].mode()[0])\n",
        "df_clinical['mutation_count'] = df_clinical['mutation_count'].fillna(df_clinical['mutation_count'].median())\n",
        "df_clinical['oncotree_code'] = df_clinical['oncotree_code'].fillna(df_clinical['oncotree_code'].mode()[0])\n",
        "df_clinical['3-gene_classifier_subtype'] = df_clinical['3-gene_classifier_subtype'].fillna(df_clinical['3-gene_classifier_subtype'].mode()[0])\n",
        "df_clinical['tumor_size'] = df_clinical['tumor_size'].fillna(df_clinical['tumor_size'].median())\n",
        "df_clinical['tumor_stage'] = df_clinical['tumor_stage'].fillna(df_clinical['tumor_stage'].median())"
      ],
      "metadata": {
        "id": "0qPkoi65Znq0"
      },
      "id": "0qPkoi65Znq0",
      "execution_count": null,
      "outputs": []
    },
    {
      "cell_type": "code",
      "source": [
        "df_clinical.isnull().sum()"
      ],
      "metadata": {
        "colab": {
          "base_uri": "https://localhost:8080/"
        },
        "id": "5TFlwCashIlJ",
        "outputId": "f763007d-cdc4-4cb0-a027-6f857d0ef16b"
      },
      "id": "5TFlwCashIlJ",
      "execution_count": null,
      "outputs": [
        {
          "output_type": "execute_result",
          "data": {
            "text/plain": [
              "patient_id                        0\n",
              "age_at_diagnosis                  0\n",
              "type_of_breast_surgery            0\n",
              "cancer_type                       0\n",
              "cancer_type_detailed              0\n",
              "cellularity                       0\n",
              "chemotherapy                      0\n",
              "pam50_+_claudin-low_subtype       0\n",
              "cohort                            0\n",
              "er_status_measured_by_ihc         0\n",
              "er_status                         0\n",
              "neoplasm_histologic_grade         0\n",
              "her2_status_measured_by_snp6      0\n",
              "her2_status                       0\n",
              "tumor_other_histologic_subtype    0\n",
              "hormone_therapy                   0\n",
              "inferred_menopausal_state         0\n",
              "integrative_cluster               0\n",
              "primary_tumor_laterality          0\n",
              "lymph_nodes_examined_positive     0\n",
              "mutation_count                    0\n",
              "nottingham_prognostic_index       0\n",
              "oncotree_code                     0\n",
              "overall_survival_months           0\n",
              "pr_status                         0\n",
              "radio_therapy                     0\n",
              "3-gene_classifier_subtype         0\n",
              "tumor_size                        0\n",
              "tumor_stage                       0\n",
              "dtype: int64"
            ]
          },
          "metadata": {},
          "execution_count": 13
        }
      ]
    },
    {
      "cell_type": "markdown",
      "source": [
        "breast cancer dataset should only contain float64 and int64; thus, we hace to use LabelEncoder to avoid none-numerical data:"
      ],
      "metadata": {
        "id": "MIQoAYxcnjvc"
      },
      "id": "MIQoAYxcnjvc"
    },
    {
      "cell_type": "code",
      "source": [
        "def convert_to_dataset(data):\n",
        "  categorical_feature_mask = data.dtypes == object\n",
        "  cateforical_cols = data.columns[categorical_feature_mask].tolist()\n",
        "  le = LabelEncoder()\n",
        "  data[cateforical_cols] = data[cateforical_cols].apply(lambda col: le.fit_transform(col))\n",
        "  data = data.astype(float)\n",
        "  return data"
      ],
      "metadata": {
        "id": "kX-9eIajk6xe"
      },
      "execution_count": null,
      "outputs": [],
      "id": "kX-9eIajk6xe"
    },
    {
      "cell_type": "code",
      "source": [
        "df_clinical = convert_to_dataset(df_clinical)"
      ],
      "metadata": {
        "id": "m7Tikq40fl_B"
      },
      "execution_count": null,
      "outputs": [],
      "id": "m7Tikq40fl_B"
    },
    {
      "cell_type": "markdown",
      "source": [
        "Now I'm going to check the correlation between different variables."
      ],
      "metadata": {
        "id": "rzDk8YatZm7L"
      },
      "id": "rzDk8YatZm7L"
    },
    {
      "cell_type": "code",
      "source": [
        "plt.figure(figsize=(20,20))\n",
        "sns.heatmap(df_clinical.corr(),cbar=True,annot=True)"
      ],
      "metadata": {
        "colab": {
          "base_uri": "https://localhost:8080/",
          "height": 1000
        },
        "id": "h8KVb6drnDkt",
        "outputId": "84f1a0b5-595a-48be-9c1b-837634f7451a"
      },
      "id": "h8KVb6drnDkt",
      "execution_count": null,
      "outputs": [
        {
          "output_type": "execute_result",
          "data": {
            "text/plain": [
              "<matplotlib.axes._subplots.AxesSubplot at 0x7fbc9c1690a0>"
            ]
          },
          "metadata": {},
          "execution_count": 16
        },
        {
          "output_type": "display_data",
          "data": {
            "text/plain": [
              "<Figure size 1440x1440 with 2 Axes>"
            ],
            "image/png": "[encoded data removed]"
          },
          "metadata": {
            "needs_background": "light"
          }
        }
      ]
    },
    {
      "cell_type": "markdown",
      "source": [
        "Extract X and Y from the dataset:"
      ],
      "metadata": {
        "id": "-5yl_YTloohF"
      },
      "id": "-5yl_YTloohF"
    },
    {
      "cell_type": "code",
      "source": [
        "X_clinical = df_clinical.values\n",
        "y = df['overall_survival'].values"
      ],
      "metadata": {
        "id": "p1rebjRzocEJ"
      },
      "id": "p1rebjRzocEJ",
      "execution_count": null,
      "outputs": []
    },
    {
      "cell_type": "markdown",
      "source": [
        "We can deduce so many information from the heatmap above. "
      ],
      "metadata": {
        "id": "F7GqA8QtnAzd"
      },
      "id": "F7GqA8QtnAzd"
    },
    {
      "cell_type": "code",
      "source": [
        "sns.distplot(df['overall_survival'])"
      ],
      "metadata": {
        "colab": {
          "base_uri": "https://localhost:8080/",
          "height": 351
        },
        "id": "ZQCUiTA_nMTJ",
        "outputId": "4216db01-89b8-4be1-87ec-bf4a8810b6ac"
      },
      "id": "ZQCUiTA_nMTJ",
      "execution_count": null,
      "outputs": [
        {
          "output_type": "stream",
          "name": "stderr",
          "text": [
            "/usr/local/lib/python3.8/dist-packages/seaborn/distributions.py:2619: FutureWarning: `distplot` is a deprecated function and will be removed in a future version. Please adapt your code to use either `displot` (a figure-level function with similar flexibility) or `histplot` (an axes-level function for histograms).\n",
            "  warnings.warn(msg, FutureWarning)\n"
          ]
        },
        {
          "output_type": "execute_result",
          "data": {
            "text/plain": [
              "<matplotlib.axes._subplots.AxesSubplot at 0x7fbbea694f70>"
            ]
          },
          "metadata": {},
          "execution_count": 18
        },
        {
          "output_type": "display_data",
          "data": {
            "text/plain": [
              "<Figure size 432x288 with 1 Axes>"
            ],
            "image/png": "[encoded data removed]"
          },
          "metadata": {
            "needs_background": "light"
          }
        }
      ]
    },
    {
      "cell_type": "code",
      "source": [
        "print(\"Skewness: \", df['overall_survival'].skew())\n",
        "print(\"Kurtosis: \", df['overall_survival'].kurt())"
      ],
      "metadata": {
        "colab": {
          "base_uri": "https://localhost:8080/"
        },
        "id": "7YXNriHWnSz1",
        "outputId": "ade5c537-4f10-4190-b439-1498526809d9"
      },
      "id": "7YXNriHWnSz1",
      "execution_count": null,
      "outputs": [
        {
          "output_type": "stream",
          "name": "stdout",
          "text": [
            "Skewness:  0.32154760730184556\n",
            "Kurtosis:  -1.8986025717347375\n"
          ]
        }
      ]
    },
    {
      "cell_type": "markdown",
      "source": [
        "### <font color='GoldenRod'>**EDA for gene_expression dataset**</font> "
      ],
      "metadata": {
        "id": "tgO9AiGBkXBL"
      },
      "id": "tgO9AiGBkXBL"
    },
    {
      "cell_type": "markdown",
      "source": [
        "We use the same instruction to analyze gene expression and mutation expression datasets."
      ],
      "metadata": {
        "id": "4tUlppRwowzw"
      },
      "id": "4tUlppRwowzw"
    },
    {
      "cell_type": "code",
      "execution_count": null,
      "metadata": {
        "colab": {
          "base_uri": "https://localhost:8080/",
          "height": 285
        },
        "outputId": "eb656ca9-38e9-43ae-c184-d834eecc8473",
        "id": "ebW4L64niJyB"
      },
      "outputs": [
        {
          "output_type": "execute_result",
          "data": {
            "text/plain": [
              "    brca1   brca2   palb2    pten    tp53     atm    cdh1   chek2     nbn  \\\n",
              "0 -1.3990 -0.5738 -1.6217  1.4524  0.3504  1.1517  0.0348  0.1266 -0.8361   \n",
              "1 -1.3800  0.2777 -1.2154  0.5296 -0.0136 -0.2659  1.3594  0.7961  0.5419   \n",
              "2  0.0670 -0.8426  0.2114 -0.3326  0.5141 -0.0803  1.1398  0.4187 -0.4030   \n",
              "3  0.6744 -0.5428 -1.6592  0.6369  1.6708 -0.8880  1.2491 -1.1889 -0.4174   \n",
              "4  1.2932 -0.9039 -0.7219  0.2168  0.3484  0.3897  0.9131  0.9356  0.7675   \n",
              "\n",
              "      nf1  ...  srd5a1  srd5a2  srd5a3     st7    star    tnk2   tulp4  \\\n",
              "0 -0.8578  ... -1.1877 -0.0194 -1.6345 -0.2142 -0.5698 -1.1741 -1.4779   \n",
              "1 -2.6059  ... -0.4412  0.4534  0.4068  0.7634  0.0231  0.9121 -0.9538   \n",
              "2 -1.1305  ... -0.5381  0.0668  0.8344  1.7227  0.4024 -3.7172 -1.5538   \n",
              "3 -0.6165  ... -0.5630 -0.7078  0.8228  0.6819 -0.1948 -2.3286 -0.9924   \n",
              "4 -0.2940  ... -0.5845 -0.3544 -1.0150  2.2961  0.1817 -0.1572  0.0427   \n",
              "\n",
              "   ugt2b15  ugt2b17  ugt2b7  \n",
              "0  -0.5954  -0.8847 -0.3354  \n",
              "1  -0.2264   0.5398 -0.8920  \n",
              "2   1.3701  -0.1078  0.3655  \n",
              "3  -0.3154   0.2320 -0.4828  \n",
              "4   5.0048   3.8476  1.3223  \n",
              "\n",
              "[5 rows x 489 columns]"
            ],
            "text/html": [
              "\n",
              "  <div id=\"df-5d942ab3-7be1-467d-a1b5-c53688c87f20\">\n",
              "    <div class=\"colab-df-container\">\n",
              "      <div>\n",
              "<style scoped>\n",
              "    .dataframe tbody tr th:only-of-type {\n",
              "        vertical-align: middle;\n",
              "    }\n",
              "\n",
              "    .dataframe tbody tr th {\n",
              "        vertical-align: top;\n",
              "    }\n",
              "\n",
              "    .dataframe thead th {\n",
              "        text-align: right;\n",
              "    }\n",
              "</style>\n",
              "<table border=\"1\" class=\"dataframe\">\n",
              "  <thead>\n",
              "    <tr style=\"text-align: right;\">\n",
              "      <th></th>\n",
              "      <th>brca1</th>\n",
              "      <th>brca2</th>\n",
              "      <th>palb2</th>\n",
              "      <th>pten</th>\n",
              "      <th>tp53</th>\n",
              "      <th>atm</th>\n",
              "      <th>cdh1</th>\n",
              "      <th>chek2</th>\n",
              "      <th>nbn</th>\n",
              "      <th>nf1</th>\n",
              "      <th>...</th>\n",
              "      <th>srd5a1</th>\n",
              "      <th>srd5a2</th>\n",
              "      <th>srd5a3</th>\n",
              "      <th>st7</th>\n",
              "      <th>star</th>\n",
              "      <th>tnk2</th>\n",
              "      <th>tulp4</th>\n",
              "      <th>ugt2b15</th>\n",
              "      <th>ugt2b17</th>\n",
              "      <th>ugt2b7</th>\n",
              "    </tr>\n",
              "  </thead>\n",
              "  <tbody>\n",
              "    <tr>\n",
              "      <th>0</th>\n",
              "      <td>-1.3990</td>\n",
              "      <td>-0.5738</td>\n",
              "      <td>-1.6217</td>\n",
              "      <td>1.4524</td>\n",
              "      <td>0.3504</td>\n",
              "      <td>1.1517</td>\n",
              "      <td>0.0348</td>\n",
              "      <td>0.1266</td>\n",
              "      <td>-0.8361</td>\n",
              "      <td>-0.8578</td>\n",
              "      <td>...</td>\n",
              "      <td>-1.1877</td>\n",
              "      <td>-0.0194</td>\n",
              "      <td>-1.6345</td>\n",
              "      <td>-0.2142</td>\n",
              "      <td>-0.5698</td>\n",
              "      <td>-1.1741</td>\n",
              "      <td>-1.4779</td>\n",
              "      <td>-0.5954</td>\n",
              "      <td>-0.8847</td>\n",
              "      <td>-0.3354</td>\n",
              "    </tr>\n",
              "    <tr>\n",
              "      <th>1</th>\n",
              "      <td>-1.3800</td>\n",
              "      <td>0.2777</td>\n",
              "      <td>-1.2154</td>\n",
              "      <td>0.5296</td>\n",
              "      <td>-0.0136</td>\n",
              "      <td>-0.2659</td>\n",
              "      <td>1.3594</td>\n",
              "      <td>0.7961</td>\n",
              "      <td>0.5419</td>\n",
              "      <td>-2.6059</td>\n",
              "      <td>...</td>\n",
              "      <td>-0.4412</td>\n",
              "      <td>0.4534</td>\n",
              "      <td>0.4068</td>\n",
              "      <td>0.7634</td>\n",
              "      <td>0.0231</td>\n",
              "      <td>0.9121</td>\n",
              "      <td>-0.9538</td>\n",
              "      <td>-0.2264</td>\n",
              "      <td>0.5398</td>\n",
              "      <td>-0.8920</td>\n",
              "    </tr>\n",
              "    <tr>\n",
              "      <th>2</th>\n",
              "      <td>0.0670</td>\n",
              "      <td>-0.8426</td>\n",
              "      <td>0.2114</td>\n",
              "      <td>-0.3326</td>\n",
              "      <td>0.5141</td>\n",
              "      <td>-0.0803</td>\n",
              "      <td>1.1398</td>\n",
              "      <td>0.4187</td>\n",
              "      <td>-0.4030</td>\n",
              "      <td>-1.1305</td>\n",
              "      <td>...</td>\n",
              "      <td>-0.5381</td>\n",
              "      <td>0.0668</td>\n",
              "      <td>0.8344</td>\n",
              "      <td>1.7227</td>\n",
              "      <td>0.4024</td>\n",
              "      <td>-3.7172</td>\n",
              "      <td>-1.5538</td>\n",
              "      <td>1.3701</td>\n",
              "      <td>-0.1078</td>\n",
              "      <td>0.3655</td>\n",
              "    </tr>\n",
              "    <tr>\n",
              "      <th>3</th>\n",
              "      <td>0.6744</td>\n",
              "      <td>-0.5428</td>\n",
              "      <td>-1.6592</td>\n",
              "      <td>0.6369</td>\n",
              "      <td>1.6708</td>\n",
              "      <td>-0.8880</td>\n",
              "      <td>1.2491</td>\n",
              "      <td>-1.1889</td>\n",
              "      <td>-0.4174</td>\n",
              "      <td>-0.6165</td>\n",
              "      <td>...</td>\n",
              "      <td>-0.5630</td>\n",
              "      <td>-0.7078</td>\n",
              "      <td>0.8228</td>\n",
              "      <td>0.6819</td>\n",
              "      <td>-0.1948</td>\n",
              "      <td>-2.3286</td>\n",
              "      <td>-0.9924</td>\n",
              "      <td>-0.3154</td>\n",
              "      <td>0.2320</td>\n",
              "      <td>-0.4828</td>\n",
              "    </tr>\n",
              "    <tr>\n",
              "      <th>4</th>\n",
              "      <td>1.2932</td>\n",
              "      <td>-0.9039</td>\n",
              "      <td>-0.7219</td>\n",
              "      <td>0.2168</td>\n",
              "      <td>0.3484</td>\n",
              "      <td>0.3897</td>\n",
              "      <td>0.9131</td>\n",
              "      <td>0.9356</td>\n",
              "      <td>0.7675</td>\n",
              "      <td>-0.2940</td>\n",
              "      <td>...</td>\n",
              "      <td>-0.5845</td>\n",
              "      <td>-0.3544</td>\n",
              "      <td>-1.0150</td>\n",
              "      <td>2.2961</td>\n",
              "      <td>0.1817</td>\n",
              "      <td>-0.1572</td>\n",
              "      <td>0.0427</td>\n",
              "      <td>5.0048</td>\n",
              "      <td>3.8476</td>\n",
              "      <td>1.3223</td>\n",
              "    </tr>\n",
              "  </tbody>\n",
              "</table>\n",
              "<p>5 rows × 489 columns</p>\n",
              "</div>\n",
              "      <button class=\"colab-df-convert\" onclick=\"convertToInteractive('df-5d942ab3-7be1-467d-a1b5-c53688c87f20')\"\n",
              "              title=\"Convert this dataframe to an interactive table.\"\n",
              "              style=\"display:none;\">\n",
              "        \n",
              "  <svg xmlns=\"http://www.w3.org/2000/svg\" height=\"24px\"viewBox=\"0 0 24 24\"\n",
              "       width=\"24px\">\n",
              "    <path d=\"M0 0h24v24H0V0z\" fill=\"none\"/>\n",
              "    <path d=\"M18.56 5.44l.94 2.06.94-2.06 2.06-.94-2.06-.94-.94-2.06-.94 2.06-2.06.94zm-11 1L8.5 8.5l.94-2.06 2.06-.94-2.06-.94L8.5 2.5l-.94 2.06-2.06.94zm10 10l.94 2.06.94-2.06 2.06-.94-2.06-.94-.94-2.06-.94 2.06-2.06.94z\"/><path d=\"M17.41 7.96l-1.37-1.37c-.4-.4-.92-.59-1.43-.59-.52 0-1.04.2-1.43.59L10.3 9.45l-7.72 7.72c-.78.78-.78 2.05 0 2.83L4 21.41c.39.39.9.59 1.41.59.51 0 1.02-.2 1.41-.59l7.78-7.78 2.81-2.81c.8-.78.8-2.07 0-2.86zM5.41 20L4 18.59l7.72-7.72 1.47 1.35L5.41 20z\"/>\n",
              "  </svg>\n",
              "      </button>\n",
              "      \n",
              "  <style>\n",
              "    .colab-df-container {\n",
              "      display:flex;\n",
              "      flex-wrap:wrap;\n",
              "      gap: 12px;\n",
              "    }\n",
              "\n",
              "    .colab-df-convert {\n",
              "      background-color: #E8F0FE;\n",
              "      border: none;\n",
              "      border-radius: 50%;\n",
              "      cursor: pointer;\n",
              "      display: none;\n",
              "      fill: #1967D2;\n",
              "      height: 32px;\n",
              "      padding: 0 0 0 0;\n",
              "      width: 32px;\n",
              "    }\n",
              "\n",
              "    .colab-df-convert:hover {\n",
              "      background-color: #E2EBFA;\n",
              "      box-shadow: 0px 1px 2px rgba(60, 64, 67, 0.3), 0px 1px 3px 1px rgba(60, 64, 67, 0.15);\n",
              "      fill: #174EA6;\n",
              "    }\n",
              "\n",
              "    [theme=dark] .colab-df-convert {\n",
              "      background-color: #3B4455;\n",
              "      fill: #D2E3FC;\n",
              "    }\n",
              "\n",
              "    [theme=dark] .colab-df-convert:hover {\n",
              "      background-color: #434B5C;\n",
              "      box-shadow: 0px 1px 3px 1px rgba(0, 0, 0, 0.15);\n",
              "      filter: drop-shadow(0px 1px 2px rgba(0, 0, 0, 0.3));\n",
              "      fill: #FFFFFF;\n",
              "    }\n",
              "  </style>\n",
              "\n",
              "      <script>\n",
              "        const buttonEl =\n",
              "          document.querySelector('#df-5d942ab3-7be1-467d-a1b5-c53688c87f20 button.colab-df-convert');\n",
              "        buttonEl.style.display =\n",
              "          google.colab.kernel.accessAllowed ? 'block' : 'none';\n",
              "\n",
              "        async function convertToInteractive(key) {\n",
              "          const element = document.querySelector('#df-5d942ab3-7be1-467d-a1b5-c53688c87f20');\n",
              "          const dataTable =\n",
              "            await google.colab.kernel.invokeFunction('convertToInteractive',\n",
              "                                                     [key], {});\n",
              "          if (!dataTable) return;\n",
              "\n",
              "          const docLinkHtml = 'Like what you see? Visit the ' +\n",
              "            '<a target=\"_blank\" href=https://colab.research.google.com/notebooks/data_table.ipynb>data table notebook</a>'\n",
              "            + ' to learn more about interactive tables.';\n",
              "          element.innerHTML = '';\n",
              "          dataTable['output_type'] = 'display_data';\n",
              "          await google.colab.output.renderOutput(dataTable, element);\n",
              "          const docLink = document.createElement('div');\n",
              "          docLink.innerHTML = docLinkHtml;\n",
              "          element.appendChild(docLink);\n",
              "        }\n",
              "      </script>\n",
              "    </div>\n",
              "  </div>\n",
              "  "
            ]
          },
          "metadata": {},
          "execution_count": 20
        }
      ],
      "source": [
        "# For gene expressions\n",
        "df_gene_expression.head()"
      ],
      "id": "ebW4L64niJyB"
    },
    {
      "cell_type": "code",
      "source": [
        "df_gene_expression.shape"
      ],
      "metadata": {
        "colab": {
          "base_uri": "https://localhost:8080/"
        },
        "outputId": "22d165bf-551e-443d-aef2-88bc26c66296",
        "id": "nmuRmfvTiJyE"
      },
      "execution_count": null,
      "outputs": [
        {
          "output_type": "execute_result",
          "data": {
            "text/plain": [
              "(1904, 489)"
            ]
          },
          "metadata": {},
          "execution_count": 21
        }
      ],
      "id": "nmuRmfvTiJyE"
    },
    {
      "cell_type": "code",
      "source": [
        "df_gene_expression.info()"
      ],
      "metadata": {
        "colab": {
          "base_uri": "https://localhost:8080/"
        },
        "outputId": "150379dc-84b5-488d-83c4-40ad12e634f3",
        "id": "qrljw73uiJyF"
      },
      "execution_count": null,
      "outputs": [
        {
          "output_type": "stream",
          "name": "stdout",
          "text": [
            "<class 'pandas.core.frame.DataFrame'>\n",
            "RangeIndex: 1904 entries, 0 to 1903\n",
            "Columns: 489 entries, brca1 to ugt2b7\n",
            "dtypes: float64(489)\n",
            "memory usage: 7.1 MB\n"
          ]
        }
      ],
      "id": "qrljw73uiJyF"
    },
    {
      "cell_type": "markdown",
      "source": [
        "We can see that there are several null data in df_clinical."
      ],
      "metadata": {
        "id": "qLGilxGWiJyG"
      },
      "id": "qLGilxGWiJyG"
    },
    {
      "cell_type": "code",
      "source": [
        "df_gene_expression.describe()"
      ],
      "metadata": {
        "colab": {
          "base_uri": "https://localhost:8080/",
          "height": 378
        },
        "outputId": "1815c49b-b483-4eb6-939b-2b5979866023",
        "id": "-sJEcnhOiJyG"
      },
      "execution_count": null,
      "outputs": [
        {
          "output_type": "execute_result",
          "data": {
            "text/plain": [
              "              brca1         brca2         palb2          pten          tp53  \\\n",
              "count  1.904000e+03  1.904000e+03  1.904000e+03  1.904000e+03  1.904000e+03   \n",
              "mean  -6.302521e-07 -4.201681e-07  3.676471e-07 -8.928571e-07  6.302521e-07   \n",
              "std    1.000262e+00  1.000262e+00  1.000263e+00  1.000263e+00  1.000263e+00   \n",
              "min   -2.444400e+00 -2.783500e+00 -4.384600e+00 -5.932800e+00 -2.481200e+00   \n",
              "25%   -7.198500e-01 -6.994750e-01 -6.798250e-01 -5.586500e-01 -6.661500e-01   \n",
              "50%   -1.244500e-01 -5.820000e-02 -2.210000e-02  1.098500e-01 -3.010000e-02   \n",
              "75%    5.532250e-01  6.290000e-01  6.400000e-01  6.426250e-01  6.447500e-01   \n",
              "max    4.554200e+00  3.737900e+00  4.615000e+00  3.254100e+00  4.289800e+00   \n",
              "\n",
              "                atm         cdh1         chek2           nbn          nf1  \\\n",
              "count  1.904000e+03  1904.000000  1.904000e+03  1.904000e+03  1904.000000   \n",
              "mean  -2.100840e-07     0.000002  7.463684e-18 -3.676471e-07    -0.000001   \n",
              "std    1.000262e+00     1.000263  1.000262e+00  1.000263e+00     1.000262   \n",
              "min   -3.170500e+00    -3.323700 -2.688700e+00 -3.689800e+00    -2.968600   \n",
              "25%   -6.602250e-01    -0.458600 -7.385500e-01 -6.667750e-01    -0.683925   \n",
              "50%   -4.200000e-03     0.115550 -1.311000e-01 -1.445000e-02    -0.054800   \n",
              "75%    6.901500e-01     0.649800  5.431250e-01  6.387250e-01     0.668925   \n",
              "max    3.824200e+00     2.820900  4.538200e+00  5.371300e+00     6.178600   \n",
              "\n",
              "       ...        srd5a1        srd5a2        srd5a3           st7  \\\n",
              "count  ...  1.904000e+03  1.904000e+03  1.904000e+03  1.904000e+03   \n",
              "mean   ...  4.726891e-07 -3.676471e-07 -9.453782e-07 -1.050420e-07   \n",
              "std    ...  1.000263e+00  1.000262e+00  1.000262e+00  1.000263e+00   \n",
              "min    ... -2.120800e+00 -3.364800e+00 -2.719400e+00 -4.982700e+00   \n",
              "25%    ... -6.188500e-01 -6.104750e-01 -6.741750e-01 -6.136750e-01   \n",
              "50%    ... -2.456500e-01 -4.690000e-02 -1.422500e-01 -5.175000e-02   \n",
              "75%    ...  3.306000e-01  5.144500e-01  5.146000e-01  5.787750e-01   \n",
              "max    ...  6.534900e+00  1.027030e+01  6.329000e+00  4.571300e+00   \n",
              "\n",
              "              star          tnk2         tulp4       ugt2b15      ugt2b17  \\\n",
              "count  1904.000000  1.904000e+03  1.904000e+03  1.904000e+03  1904.000000   \n",
              "mean     -0.000002  3.676471e-07  4.726891e-07  7.878151e-07     0.000000   \n",
              "std       1.000262  1.000264e+00  1.000262e+00  1.000263e+00     1.000262   \n",
              "min      -2.981700 -3.833300e+00 -3.609300e+00 -1.166900e+00    -2.112600   \n",
              "25%      -0.632900 -6.664750e-01 -7.102000e-01 -5.058250e-01    -0.476200   \n",
              "50%      -0.026650  7.000000e-04 -2.980000e-02 -2.885500e-01    -0.133400   \n",
              "75%       0.590350  6.429000e-01  5.957250e-01  6.022500e-02     0.270375   \n",
              "max      12.742300  3.938800e+00  3.833400e+00  1.088490e+01    12.643900   \n",
              "\n",
              "             ugt2b7  \n",
              "count  1.904000e+03  \n",
              "mean   3.731842e-18  \n",
              "std    1.000262e+00  \n",
              "min   -1.051600e+00  \n",
              "25%   -7.260000e-01  \n",
              "50%   -4.248000e-01  \n",
              "75%    4.284000e-01  \n",
              "max    3.284400e+00  \n",
              "\n",
              "[8 rows x 489 columns]"
            ],
            "text/html": [
              "\n",
              "  <div id=\"df-a5a4c8f7-836f-4c97-8bb3-8c32c376d811\">\n",
              "    <div class=\"colab-df-container\">\n",
              "      <div>\n",
              "<style scoped>\n",
              "    .dataframe tbody tr th:only-of-type {\n",
              "        vertical-align: middle;\n",
              "    }\n",
              "\n",
              "    .dataframe tbody tr th {\n",
              "        vertical-align: top;\n",
              "    }\n",
              "\n",
              "    .dataframe thead th {\n",
              "        text-align: right;\n",
              "    }\n",
              "</style>\n",
              "<table border=\"1\" class=\"dataframe\">\n",
              "  <thead>\n",
              "    <tr style=\"text-align: right;\">\n",
              "      <th></th>\n",
              "      <th>brca1</th>\n",
              "      <th>brca2</th>\n",
              "      <th>palb2</th>\n",
              "      <th>pten</th>\n",
              "      <th>tp53</th>\n",
              "      <th>atm</th>\n",
              "      <th>cdh1</th>\n",
              "      <th>chek2</th>\n",
              "      <th>nbn</th>\n",
              "      <th>nf1</th>\n",
              "      <th>...</th>\n",
              "      <th>srd5a1</th>\n",
              "      <th>srd5a2</th>\n",
              "      <th>srd5a3</th>\n",
              "      <th>st7</th>\n",
              "      <th>star</th>\n",
              "      <th>tnk2</th>\n",
              "      <th>tulp4</th>\n",
              "      <th>ugt2b15</th>\n",
              "      <th>ugt2b17</th>\n",
              "      <th>ugt2b7</th>\n",
              "    </tr>\n",
              "  </thead>\n",
              "  <tbody>\n",
              "    <tr>\n",
              "      <th>count</th>\n",
              "      <td>1.904000e+03</td>\n",
              "      <td>1.904000e+03</td>\n",
              "      <td>1.904000e+03</td>\n",
              "      <td>1.904000e+03</td>\n",
              "      <td>1.904000e+03</td>\n",
              "      <td>1.904000e+03</td>\n",
              "      <td>1904.000000</td>\n",
              "      <td>1.904000e+03</td>\n",
              "      <td>1.904000e+03</td>\n",
              "      <td>1904.000000</td>\n",
              "      <td>...</td>\n",
              "      <td>1.904000e+03</td>\n",
              "      <td>1.904000e+03</td>\n",
              "      <td>1.904000e+03</td>\n",
              "      <td>1.904000e+03</td>\n",
              "      <td>1904.000000</td>\n",
              "      <td>1.904000e+03</td>\n",
              "      <td>1.904000e+03</td>\n",
              "      <td>1.904000e+03</td>\n",
              "      <td>1904.000000</td>\n",
              "      <td>1.904000e+03</td>\n",
              "    </tr>\n",
              "    <tr>\n",
              "      <th>mean</th>\n",
              "      <td>-6.302521e-07</td>\n",
              "      <td>-4.201681e-07</td>\n",
              "      <td>3.676471e-07</td>\n",
              "      <td>-8.928571e-07</td>\n",
              "      <td>6.302521e-07</td>\n",
              "      <td>-2.100840e-07</td>\n",
              "      <td>0.000002</td>\n",
              "      <td>7.463684e-18</td>\n",
              "      <td>-3.676471e-07</td>\n",
              "      <td>-0.000001</td>\n",
              "      <td>...</td>\n",
              "      <td>4.726891e-07</td>\n",
              "      <td>-3.676471e-07</td>\n",
              "      <td>-9.453782e-07</td>\n",
              "      <td>-1.050420e-07</td>\n",
              "      <td>-0.000002</td>\n",
              "      <td>3.676471e-07</td>\n",
              "      <td>4.726891e-07</td>\n",
              "      <td>7.878151e-07</td>\n",
              "      <td>0.000000</td>\n",
              "      <td>3.731842e-18</td>\n",
              "    </tr>\n",
              "    <tr>\n",
              "      <th>std</th>\n",
              "      <td>1.000262e+00</td>\n",
              "      <td>1.000262e+00</td>\n",
              "      <td>1.000263e+00</td>\n",
              "      <td>1.000263e+00</td>\n",
              "      <td>1.000263e+00</td>\n",
              "      <td>1.000262e+00</td>\n",
              "      <td>1.000263</td>\n",
              "      <td>1.000262e+00</td>\n",
              "      <td>1.000263e+00</td>\n",
              "      <td>1.000262</td>\n",
              "      <td>...</td>\n",
              "      <td>1.000263e+00</td>\n",
              "      <td>1.000262e+00</td>\n",
              "      <td>1.000262e+00</td>\n",
              "      <td>1.000263e+00</td>\n",
              "      <td>1.000262</td>\n",
              "      <td>1.000264e+00</td>\n",
              "      <td>1.000262e+00</td>\n",
              "      <td>1.000263e+00</td>\n",
              "      <td>1.000262</td>\n",
              "      <td>1.000262e+00</td>\n",
              "    </tr>\n",
              "    <tr>\n",
              "      <th>min</th>\n",
              "      <td>-2.444400e+00</td>\n",
              "      <td>-2.783500e+00</td>\n",
              "      <td>-4.384600e+00</td>\n",
              "      <td>-5.932800e+00</td>\n",
              "      <td>-2.481200e+00</td>\n",
              "      <td>-3.170500e+00</td>\n",
              "      <td>-3.323700</td>\n",
              "      <td>-2.688700e+00</td>\n",
              "      <td>-3.689800e+00</td>\n",
              "      <td>-2.968600</td>\n",
              "      <td>...</td>\n",
              "      <td>-2.120800e+00</td>\n",
              "      <td>-3.364800e+00</td>\n",
              "      <td>-2.719400e+00</td>\n",
              "      <td>-4.982700e+00</td>\n",
              "      <td>-2.981700</td>\n",
              "      <td>-3.833300e+00</td>\n",
              "      <td>-3.609300e+00</td>\n",
              "      <td>-1.166900e+00</td>\n",
              "      <td>-2.112600</td>\n",
              "      <td>-1.051600e+00</td>\n",
              "    </tr>\n",
              "    <tr>\n",
              "      <th>25%</th>\n",
              "      <td>-7.198500e-01</td>\n",
              "      <td>-6.994750e-01</td>\n",
              "      <td>-6.798250e-01</td>\n",
              "      <td>-5.586500e-01</td>\n",
              "      <td>-6.661500e-01</td>\n",
              "      <td>-6.602250e-01</td>\n",
              "      <td>-0.458600</td>\n",
              "      <td>-7.385500e-01</td>\n",
              "      <td>-6.667750e-01</td>\n",
              "      <td>-0.683925</td>\n",
              "      <td>...</td>\n",
              "      <td>-6.188500e-01</td>\n",
              "      <td>-6.104750e-01</td>\n",
              "      <td>-6.741750e-01</td>\n",
              "      <td>-6.136750e-01</td>\n",
              "      <td>-0.632900</td>\n",
              "      <td>-6.664750e-01</td>\n",
              "      <td>-7.102000e-01</td>\n",
              "      <td>-5.058250e-01</td>\n",
              "      <td>-0.476200</td>\n",
              "      <td>-7.260000e-01</td>\n",
              "    </tr>\n",
              "    <tr>\n",
              "      <th>50%</th>\n",
              "      <td>-1.244500e-01</td>\n",
              "      <td>-5.820000e-02</td>\n",
              "      <td>-2.210000e-02</td>\n",
              "      <td>1.098500e-01</td>\n",
              "      <td>-3.010000e-02</td>\n",
              "      <td>-4.200000e-03</td>\n",
              "      <td>0.115550</td>\n",
              "      <td>-1.311000e-01</td>\n",
              "      <td>-1.445000e-02</td>\n",
              "      <td>-0.054800</td>\n",
              "      <td>...</td>\n",
              "      <td>-2.456500e-01</td>\n",
              "      <td>-4.690000e-02</td>\n",
              "      <td>-1.422500e-01</td>\n",
              "      <td>-5.175000e-02</td>\n",
              "      <td>-0.026650</td>\n",
              "      <td>7.000000e-04</td>\n",
              "      <td>-2.980000e-02</td>\n",
              "      <td>-2.885500e-01</td>\n",
              "      <td>-0.133400</td>\n",
              "      <td>-4.248000e-01</td>\n",
              "    </tr>\n",
              "    <tr>\n",
              "      <th>75%</th>\n",
              "      <td>5.532250e-01</td>\n",
              "      <td>6.290000e-01</td>\n",
              "      <td>6.400000e-01</td>\n",
              "      <td>6.426250e-01</td>\n",
              "      <td>6.447500e-01</td>\n",
              "      <td>6.901500e-01</td>\n",
              "      <td>0.649800</td>\n",
              "      <td>5.431250e-01</td>\n",
              "      <td>6.387250e-01</td>\n",
              "      <td>0.668925</td>\n",
              "      <td>...</td>\n",
              "      <td>3.306000e-01</td>\n",
              "      <td>5.144500e-01</td>\n",
              "      <td>5.146000e-01</td>\n",
              "      <td>5.787750e-01</td>\n",
              "      <td>0.590350</td>\n",
              "      <td>6.429000e-01</td>\n",
              "      <td>5.957250e-01</td>\n",
              "      <td>6.022500e-02</td>\n",
              "      <td>0.270375</td>\n",
              "      <td>4.284000e-01</td>\n",
              "    </tr>\n",
              "    <tr>\n",
              "      <th>max</th>\n",
              "      <td>4.554200e+00</td>\n",
              "      <td>3.737900e+00</td>\n",
              "      <td>4.615000e+00</td>\n",
              "      <td>3.254100e+00</td>\n",
              "      <td>4.289800e+00</td>\n",
              "      <td>3.824200e+00</td>\n",
              "      <td>2.820900</td>\n",
              "      <td>4.538200e+00</td>\n",
              "      <td>5.371300e+00</td>\n",
              "      <td>6.178600</td>\n",
              "      <td>...</td>\n",
              "      <td>6.534900e+00</td>\n",
              "      <td>1.027030e+01</td>\n",
              "      <td>6.329000e+00</td>\n",
              "      <td>4.571300e+00</td>\n",
              "      <td>12.742300</td>\n",
              "      <td>3.938800e+00</td>\n",
              "      <td>3.833400e+00</td>\n",
              "      <td>1.088490e+01</td>\n",
              "      <td>12.643900</td>\n",
              "      <td>3.284400e+00</td>\n",
              "    </tr>\n",
              "  </tbody>\n",
              "</table>\n",
              "<p>8 rows × 489 columns</p>\n",
              "</div>\n",
              "      <button class=\"colab-df-convert\" onclick=\"convertToInteractive('df-a5a4c8f7-836f-4c97-8bb3-8c32c376d811')\"\n",
              "              title=\"Convert this dataframe to an interactive table.\"\n",
              "              style=\"display:none;\">\n",
              "        \n",
              "  <svg xmlns=\"http://www.w3.org/2000/svg\" height=\"24px\"viewBox=\"0 0 24 24\"\n",
              "       width=\"24px\">\n",
              "    <path d=\"M0 0h24v24H0V0z\" fill=\"none\"/>\n",
              "    <path d=\"M18.56 5.44l.94 2.06.94-2.06 2.06-.94-2.06-.94-.94-2.06-.94 2.06-2.06.94zm-11 1L8.5 8.5l.94-2.06 2.06-.94-2.06-.94L8.5 2.5l-.94 2.06-2.06.94zm10 10l.94 2.06.94-2.06 2.06-.94-2.06-.94-.94-2.06-.94 2.06-2.06.94z\"/><path d=\"M17.41 7.96l-1.37-1.37c-.4-.4-.92-.59-1.43-.59-.52 0-1.04.2-1.43.59L10.3 9.45l-7.72 7.72c-.78.78-.78 2.05 0 2.83L4 21.41c.39.39.9.59 1.41.59.51 0 1.02-.2 1.41-.59l7.78-7.78 2.81-2.81c.8-.78.8-2.07 0-2.86zM5.41 20L4 18.59l7.72-7.72 1.47 1.35L5.41 20z\"/>\n",
              "  </svg>\n",
              "      </button>\n",
              "      \n",
              "  <style>\n",
              "    .colab-df-container {\n",
              "      display:flex;\n",
              "      flex-wrap:wrap;\n",
              "      gap: 12px;\n",
              "    }\n",
              "\n",
              "    .colab-df-convert {\n",
              "      background-color: #E8F0FE;\n",
              "      border: none;\n",
              "      border-radius: 50%;\n",
              "      cursor: pointer;\n",
              "      display: none;\n",
              "      fill: #1967D2;\n",
              "      height: 32px;\n",
              "      padding: 0 0 0 0;\n",
              "      width: 32px;\n",
              "    }\n",
              "\n",
              "    .colab-df-convert:hover {\n",
              "      background-color: #E2EBFA;\n",
              "      box-shadow: 0px 1px 2px rgba(60, 64, 67, 0.3), 0px 1px 3px 1px rgba(60, 64, 67, 0.15);\n",
              "      fill: #174EA6;\n",
              "    }\n",
              "\n",
              "    [theme=dark] .colab-df-convert {\n",
              "      background-color: #3B4455;\n",
              "      fill: #D2E3FC;\n",
              "    }\n",
              "\n",
              "    [theme=dark] .colab-df-convert:hover {\n",
              "      background-color: #434B5C;\n",
              "      box-shadow: 0px 1px 3px 1px rgba(0, 0, 0, 0.15);\n",
              "      filter: drop-shadow(0px 1px 2px rgba(0, 0, 0, 0.3));\n",
              "      fill: #FFFFFF;\n",
              "    }\n",
              "  </style>\n",
              "\n",
              "      <script>\n",
              "        const buttonEl =\n",
              "          document.querySelector('#df-a5a4c8f7-836f-4c97-8bb3-8c32c376d811 button.colab-df-convert');\n",
              "        buttonEl.style.display =\n",
              "          google.colab.kernel.accessAllowed ? 'block' : 'none';\n",
              "\n",
              "        async function convertToInteractive(key) {\n",
              "          const element = document.querySelector('#df-a5a4c8f7-836f-4c97-8bb3-8c32c376d811');\n",
              "          const dataTable =\n",
              "            await google.colab.kernel.invokeFunction('convertToInteractive',\n",
              "                                                     [key], {});\n",
              "          if (!dataTable) return;\n",
              "\n",
              "          const docLinkHtml = 'Like what you see? Visit the ' +\n",
              "            '<a target=\"_blank\" href=https://colab.research.google.com/notebooks/data_table.ipynb>data table notebook</a>'\n",
              "            + ' to learn more about interactive tables.';\n",
              "          element.innerHTML = '';\n",
              "          dataTable['output_type'] = 'display_data';\n",
              "          await google.colab.output.renderOutput(dataTable, element);\n",
              "          const docLink = document.createElement('div');\n",
              "          docLink.innerHTML = docLinkHtml;\n",
              "          element.appendChild(docLink);\n",
              "        }\n",
              "      </script>\n",
              "    </div>\n",
              "  </div>\n",
              "  "
            ]
          },
          "metadata": {},
          "execution_count": 23
        }
      ],
      "id": "-sJEcnhOiJyG"
    },
    {
      "cell_type": "markdown",
      "source": [
        "Visualizing to check if there are any missing values."
      ],
      "metadata": {
        "id": "8ZhGl0buiJyH"
      },
      "id": "8ZhGl0buiJyH"
    },
    {
      "cell_type": "code",
      "source": [
        "sns.heatmap(df_gene_expression.isnull(),cbar=False,cmap='viridis')"
      ],
      "metadata": {
        "colab": {
          "base_uri": "https://localhost:8080/",
          "height": 327
        },
        "outputId": "35d495d0-1249-49f1-9fd9-7d7e7b333d01",
        "id": "1F8vRdQciJyI"
      },
      "execution_count": null,
      "outputs": [
        {
          "output_type": "execute_result",
          "data": {
            "text/plain": [
              "<matplotlib.axes._subplots.AxesSubplot at 0x7fbbe8b86d00>"
            ]
          },
          "metadata": {},
          "execution_count": 24
        },
        {
          "output_type": "display_data",
          "data": {
            "text/plain": [
              "<Figure size 432x288 with 1 Axes>"
            ],
            "image/png": "[encoded data removed]"
          },
          "metadata": {
            "needs_background": "light"
          }
        }
      ],
      "id": "1F8vRdQciJyI"
    },
    {
      "cell_type": "code",
      "source": [
        "df_gene_expression.isnull().sum()"
      ],
      "metadata": {
        "colab": {
          "base_uri": "https://localhost:8080/"
        },
        "outputId": "e1201c01-df1b-43ec-a29b-c4e990888fb4",
        "id": "soRZo9JuiJyI"
      },
      "execution_count": null,
      "outputs": [
        {
          "output_type": "execute_result",
          "data": {
            "text/plain": [
              "brca1      0\n",
              "brca2      0\n",
              "palb2      0\n",
              "pten       0\n",
              "tp53       0\n",
              "          ..\n",
              "tnk2       0\n",
              "tulp4      0\n",
              "ugt2b15    0\n",
              "ugt2b17    0\n",
              "ugt2b7     0\n",
              "Length: 489, dtype: int64"
            ]
          },
          "metadata": {},
          "execution_count": 25
        }
      ],
      "id": "soRZo9JuiJyI"
    },
    {
      "cell_type": "markdown",
      "source": [
        "It's obvious that there isn't any missing value here. "
      ],
      "metadata": {
        "id": "MnlRsPCJiJyJ"
      },
      "id": "MnlRsPCJiJyJ"
    },
    {
      "cell_type": "code",
      "source": [
        "df_gene_expression = convert_to_dataset(df_gene_expression)"
      ],
      "metadata": {
        "id": "T-F6bf7Tm7Be"
      },
      "id": "T-F6bf7Tm7Be",
      "execution_count": null,
      "outputs": []
    },
    {
      "cell_type": "code",
      "source": [
        "X_gene_expression = df_gene_expression.values"
      ],
      "metadata": {
        "id": "d19wzmU4qo3O"
      },
      "id": "d19wzmU4qo3O",
      "execution_count": null,
      "outputs": []
    },
    {
      "cell_type": "code",
      "source": [
        "X_gene_expression"
      ],
      "metadata": {
        "colab": {
          "base_uri": "https://localhost:8080/"
        },
        "id": "q4bz-7HYqwXB",
        "outputId": "b0148012-8a75-4d30-ab36-d6792ef6f2b9"
      },
      "id": "q4bz-7HYqwXB",
      "execution_count": null,
      "outputs": [
        {
          "output_type": "execute_result",
          "data": {
            "text/plain": [
              "array([[-1.399 , -0.5738, -1.6217, ..., -0.5954, -0.8847, -0.3354],\n",
              "       [-1.38  ,  0.2777, -1.2154, ..., -0.2264,  0.5398, -0.892 ],\n",
              "       [ 0.067 , -0.8426,  0.2114, ...,  1.3701, -0.1078,  0.3655],\n",
              "       ...,\n",
              "       [ 1.8107, -0.2608,  0.4006, ..., -0.184 ,  0.0967, -0.6264],\n",
              "       [-1.2746, -1.7695, -0.3454, ..., -0.4915, -0.2847, -0.8041],\n",
              "       [-0.7525,  0.7352,  0.6448, ..., -0.2316, -0.2081, -0.4328]])"
            ]
          },
          "metadata": {},
          "execution_count": 30
        }
      ]
    },
    {
      "cell_type": "markdown",
      "id": "e2c3821f",
      "metadata": {
        "id": "e2c3821f"
      },
      "source": [
        "## Dimension Reduction (20 + Up to 10 Points Optional)"
      ]
    },
    {
      "cell_type": "markdown",
      "id": "b925e2cf",
      "metadata": {
        "id": "b925e2cf"
      },
      "source": [
        "For each dataset, investigate whether it is needed to use a dimensionality reduction approach or not. If yes, please reduce the dataset's dimension. You can use UMAP for this purpose but any other approach is acceptable. Finding the most important features contains extra points."
      ]
    },
    {
      "cell_type": "code",
      "source": [
        "!pip install umap-learn\n",
        "from umap import UMAP"
      ],
      "metadata": {
        "colab": {
          "base_uri": "https://localhost:8080/"
        },
        "id": "HJZAOL2IofWz",
        "outputId": "15039397-4b81-4fb3-90f7-bfd12331e9bd"
      },
      "id": "HJZAOL2IofWz",
      "execution_count": null,
      "outputs": [
        {
          "output_type": "stream",
          "name": "stdout",
          "text": [
            "Looking in indexes: https://pypi.org/simple, https://us-python.pkg.dev/colab-wheels/public/simple/\n",
            "Collecting umap-learn\n",
            "  Downloading umap-learn-0.5.3.tar.gz (88 kB)\n",
            "\u001b[2K     \u001b[90m━━━━━━━━━━━━━━━━━━━━━━━━━━━━━━━━━━━━━━━━\u001b[0m \u001b[32m88.2/88.2 KB\u001b[0m \u001b[31m5.0 MB/s\u001b[0m eta \u001b[36m0:00:00\u001b[0m\n",
            "\u001b[?25h  Preparing metadata (setup.py) ... \u001b[?25l\u001b[?25hdone\n",
            "Requirement already satisfied: numpy>=1.17 in /usr/local/lib/python3.8/dist-packages (from umap-learn) (1.21.6)\n",
            "Requirement already satisfied: scikit-learn>=0.22 in /usr/local/lib/python3.8/dist-packages (from umap-learn) (1.0.2)\n",
            "Requirement already satisfied: scipy>=1.0 in /usr/local/lib/python3.8/dist-packages (from umap-learn) (1.7.3)\n",
            "Requirement already satisfied: numba>=0.49 in /usr/local/lib/python3.8/dist-packages (from umap-learn) (0.56.4)\n",
            "Collecting pynndescent>=0.5\n",
            "  Downloading pynndescent-0.5.8.tar.gz (1.1 MB)\n",
            "\u001b[2K     \u001b[90m━━━━━━━━━━━━━━━━━━━━━━━━━━━━━━━━━━━━━━━━\u001b[0m \u001b[32m1.1/1.1 MB\u001b[0m \u001b[31m29.5 MB/s\u001b[0m eta \u001b[36m0:00:00\u001b[0m\n",
            "\u001b[?25h  Preparing metadata (setup.py) ... \u001b[?25l\u001b[?25hdone\n",
            "Requirement already satisfied: tqdm in /usr/local/lib/python3.8/dist-packages (from umap-learn) (4.64.1)\n",
            "Requirement already satisfied: importlib-metadata in /usr/local/lib/python3.8/dist-packages (from numba>=0.49->umap-learn) (6.0.0)\n",
            "Requirement already satisfied: setuptools in /usr/local/lib/python3.8/dist-packages (from numba>=0.49->umap-learn) (57.4.0)\n",
            "Requirement already satisfied: llvmlite<0.40,>=0.39.0dev0 in /usr/local/lib/python3.8/dist-packages (from numba>=0.49->umap-learn) (0.39.1)\n",
            "Requirement already satisfied: joblib>=0.11 in /usr/local/lib/python3.8/dist-packages (from pynndescent>=0.5->umap-learn) (1.2.0)\n",
            "Requirement already satisfied: threadpoolctl>=2.0.0 in /usr/local/lib/python3.8/dist-packages (from scikit-learn>=0.22->umap-learn) (3.1.0)\n",
            "Requirement already satisfied: zipp>=0.5 in /usr/local/lib/python3.8/dist-packages (from importlib-metadata->numba>=0.49->umap-learn) (3.12.0)\n",
            "Building wheels for collected packages: umap-learn, pynndescent\n",
            "  Building wheel for umap-learn (setup.py) ... \u001b[?25l\u001b[?25hdone\n",
            "  Created wheel for umap-learn: filename=umap_learn-0.5.3-py3-none-any.whl size=82829 sha256=abe548cc3694d9eb5d081ce964853fccdede98117736fa48a3270446255cb9b5\n",
            "  Stored in directory: /root/.cache/pip/wheels/a9/3a/67/06a8950e053725912e6a8c42c4a3a241410f6487b8402542ea\n",
            "  Building wheel for pynndescent (setup.py) ... \u001b[?25l\u001b[?25hdone\n",
            "  Created wheel for pynndescent: filename=pynndescent-0.5.8-py3-none-any.whl size=55513 sha256=4070076ccb46f54a10697f0f9638a7df033b8a6ec27119011595ae490c92ba89\n",
            "  Stored in directory: /root/.cache/pip/wheels/1c/63/3a/29954bca1a27ba100ed8c27973a78cb71b43dc67aed62e80c3\n",
            "Successfully built umap-learn pynndescent\n",
            "Installing collected packages: pynndescent, umap-learn\n",
            "Successfully installed pynndescent-0.5.8 umap-learn-0.5.3\n"
          ]
        }
      ]
    },
    {
      "cell_type": "markdown",
      "source": [
        "### <font color='GoldenRod'>**Dimension reduction for clinical dataset**</font> "
      ],
      "metadata": {
        "id": "dWbRYS9ZnBTe"
      },
      "id": "dWbRYS9ZnBTe"
    },
    {
      "cell_type": "code",
      "source": [
        "reducer = UMAP(n_neighbors=100, n_components=6, n_epochs=1000, \n",
        "                min_dist=0.5, local_connectivity=2, random_state=42,)"
      ],
      "metadata": {
        "id": "c85WKcBGqQCq"
      },
      "id": "c85WKcBGqQCq",
      "execution_count": null,
      "outputs": []
    },
    {
      "cell_type": "code",
      "source": [
        "X_train_clinical, X_test_clinical, y_train_clinical, y_test_clinical = train_test_split(X_clinical, y, test_size=0.25, shuffle=True)"
      ],
      "metadata": {
        "id": "-yjRGyfzrh63"
      },
      "id": "-yjRGyfzrh63",
      "execution_count": null,
      "outputs": []
    },
    {
      "cell_type": "code",
      "execution_count": null,
      "id": "259a3804",
      "metadata": {
        "colab": {
          "base_uri": "https://localhost:8080/"
        },
        "id": "259a3804",
        "outputId": "b53c96bd-b83b-404f-eff0-7c92eb9544b6"
      },
      "outputs": [
        {
          "output_type": "stream",
          "name": "stdout",
          "text": [
            "(1428, 29)\n",
            "(1428, 6)\n"
          ]
        }
      ],
      "source": [
        "print(X_train_clinical.shape)\n",
        "X_train_reduced_clinical = reducer.fit_transform(X_train_clinical, y_train_clinical)\n",
        "print(X_train_reduced_clinical.shape)"
      ]
    },
    {
      "cell_type": "code",
      "source": [
        "print(X_test_clinical.shape)\n",
        "X_test_reduced_clinical = reducer.transform(X_test_clinical)\n",
        "print(X_test_reduced_clinical.shape)"
      ],
      "metadata": {
        "colab": {
          "base_uri": "https://localhost:8080/"
        },
        "id": "5Bj2vy9Xrz6k",
        "outputId": "d3163f9e-7a0d-4358-c512-5311556a28f4"
      },
      "id": "5Bj2vy9Xrz6k",
      "execution_count": null,
      "outputs": [
        {
          "output_type": "stream",
          "name": "stdout",
          "text": [
            "(476, 29)\n",
            "(476, 6)\n"
          ]
        }
      ]
    },
    {
      "cell_type": "markdown",
      "source": [
        "### <font color='GoldenRod'>**Dimension reduction for gene_expression dataset**</font> "
      ],
      "metadata": {
        "id": "M9YOv5pcnNoC"
      },
      "id": "M9YOv5pcnNoC"
    },
    {
      "cell_type": "code",
      "source": [
        "reducer_gene = UMAP(n_neighbors=100, n_components=50, n_epochs=1000, \n",
        "                min_dist=0.5, local_connectivity=2, random_state=42,)"
      ],
      "metadata": {
        "id": "qsbPw9FZl65H"
      },
      "id": "qsbPw9FZl65H",
      "execution_count": null,
      "outputs": []
    },
    {
      "cell_type": "code",
      "source": [
        "X_train_gene_expression, X_test_gene_expression, y_train_gene_expression, y_test_gene_expression = train_test_split(X_gene_expression, y, test_size=0.25, shuffle=True)"
      ],
      "metadata": {
        "id": "UUyP2ZxQszwd"
      },
      "execution_count": null,
      "outputs": [],
      "id": "UUyP2ZxQszwd"
    },
    {
      "cell_type": "code",
      "execution_count": null,
      "metadata": {
        "colab": {
          "base_uri": "https://localhost:8080/"
        },
        "outputId": "1629b710-d4a4-4b6b-fc02-ac2c287e3791",
        "id": "7TSDmbHEszwe"
      },
      "outputs": [
        {
          "output_type": "stream",
          "name": "stdout",
          "text": [
            "(1428, 489)\n",
            "(1428, 50)\n"
          ]
        }
      ],
      "source": [
        "print(X_train_gene_expression.shape)\n",
        "X_train_reduced_gene_expression = reducer_gene.fit_transform(X_train_gene_expression, y_train_gene_expression)\n",
        "print(X_train_reduced_gene_expression.shape)"
      ],
      "id": "7TSDmbHEszwe"
    },
    {
      "cell_type": "code",
      "source": [
        "print(X_test_gene_expression.shape)\n",
        "X_test_reduced_gene_expression = reducer_gene.transform(X_test_gene_expression)\n",
        "print(X_test_reduced_gene_expression.shape)"
      ],
      "metadata": {
        "colab": {
          "base_uri": "https://localhost:8080/"
        },
        "outputId": "ad2d0880-189d-4f48-fa3f-f1c195b0b322",
        "id": "qZqj4I92szwe"
      },
      "execution_count": null,
      "outputs": [
        {
          "output_type": "stream",
          "name": "stdout",
          "text": [
            "(476, 489)\n",
            "(476, 50)\n"
          ]
        }
      ],
      "id": "qZqj4I92szwe"
    },
    {
      "cell_type": "markdown",
      "source": [
        "### <font color='GoldenRod'>**Dimension reduction for both of clinical and gene_expression datasets simultaneously**</font> "
      ],
      "metadata": {
        "id": "RTXWUxfjnh5S"
      },
      "id": "RTXWUxfjnh5S"
    },
    {
      "cell_type": "code",
      "source": [
        "X_overall = np.concatenate((X_clinical, X_gene_expression), axis=1)\n",
        "X_overall.shape"
      ],
      "metadata": {
        "colab": {
          "base_uri": "https://localhost:8080/"
        },
        "id": "9V7GJt8IuNPX",
        "outputId": "4eb25ba8-e693-452f-9316-9b736a16737b"
      },
      "id": "9V7GJt8IuNPX",
      "execution_count": null,
      "outputs": [
        {
          "output_type": "execute_result",
          "data": {
            "text/plain": [
              "(1904, 518)"
            ]
          },
          "metadata": {},
          "execution_count": 113
        }
      ]
    },
    {
      "cell_type": "code",
      "source": [
        "reducer_whole = UMAP(n_neighbors=100, n_components=40, n_epochs=1000, \n",
        "                min_dist=0.5, local_connectivity=2, random_state=42,)"
      ],
      "metadata": {
        "id": "VeMuOOS2mT4P"
      },
      "id": "VeMuOOS2mT4P",
      "execution_count": null,
      "outputs": []
    },
    {
      "cell_type": "code",
      "source": [
        "X_overall.shape"
      ],
      "metadata": {
        "colab": {
          "base_uri": "https://localhost:8080/"
        },
        "id": "wpllgNhC6e7w",
        "outputId": "57a4558d-3fc5-4252-be7f-6ea2fa53a122"
      },
      "id": "wpllgNhC6e7w",
      "execution_count": null,
      "outputs": [
        {
          "output_type": "execute_result",
          "data": {
            "text/plain": [
              "(1904, 518)"
            ]
          },
          "metadata": {},
          "execution_count": 115
        }
      ]
    },
    {
      "cell_type": "code",
      "source": [
        "X_train, X_test, y_train, y_test = train_test_split(X_overall, y, test_size=0.25, shuffle=True)"
      ],
      "metadata": {
        "id": "ySTTjZcYuD4G"
      },
      "execution_count": null,
      "outputs": [],
      "id": "ySTTjZcYuD4G"
    },
    {
      "cell_type": "code",
      "execution_count": null,
      "metadata": {
        "colab": {
          "base_uri": "https://localhost:8080/"
        },
        "outputId": "5fff84d1-655d-443e-f1b3-98bfd23a6544",
        "id": "iwfccRmjuD4H"
      },
      "outputs": [
        {
          "output_type": "stream",
          "name": "stdout",
          "text": [
            "(1428, 518)\n",
            "(1428, 40)\n"
          ]
        }
      ],
      "source": [
        "print(X_train.shape)\n",
        "X_train_reduced = reducer_whole.fit_transform(X_train, y_train_gene_expression)\n",
        "print(X_train_reduced.shape)"
      ],
      "id": "iwfccRmjuD4H"
    },
    {
      "cell_type": "code",
      "source": [
        "print(X_test.shape)\n",
        "X_test_reduced = reducer_whole.transform(X_test)\n",
        "print(X_test_reduced.shape)"
      ],
      "metadata": {
        "colab": {
          "base_uri": "https://localhost:8080/"
        },
        "outputId": "8f6300a7-b437-4990-bdad-ffbd10065f2d",
        "id": "GzuVxAq4uD4I"
      },
      "execution_count": null,
      "outputs": [
        {
          "output_type": "stream",
          "name": "stdout",
          "text": [
            "(476, 518)\n",
            "(476, 40)\n"
          ]
        }
      ],
      "id": "GzuVxAq4uD4I"
    },
    {
      "cell_type": "markdown",
      "source": [
        "### <font color='GoldenRod'>**Find important features(optional)**</font> "
      ],
      "metadata": {
        "id": "WDprnHJ0t8mB"
      },
      "id": "WDprnHJ0t8mB"
    },
    {
      "cell_type": "markdown",
      "source": [
        "#### <font color='Green'>**Find important features for clinical data**</font> "
      ],
      "metadata": {
        "id": "8s6YqNLeuvEk"
      },
      "id": "8s6YqNLeuvEk"
    },
    {
      "cell_type": "code",
      "source": [
        "# for clinical data\n",
        "from sklearn.ensemble import RandomForestClassifier\n",
        "clf = RandomForestClassifier(n_estimators=100, random_state=0)\n",
        "clf.fit(X_train_clinical, y_train)\n",
        "feature_scores = pd.Series(clf.feature_importances_, index=df_clinical.columns).sort_values(ascending=False)\n",
        "feature_scores"
      ],
      "metadata": {
        "colab": {
          "base_uri": "https://localhost:8080/"
        },
        "id": "YeSGb_mwuF8u",
        "outputId": "838da15c-889a-40e6-d6d9-1abb1aae30a1"
      },
      "id": "YeSGb_mwuF8u",
      "execution_count": null,
      "outputs": [
        {
          "output_type": "execute_result",
          "data": {
            "text/plain": [
              "overall_survival_months           0.109875\n",
              "age_at_diagnosis                  0.103438\n",
              "patient_id                        0.102132\n",
              "nottingham_prognostic_index       0.088631\n",
              "tumor_size                        0.083495\n",
              "mutation_count                    0.068087\n",
              "integrative_cluster               0.053715\n",
              "lymph_nodes_examined_positive     0.042763\n",
              "pam50_+_claudin-low_subtype       0.037396\n",
              "cohort                            0.029995\n",
              "3-gene_classifier_subtype         0.026759\n",
              "cellularity                       0.024881\n",
              "tumor_other_histologic_subtype    0.020869\n",
              "neoplasm_histologic_grade         0.019237\n",
              "tumor_stage                       0.018194\n",
              "her2_status_measured_by_snp6      0.018097\n",
              "primary_tumor_laterality          0.018068\n",
              "radio_therapy                     0.017573\n",
              "oncotree_code                     0.016896\n",
              "pr_status                         0.016024\n",
              "hormone_therapy                   0.013974\n",
              "type_of_breast_surgery            0.013081\n",
              "cancer_type_detailed              0.012588\n",
              "inferred_menopausal_state         0.011043\n",
              "chemotherapy                      0.009793\n",
              "er_status                         0.008023\n",
              "er_status_measured_by_ihc         0.007953\n",
              "her2_status                       0.007264\n",
              "cancer_type                       0.000156\n",
              "dtype: float64"
            ]
          },
          "metadata": {},
          "execution_count": 56
        }
      ]
    },
    {
      "cell_type": "code",
      "source": [
        "sns.barplot(x=feature_scores[:5], y=feature_scores[:5].index)\n",
        "plt.xlabel('Feature Importance')\n",
        "plt.ylabel('Features')\n",
        "plt.show()"
      ],
      "metadata": {
        "colab": {
          "base_uri": "https://localhost:8080/",
          "height": 279
        },
        "id": "ToXePYW4uuaf",
        "outputId": "8f397899-25f0-4b68-ef87-b3900e4d47e5"
      },
      "id": "ToXePYW4uuaf",
      "execution_count": null,
      "outputs": [
        {
          "output_type": "display_data",
          "data": {
            "text/plain": [
              "<Figure size 432x288 with 1 Axes>"
            ],
            "image/png": "[encoded data removed]"
          },
          "metadata": {
            "needs_background": "light"
          }
        }
      ]
    },
    {
      "cell_type": "markdown",
      "source": [
        "#### <font color='Green'>**Find important features for gene expression data**</font> "
      ],
      "metadata": {
        "id": "EP9w4268EBWn"
      },
      "id": "EP9w4268EBWn"
    },
    {
      "cell_type": "code",
      "source": [
        "clf = RandomForestClassifier(n_estimators=100, random_state=0)\n",
        "clf.fit(X_train_gene_expression, y_train)\n",
        "feature_scores = pd.Series(clf.feature_importances_, index=df_gene_expression.columns).sort_values(ascending=False)\n",
        "feature_scores"
      ],
      "metadata": {
        "colab": {
          "base_uri": "https://localhost:8080/"
        },
        "id": "OKPLip-nEA2n",
        "outputId": "38147c85-94a0-4a02-dfc6-0a0cac71471c"
      },
      "id": "OKPLip-nEA2n",
      "execution_count": null,
      "outputs": [
        {
          "output_type": "execute_result",
          "data": {
            "text/plain": [
              "magea8    0.004086\n",
              "inha      0.004022\n",
              "bmp4      0.003937\n",
              "mdm2      0.003835\n",
              "gata3     0.003622\n",
              "            ...   \n",
              "afdn      0.000961\n",
              "e2f5      0.000953\n",
              "cyb5a     0.000942\n",
              "ptpn22    0.000905\n",
              "pik3ca    0.000659\n",
              "Length: 489, dtype: float64"
            ]
          },
          "metadata": {},
          "execution_count": 58
        }
      ]
    },
    {
      "cell_type": "code",
      "source": [
        "sns.barplot(x=feature_scores[:10], y=feature_scores[:10].index)\n",
        "plt.xlabel('Feature Importance')\n",
        "plt.ylabel('Features')\n",
        "plt.show()"
      ],
      "metadata": {
        "colab": {
          "base_uri": "https://localhost:8080/",
          "height": 279
        },
        "id": "efyXSoQOE1za",
        "outputId": "fff95df8-09ea-4e2d-da8d-d9fed15cb6a2"
      },
      "id": "efyXSoQOE1za",
      "execution_count": null,
      "outputs": [
        {
          "output_type": "display_data",
          "data": {
            "text/plain": [
              "<Figure size 432x288 with 1 Axes>"
            ],
            "image/png": "[encoded data removed]"
          },
          "metadata": {
            "needs_background": "light"
          }
        }
      ]
    },
    {
      "cell_type": "markdown",
      "source": [
        "#### <font color='Green'>**Find important features for all the data**</font> "
      ],
      "metadata": {
        "id": "1T4F1_D7FH38"
      },
      "id": "1T4F1_D7FH38"
    },
    {
      "cell_type": "code",
      "source": [
        "df_new = df.iloc[:,:520]\n",
        "df_new = df_new.drop('overall_survival', axis=1)\n",
        "df_new = df_new.drop('death_from_cancer', axis=1)\n",
        "df_new.head()"
      ],
      "metadata": {
        "colab": {
          "base_uri": "https://localhost:8080/",
          "height": 387
        },
        "id": "s-IV89KbFFDu",
        "outputId": "e6a00d36-534f-49d4-9ac2-68efaae27645"
      },
      "id": "s-IV89KbFFDu",
      "execution_count": null,
      "outputs": [
        {
          "output_type": "execute_result",
          "data": {
            "text/plain": [
              "   patient_id  age_at_diagnosis type_of_breast_surgery    cancer_type  \\\n",
              "0           0             75.65             MASTECTOMY  Breast Cancer   \n",
              "1           2             43.19      BREAST CONSERVING  Breast Cancer   \n",
              "2           5             48.87             MASTECTOMY  Breast Cancer   \n",
              "3           6             47.68             MASTECTOMY  Breast Cancer   \n",
              "4           8             76.97             MASTECTOMY  Breast Cancer   \n",
              "\n",
              "                        cancer_type_detailed cellularity  chemotherapy  \\\n",
              "0           Breast Invasive Ductal Carcinoma         NaN             0   \n",
              "1           Breast Invasive Ductal Carcinoma        High             0   \n",
              "2           Breast Invasive Ductal Carcinoma        High             1   \n",
              "3  Breast Mixed Ductal and Lobular Carcinoma    Moderate             1   \n",
              "4  Breast Mixed Ductal and Lobular Carcinoma        High             1   \n",
              "\n",
              "  pam50_+_claudin-low_subtype  cohort er_status_measured_by_ihc  ...  srd5a1  \\\n",
              "0                 claudin-low     1.0                   Positve  ... -1.1877   \n",
              "1                        LumA     1.0                   Positve  ... -0.4412   \n",
              "2                        LumB     1.0                   Positve  ... -0.5381   \n",
              "3                        LumB     1.0                   Positve  ... -0.5630   \n",
              "4                        LumB     1.0                   Positve  ... -0.5845   \n",
              "\n",
              "   srd5a2  srd5a3     st7    star    tnk2   tulp4 ugt2b15 ugt2b17  ugt2b7  \n",
              "0 -0.0194 -1.6345 -0.2142 -0.5698 -1.1741 -1.4779 -0.5954 -0.8847 -0.3354  \n",
              "1  0.4534  0.4068  0.7634  0.0231  0.9121 -0.9538 -0.2264  0.5398 -0.8920  \n",
              "2  0.0668  0.8344  1.7227  0.4024 -3.7172 -1.5538  1.3701 -0.1078  0.3655  \n",
              "3 -0.7078  0.8228  0.6819 -0.1948 -2.3286 -0.9924 -0.3154  0.2320 -0.4828  \n",
              "4 -0.3544 -1.0150  2.2961  0.1817 -0.1572  0.0427  5.0048  3.8476  1.3223  \n",
              "\n",
              "[5 rows x 518 columns]"
            ],
            "text/html": [
              "\n",
              "  <div id=\"df-394878c1-1a0b-480a-97f6-bc79607fa986\">\n",
              "    <div class=\"colab-df-container\">\n",
              "      <div>\n",
              "<style scoped>\n",
              "    .dataframe tbody tr th:only-of-type {\n",
              "        vertical-align: middle;\n",
              "    }\n",
              "\n",
              "    .dataframe tbody tr th {\n",
              "        vertical-align: top;\n",
              "    }\n",
              "\n",
              "    .dataframe thead th {\n",
              "        text-align: right;\n",
              "    }\n",
              "</style>\n",
              "<table border=\"1\" class=\"dataframe\">\n",
              "  <thead>\n",
              "    <tr style=\"text-align: right;\">\n",
              "      <th></th>\n",
              "      <th>patient_id</th>\n",
              "      <th>age_at_diagnosis</th>\n",
              "      <th>type_of_breast_surgery</th>\n",
              "      <th>cancer_type</th>\n",
              "      <th>cancer_type_detailed</th>\n",
              "      <th>cellularity</th>\n",
              "      <th>chemotherapy</th>\n",
              "      <th>pam50_+_claudin-low_subtype</th>\n",
              "      <th>cohort</th>\n",
              "      <th>er_status_measured_by_ihc</th>\n",
              "      <th>...</th>\n",
              "      <th>srd5a1</th>\n",
              "      <th>srd5a2</th>\n",
              "      <th>srd5a3</th>\n",
              "      <th>st7</th>\n",
              "      <th>star</th>\n",
              "      <th>tnk2</th>\n",
              "      <th>tulp4</th>\n",
              "      <th>ugt2b15</th>\n",
              "      <th>ugt2b17</th>\n",
              "      <th>ugt2b7</th>\n",
              "    </tr>\n",
              "  </thead>\n",
              "  <tbody>\n",
              "    <tr>\n",
              "      <th>0</th>\n",
              "      <td>0</td>\n",
              "      <td>75.65</td>\n",
              "      <td>MASTECTOMY</td>\n",
              "      <td>Breast Cancer</td>\n",
              "      <td>Breast Invasive Ductal Carcinoma</td>\n",
              "      <td>NaN</td>\n",
              "      <td>0</td>\n",
              "      <td>claudin-low</td>\n",
              "      <td>1.0</td>\n",
              "      <td>Positve</td>\n",
              "      <td>...</td>\n",
              "      <td>-1.1877</td>\n",
              "      <td>-0.0194</td>\n",
              "      <td>-1.6345</td>\n",
              "      <td>-0.2142</td>\n",
              "      <td>-0.5698</td>\n",
              "      <td>-1.1741</td>\n",
              "      <td>-1.4779</td>\n",
              "      <td>-0.5954</td>\n",
              "      <td>-0.8847</td>\n",
              "      <td>-0.3354</td>\n",
              "    </tr>\n",
              "    <tr>\n",
              "      <th>1</th>\n",
              "      <td>2</td>\n",
              "      <td>43.19</td>\n",
              "      <td>BREAST CONSERVING</td>\n",
              "      <td>Breast Cancer</td>\n",
              "      <td>Breast Invasive Ductal Carcinoma</td>\n",
              "      <td>High</td>\n",
              "      <td>0</td>\n",
              "      <td>LumA</td>\n",
              "      <td>1.0</td>\n",
              "      <td>Positve</td>\n",
              "      <td>...</td>\n",
              "      <td>-0.4412</td>\n",
              "      <td>0.4534</td>\n",
              "      <td>0.4068</td>\n",
              "      <td>0.7634</td>\n",
              "      <td>0.0231</td>\n",
              "      <td>0.9121</td>\n",
              "      <td>-0.9538</td>\n",
              "      <td>-0.2264</td>\n",
              "      <td>0.5398</td>\n",
              "      <td>-0.8920</td>\n",
              "    </tr>\n",
              "    <tr>\n",
              "      <th>2</th>\n",
              "      <td>5</td>\n",
              "      <td>48.87</td>\n",
              "      <td>MASTECTOMY</td>\n",
              "      <td>Breast Cancer</td>\n",
              "      <td>Breast Invasive Ductal Carcinoma</td>\n",
              "      <td>High</td>\n",
              "      <td>1</td>\n",
              "      <td>LumB</td>\n",
              "      <td>1.0</td>\n",
              "      <td>Positve</td>\n",
              "      <td>...</td>\n",
              "      <td>-0.5381</td>\n",
              "      <td>0.0668</td>\n",
              "      <td>0.8344</td>\n",
              "      <td>1.7227</td>\n",
              "      <td>0.4024</td>\n",
              "      <td>-3.7172</td>\n",
              "      <td>-1.5538</td>\n",
              "      <td>1.3701</td>\n",
              "      <td>-0.1078</td>\n",
              "      <td>0.3655</td>\n",
              "    </tr>\n",
              "    <tr>\n",
              "      <th>3</th>\n",
              "      <td>6</td>\n",
              "      <td>47.68</td>\n",
              "      <td>MASTECTOMY</td>\n",
              "      <td>Breast Cancer</td>\n",
              "      <td>Breast Mixed Ductal and Lobular Carcinoma</td>\n",
              "      <td>Moderate</td>\n",
              "      <td>1</td>\n",
              "      <td>LumB</td>\n",
              "      <td>1.0</td>\n",
              "      <td>Positve</td>\n",
              "      <td>...</td>\n",
              "      <td>-0.5630</td>\n",
              "      <td>-0.7078</td>\n",
              "      <td>0.8228</td>\n",
              "      <td>0.6819</td>\n",
              "      <td>-0.1948</td>\n",
              "      <td>-2.3286</td>\n",
              "      <td>-0.9924</td>\n",
              "      <td>-0.3154</td>\n",
              "      <td>0.2320</td>\n",
              "      <td>-0.4828</td>\n",
              "    </tr>\n",
              "    <tr>\n",
              "      <th>4</th>\n",
              "      <td>8</td>\n",
              "      <td>76.97</td>\n",
              "      <td>MASTECTOMY</td>\n",
              "      <td>Breast Cancer</td>\n",
              "      <td>Breast Mixed Ductal and Lobular Carcinoma</td>\n",
              "      <td>High</td>\n",
              "      <td>1</td>\n",
              "      <td>LumB</td>\n",
              "      <td>1.0</td>\n",
              "      <td>Positve</td>\n",
              "      <td>...</td>\n",
              "      <td>-0.5845</td>\n",
              "      <td>-0.3544</td>\n",
              "      <td>-1.0150</td>\n",
              "      <td>2.2961</td>\n",
              "      <td>0.1817</td>\n",
              "      <td>-0.1572</td>\n",
              "      <td>0.0427</td>\n",
              "      <td>5.0048</td>\n",
              "      <td>3.8476</td>\n",
              "      <td>1.3223</td>\n",
              "    </tr>\n",
              "  </tbody>\n",
              "</table>\n",
              "<p>5 rows × 518 columns</p>\n",
              "</div>\n",
              "      <button class=\"colab-df-convert\" onclick=\"convertToInteractive('df-394878c1-1a0b-480a-97f6-bc79607fa986')\"\n",
              "              title=\"Convert this dataframe to an interactive table.\"\n",
              "              style=\"display:none;\">\n",
              "        \n",
              "  <svg xmlns=\"http://www.w3.org/2000/svg\" height=\"24px\"viewBox=\"0 0 24 24\"\n",
              "       width=\"24px\">\n",
              "    <path d=\"M0 0h24v24H0V0z\" fill=\"none\"/>\n",
              "    <path d=\"M18.56 5.44l.94 2.06.94-2.06 2.06-.94-2.06-.94-.94-2.06-.94 2.06-2.06.94zm-11 1L8.5 8.5l.94-2.06 2.06-.94-2.06-.94L8.5 2.5l-.94 2.06-2.06.94zm10 10l.94 2.06.94-2.06 2.06-.94-2.06-.94-.94-2.06-.94 2.06-2.06.94z\"/><path d=\"M17.41 7.96l-1.37-1.37c-.4-.4-.92-.59-1.43-.59-.52 0-1.04.2-1.43.59L10.3 9.45l-7.72 7.72c-.78.78-.78 2.05 0 2.83L4 21.41c.39.39.9.59 1.41.59.51 0 1.02-.2 1.41-.59l7.78-7.78 2.81-2.81c.8-.78.8-2.07 0-2.86zM5.41 20L4 18.59l7.72-7.72 1.47 1.35L5.41 20z\"/>\n",
              "  </svg>\n",
              "      </button>\n",
              "      \n",
              "  <style>\n",
              "    .colab-df-container {\n",
              "      display:flex;\n",
              "      flex-wrap:wrap;\n",
              "      gap: 12px;\n",
              "    }\n",
              "\n",
              "    .colab-df-convert {\n",
              "      background-color: #E8F0FE;\n",
              "      border: none;\n",
              "      border-radius: 50%;\n",
              "      cursor: pointer;\n",
              "      display: none;\n",
              "      fill: #1967D2;\n",
              "      height: 32px;\n",
              "      padding: 0 0 0 0;\n",
              "      width: 32px;\n",
              "    }\n",
              "\n",
              "    .colab-df-convert:hover {\n",
              "      background-color: #E2EBFA;\n",
              "      box-shadow: 0px 1px 2px rgba(60, 64, 67, 0.3), 0px 1px 3px 1px rgba(60, 64, 67, 0.15);\n",
              "      fill: #174EA6;\n",
              "    }\n",
              "\n",
              "    [theme=dark] .colab-df-convert {\n",
              "      background-color: #3B4455;\n",
              "      fill: #D2E3FC;\n",
              "    }\n",
              "\n",
              "    [theme=dark] .colab-df-convert:hover {\n",
              "      background-color: #434B5C;\n",
              "      box-shadow: 0px 1px 3px 1px rgba(0, 0, 0, 0.15);\n",
              "      filter: drop-shadow(0px 1px 2px rgba(0, 0, 0, 0.3));\n",
              "      fill: #FFFFFF;\n",
              "    }\n",
              "  </style>\n",
              "\n",
              "      <script>\n",
              "        const buttonEl =\n",
              "          document.querySelector('#df-394878c1-1a0b-480a-97f6-bc79607fa986 button.colab-df-convert');\n",
              "        buttonEl.style.display =\n",
              "          google.colab.kernel.accessAllowed ? 'block' : 'none';\n",
              "\n",
              "        async function convertToInteractive(key) {\n",
              "          const element = document.querySelector('#df-394878c1-1a0b-480a-97f6-bc79607fa986');\n",
              "          const dataTable =\n",
              "            await google.colab.kernel.invokeFunction('convertToInteractive',\n",
              "                                                     [key], {});\n",
              "          if (!dataTable) return;\n",
              "\n",
              "          const docLinkHtml = 'Like what you see? Visit the ' +\n",
              "            '<a target=\"_blank\" href=https://colab.research.google.com/notebooks/data_table.ipynb>data table notebook</a>'\n",
              "            + ' to learn more about interactive tables.';\n",
              "          element.innerHTML = '';\n",
              "          dataTable['output_type'] = 'display_data';\n",
              "          await google.colab.output.renderOutput(dataTable, element);\n",
              "          const docLink = document.createElement('div');\n",
              "          docLink.innerHTML = docLinkHtml;\n",
              "          element.appendChild(docLink);\n",
              "        }\n",
              "      </script>\n",
              "    </div>\n",
              "  </div>\n",
              "  "
            ]
          },
          "metadata": {},
          "execution_count": 60
        }
      ]
    },
    {
      "cell_type": "code",
      "source": [
        "clf = RandomForestClassifier(n_estimators=100, random_state=0)\n",
        "clf.fit(X_train, y_train)\n",
        "feature_scores = pd.Series(clf.feature_importances_, index=df_new.columns).sort_values(ascending=False)\n",
        "feature_scores"
      ],
      "metadata": {
        "colab": {
          "base_uri": "https://localhost:8080/"
        },
        "id": "HXOWRUS4H8Em",
        "outputId": "aa3edbb4-d6d4-487c-9987-c9aaefa3df46"
      },
      "id": "HXOWRUS4H8Em",
      "execution_count": null,
      "outputs": [
        {
          "output_type": "execute_result",
          "data": {
            "text/plain": [
              "overall_survival_months        0.033448\n",
              "age_at_diagnosis               0.027952\n",
              "nottingham_prognostic_index    0.007064\n",
              "tumor_size                     0.006104\n",
              "map4                           0.005923\n",
              "                                 ...   \n",
              "cellularity                    0.000138\n",
              "her2_status                    0.000037\n",
              "er_status                      0.000026\n",
              "cancer_type                    0.000000\n",
              "chemotherapy                   0.000000\n",
              "Length: 518, dtype: float64"
            ]
          },
          "metadata": {},
          "execution_count": 61
        }
      ]
    },
    {
      "cell_type": "code",
      "source": [
        "sns.barplot(x=feature_scores[:10], y=feature_scores[:10].index)\n",
        "plt.xlabel('Feature Importance')\n",
        "plt.ylabel('Features')\n",
        "plt.show()"
      ],
      "metadata": {
        "colab": {
          "base_uri": "https://localhost:8080/",
          "height": 279
        },
        "id": "xsEmjn2YH4qB",
        "outputId": "d64cc107-ab1a-49ec-969f-f8e92f43fe99"
      },
      "id": "xsEmjn2YH4qB",
      "execution_count": null,
      "outputs": [
        {
          "output_type": "display_data",
          "data": {
            "text/plain": [
              "<Figure size 432x288 with 1 Axes>"
            ],
            "image/png": "[encoded data removed]"
          },
          "metadata": {
            "needs_background": "light"
          }
        }
      ]
    },
    {
      "cell_type": "markdown",
      "id": "bf0ea4bb",
      "metadata": {
        "id": "bf0ea4bb"
      },
      "source": [
        "# Classic Model (25 Points)"
      ]
    },
    {
      "cell_type": "markdown",
      "id": "389c5d75",
      "metadata": {
        "id": "389c5d75"
      },
      "source": [
        "In this section, you must implement a classic classification model for clinical, gene expressions, and reduced gene expressions datasets. Using Random Forest is suggested. (minimum acceptable accuracy = 60%)"
      ]
    },
    {
      "cell_type": "code",
      "source": [
        "from sklearn.metrics import accuracy_score\n",
        "from sklearn.ensemble import RandomForestClassifier"
      ],
      "metadata": {
        "id": "_xBfMgEf1csx"
      },
      "id": "_xBfMgEf1csx",
      "execution_count": null,
      "outputs": []
    },
    {
      "cell_type": "markdown",
      "source": [
        "### <font color='GoldenRod'>**Train on whole data**</font> "
      ],
      "metadata": {
        "id": "lFBfRrmJU2YF"
      },
      "id": "lFBfRrmJU2YF"
    },
    {
      "cell_type": "code",
      "execution_count": null,
      "id": "34ec1dd7",
      "metadata": {
        "colab": {
          "base_uri": "https://localhost:8080/"
        },
        "id": "34ec1dd7",
        "outputId": "39b95dc7-bcf4-4385-ca8e-9d6b461c8cf8"
      },
      "outputs": [
        {
          "output_type": "execute_result",
          "data": {
            "text/plain": [
              "0.7247899159663865"
            ]
          },
          "metadata": {},
          "execution_count": 51
        }
      ],
      "source": [
        "rf_model = RandomForestClassifier(n_estimators=50, max_features=\"auto\", random_state=44)\n",
        "rf_model.fit(X_train, y_train)\n",
        "accuracy_score(y_test, rf_model.predict(X_test))"
      ]
    },
    {
      "cell_type": "code",
      "source": [
        "rf_model = RandomForestClassifier(n_estimators=50, max_features=\"auto\", random_state=44)\n",
        "rf_model.fit(X_train_reduced, y_train)\n",
        "accuracy_score(y_test, rf_model.predict(X_test_reduced))"
      ],
      "metadata": {
        "colab": {
          "base_uri": "https://localhost:8080/"
        },
        "id": "9fHxQUZ1U9bU",
        "outputId": "d6cdf814-8e1d-4d68-ed2f-cfd4ba6d7818"
      },
      "id": "9fHxQUZ1U9bU",
      "execution_count": null,
      "outputs": [
        {
          "output_type": "execute_result",
          "data": {
            "text/plain": [
              "0.7289915966386554"
            ]
          },
          "metadata": {},
          "execution_count": 52
        }
      ]
    },
    {
      "cell_type": "markdown",
      "source": [
        "### <font color='GoldenRod'>**Train on clinical data**</font> "
      ],
      "metadata": {
        "id": "_X4P-Nv-VHhx"
      },
      "id": "_X4P-Nv-VHhx"
    },
    {
      "cell_type": "code",
      "source": [
        "rf_model = RandomForestClassifier(n_estimators=50, max_features=\"auto\", random_state=44)\n",
        "rf_model.fit(X_train_clinical, y_train_clinical)\n",
        "accuracy_score(y_test_clinical, rf_model.predict(X_test_clinical))"
      ],
      "metadata": {
        "colab": {
          "base_uri": "https://localhost:8080/"
        },
        "id": "fZ9QcXkf2El0",
        "outputId": "aa5a1455-dba2-4338-d7fd-f7b2ba28a981"
      },
      "id": "fZ9QcXkf2El0",
      "execution_count": null,
      "outputs": [
        {
          "output_type": "execute_result",
          "data": {
            "text/plain": [
              "0.8025210084033614"
            ]
          },
          "metadata": {},
          "execution_count": 53
        }
      ]
    },
    {
      "cell_type": "code",
      "source": [
        "rf_model = RandomForestClassifier(n_estimators=50, max_features=\"auto\", random_state=44)\n",
        "rf_model.fit(X_train_reduced_clinical, y_train_clinical)\n",
        "accuracy_score(y_test_clinical, rf_model.predict(X_test_reduced_clinical))"
      ],
      "metadata": {
        "colab": {
          "base_uri": "https://localhost:8080/"
        },
        "id": "vQnU__1nZgdA",
        "outputId": "d804f173-5841-4280-c86c-9c5cddeecf52"
      },
      "id": "vQnU__1nZgdA",
      "execution_count": null,
      "outputs": [
        {
          "output_type": "execute_result",
          "data": {
            "text/plain": [
              "0.7647058823529411"
            ]
          },
          "metadata": {},
          "execution_count": 54
        }
      ]
    },
    {
      "cell_type": "markdown",
      "source": [
        "### <font color='GoldenRod'>**Train on gene_expression data**</font> "
      ],
      "metadata": {
        "id": "i6JQFrTSVKey"
      },
      "id": "i6JQFrTSVKey"
    },
    {
      "cell_type": "code",
      "source": [
        "rf_model = RandomForestClassifier(n_estimators=50, max_features=\"auto\", random_state=44)\n",
        "rf_model.fit(X_train_gene_expression, y_train_gene_expression)\n",
        "accuracy_score(y_test_gene_expression, rf_model.predict(X_test_gene_expression))"
      ],
      "metadata": {
        "colab": {
          "base_uri": "https://localhost:8080/"
        },
        "id": "bUD2BSQKVNHw",
        "outputId": "3e32166a-a1d9-45a7-ef34-124f521ed88b"
      },
      "id": "bUD2BSQKVNHw",
      "execution_count": null,
      "outputs": [
        {
          "output_type": "execute_result",
          "data": {
            "text/plain": [
              "0.6323529411764706"
            ]
          },
          "metadata": {},
          "execution_count": 61
        }
      ]
    },
    {
      "cell_type": "code",
      "source": [
        "n_estimators = np.linspace(100, 3000, int((3000-100)/200) + 1, dtype=int)\n",
        "max_features = ['auto', 'sqrt']\n",
        "max_depth = [1, 5, 10, 20, 50, 75, 100, 150, 200]\n",
        "min_samples_split = [1, 2, 5, 10, 15, 20, 30]\n",
        "min_samples_leaf = [1, 2, 3, 4]\n",
        "bootstrap = [True, False]\n",
        "criterion=['gini', 'entropy']\n",
        "random_grid = {'n_estimators': n_estimators,\n",
        "               'max_depth': max_depth,\n",
        "               'min_samples_split': min_samples_split,\n",
        "               'min_samples_leaf': min_samples_leaf,\n",
        "               'bootstrap': bootstrap,\n",
        "               'criterion': criterion}"
      ],
      "metadata": {
        "id": "zmKlSax-Z1PZ"
      },
      "id": "zmKlSax-Z1PZ",
      "execution_count": null,
      "outputs": []
    },
    {
      "cell_type": "code",
      "source": [
        "from sklearn.model_selection import RandomizedSearchCV\n",
        "\n",
        "RF = RandomForestClassifier()\n",
        "rf_search = RandomizedSearchCV(estimator = RF,\n",
        "                               param_distributions = random_grid,\n",
        "                               n_iter = 30, cv = 5,\n",
        "                               verbose=2,\n",
        "                               random_state=42, n_jobs = 4)\n",
        "rf_search.fit(X_train_reduced_gene_expression, y_train_gene_expression)"
      ],
      "metadata": {
        "colab": {
          "base_uri": "https://localhost:8080/"
        },
        "id": "I6VmaQ4BZ4YY",
        "outputId": "817c93c1-82be-499f-f0f0-f2ef658f40f9"
      },
      "id": "I6VmaQ4BZ4YY",
      "execution_count": null,
      "outputs": [
        {
          "output_type": "stream",
          "name": "stdout",
          "text": [
            "Fitting 5 folds for each of 30 candidates, totalling 150 fits\n"
          ]
        },
        {
          "output_type": "stream",
          "name": "stderr",
          "text": [
            "/usr/local/lib/python3.8/dist-packages/sklearn/model_selection/_validation.py:372: FitFailedWarning: \n",
            "15 fits failed out of a total of 150.\n",
            "The score on these train-test partitions for these parameters will be set to nan.\n",
            "If these failures are not expected, you can try to debug them by setting error_score='raise'.\n",
            "\n",
            "Below are more details about the failures:\n",
            "--------------------------------------------------------------------------------\n",
            "15 fits failed with the following error:\n",
            "Traceback (most recent call last):\n",
            "  File \"/usr/local/lib/python3.8/dist-packages/sklearn/model_selection/_validation.py\", line 680, in _fit_and_score\n",
            "    estimator.fit(X_train, y_train, **fit_params)\n",
            "  File \"/usr/local/lib/python3.8/dist-packages/sklearn/ensemble/_forest.py\", line 450, in fit\n",
            "    trees = Parallel(\n",
            "  File \"/usr/local/lib/python3.8/dist-packages/joblib/parallel.py\", line 1085, in __call__\n",
            "    if self.dispatch_one_batch(iterator):\n",
            "  File \"/usr/local/lib/python3.8/dist-packages/joblib/parallel.py\", line 901, in dispatch_one_batch\n",
            "    self._dispatch(tasks)\n",
            "  File \"/usr/local/lib/python3.8/dist-packages/joblib/parallel.py\", line 819, in _dispatch\n",
            "    job = self._backend.apply_async(batch, callback=cb)\n",
            "  File \"/usr/local/lib/python3.8/dist-packages/joblib/_parallel_backends.py\", line 208, in apply_async\n",
            "    result = ImmediateResult(func)\n",
            "  File \"/usr/local/lib/python3.8/dist-packages/joblib/_parallel_backends.py\", line 597, in __init__\n",
            "    self.results = batch()\n",
            "  File \"/usr/local/lib/python3.8/dist-packages/joblib/parallel.py\", line 288, in __call__\n",
            "    return [func(*args, **kwargs)\n",
            "  File \"/usr/local/lib/python3.8/dist-packages/joblib/parallel.py\", line 288, in <listcomp>\n",
            "    return [func(*args, **kwargs)\n",
            "  File \"/usr/local/lib/python3.8/dist-packages/sklearn/utils/fixes.py\", line 216, in __call__\n",
            "    return self.function(*args, **kwargs)\n",
            "  File \"/usr/local/lib/python3.8/dist-packages/sklearn/ensemble/_forest.py\", line 185, in _parallel_build_trees\n",
            "    tree.fit(X, y, sample_weight=curr_sample_weight, check_input=False)\n",
            "  File \"/usr/local/lib/python3.8/dist-packages/sklearn/tree/_classes.py\", line 937, in fit\n",
            "    super().fit(\n",
            "  File \"/usr/local/lib/python3.8/dist-packages/sklearn/tree/_classes.py\", line 250, in fit\n",
            "    raise ValueError(\n",
            "ValueError: min_samples_split must be an integer greater than 1 or a float in (0.0, 1.0]; got the integer 1\n",
            "\n",
            "  warnings.warn(some_fits_failed_message, FitFailedWarning)\n",
            "/usr/local/lib/python3.8/dist-packages/sklearn/model_selection/_search.py:969: UserWarning: One or more of the test scores are non-finite: [ 1.  1.  1.  1.  1.  1.  1.  1.  1.  1.  1.  1. nan  1.  1.  1.  1.  1.\n",
            " nan  1.  1.  1.  1.  1.  1. nan  1.  1.  1.  1.]\n",
            "  warnings.warn(\n"
          ]
        },
        {
          "output_type": "execute_result",
          "data": {
            "text/plain": [
              "RandomizedSearchCV(cv=5, estimator=RandomForestClassifier(), n_iter=30,\n",
              "                   n_jobs=4,\n",
              "                   param_distributions={'bootstrap': [True, False],\n",
              "                                        'criterion': ['gini', 'entropy'],\n",
              "                                        'max_depth': [1, 5, 10, 20, 50, 75, 100,\n",
              "                                                      150, 200],\n",
              "                                        'min_samples_leaf': [1, 2, 3, 4],\n",
              "                                        'min_samples_split': [1, 2, 5, 10, 15,\n",
              "                                                              20, 30],\n",
              "                                        'n_estimators': array([ 100,  307,  514,  721,  928, 1135, 1342, 1550, 1757, 1964, 2171,\n",
              "       2378, 2585, 2792, 3000])},\n",
              "                   random_state=42, verbose=2)"
            ]
          },
          "metadata": {},
          "execution_count": 73
        }
      ]
    },
    {
      "cell_type": "code",
      "source": [
        "rf_search.best_params_"
      ],
      "metadata": {
        "colab": {
          "base_uri": "https://localhost:8080/"
        },
        "id": "zRAtbzxhahK9",
        "outputId": "a9a20ac8-68d0-4f47-dc75-8aba400ea59c"
      },
      "id": "zRAtbzxhahK9",
      "execution_count": null,
      "outputs": [
        {
          "output_type": "execute_result",
          "data": {
            "text/plain": [
              "{'n_estimators': 2171,\n",
              " 'min_samples_split': 2,\n",
              " 'min_samples_leaf': 2,\n",
              " 'max_depth': 200,\n",
              " 'criterion': 'entropy',\n",
              " 'bootstrap': True}"
            ]
          },
          "metadata": {},
          "execution_count": 74
        }
      ]
    },
    {
      "cell_type": "code",
      "source": [
        "rf_model = RandomForestClassifier(n_estimators= 2171,\n",
        "                                  min_samples_split=2, min_samples_leaf=2,\n",
        "                                  max_depth=200, criterion='entropy',\n",
        "                                  bootstrap = True)\n",
        "rf_model.fit(X_train_reduced_gene_expression, y_train_gene_expression)\n",
        "accuracy_score(y_test_gene_expression, rf_model.predict(X_test_reduced_gene_expression))"
      ],
      "metadata": {
        "colab": {
          "base_uri": "https://localhost:8080/"
        },
        "id": "GidxRLoleeZG",
        "outputId": "7c790c73-ab41-4598-f432-9aeecf00b526"
      },
      "id": "GidxRLoleeZG",
      "execution_count": null,
      "outputs": [
        {
          "output_type": "execute_result",
          "data": {
            "text/plain": [
              "0.6113445378151261"
            ]
          },
          "metadata": {},
          "execution_count": 80
        }
      ]
    },
    {
      "cell_type": "markdown",
      "id": "50146d67",
      "metadata": {
        "id": "50146d67"
      },
      "source": [
        "# Neural Network (30 Points)"
      ]
    },
    {
      "cell_type": "markdown",
      "id": "485c4047",
      "metadata": {
        "id": "485c4047"
      },
      "source": [
        "In this section, you must implement a neural network model for clinical, gene expressions and reduced gene expressions datasets. Using the MLP models is suggested. (minimum acceptable accuracy = 60%)"
      ]
    },
    {
      "cell_type": "markdown",
      "source": [
        "## <font color='Red'>Define model by using MLPClassifier</font> "
      ],
      "metadata": {
        "id": "vXOELAmnVNNg"
      },
      "id": "vXOELAmnVNNg"
    },
    {
      "cell_type": "markdown",
      "source": [
        "### <font color='GoldenRod'>**Train on whole data**</font> "
      ],
      "metadata": {
        "id": "IzMd6sAeUgPl"
      },
      "id": "IzMd6sAeUgPl"
    },
    {
      "cell_type": "code",
      "source": [
        "from sklearn.neural_network import MLPClassifier"
      ],
      "metadata": {
        "id": "vuiNtqiLlTwK"
      },
      "id": "vuiNtqiLlTwK",
      "execution_count": null,
      "outputs": []
    },
    {
      "cell_type": "code",
      "source": [
        "classifier = MLPClassifier(solver='lbfgs', alpha=1e-5, hidden_layer_sizes=(5, 2), random_state=1, max_iter=1000)\n",
        "classifier.fit(X_train, y_train)\n",
        "accuracy_score(y_test, classifier.predict(X_test))"
      ],
      "metadata": {
        "colab": {
          "base_uri": "https://localhost:8080/"
        },
        "id": "_GaGb6gLUkjI",
        "outputId": "af6542fc-a28c-48f3-8761-a252390c6df2"
      },
      "id": "_GaGb6gLUkjI",
      "execution_count": null,
      "outputs": [
        {
          "output_type": "execute_result",
          "data": {
            "text/plain": [
              "0.7352941176470589"
            ]
          },
          "metadata": {},
          "execution_count": 348
        }
      ]
    },
    {
      "cell_type": "code",
      "source": [
        "classifier = MLPClassifier(solver='lbfgs', alpha=1e-3, hidden_layer_sizes=(4, 2), random_state=15)\n",
        "classifier.fit(X_train_reduced, y_train)\n",
        "accuracy_score(y_test, classifier.predict(X_test_reduced))"
      ],
      "metadata": {
        "colab": {
          "base_uri": "https://localhost:8080/"
        },
        "id": "5nZgbaMmUnQG",
        "outputId": "2a284d19-6c8a-4117-fd4e-61edfd73ca25"
      },
      "id": "5nZgbaMmUnQG",
      "execution_count": null,
      "outputs": [
        {
          "output_type": "stream",
          "name": "stderr",
          "text": [
            "/usr/local/lib/python3.8/dist-packages/sklearn/neural_network/_multilayer_perceptron.py:549: ConvergenceWarning: lbfgs failed to converge (status=1):\n",
            "STOP: TOTAL NO. of ITERATIONS REACHED LIMIT.\n",
            "\n",
            "Increase the number of iterations (max_iter) or scale the data as shown in:\n",
            "    https://scikit-learn.org/stable/modules/preprocessing.html\n",
            "  self.n_iter_ = _check_optimize_result(\"lbfgs\", opt_res, self.max_iter)\n"
          ]
        },
        {
          "output_type": "execute_result",
          "data": {
            "text/plain": [
              "0.6428571428571429"
            ]
          },
          "metadata": {},
          "execution_count": 412
        }
      ]
    },
    {
      "cell_type": "markdown",
      "source": [
        "### <font color='GoldenRod'>**Train on clinical data**</font> "
      ],
      "metadata": {
        "id": "G-9a3vqwMBZ0"
      },
      "id": "G-9a3vqwMBZ0"
    },
    {
      "cell_type": "code",
      "source": [
        "from sklearn.model_selection import GridSearchCV\n",
        "\n",
        "param_grid = {\n",
        "    'hidden_layer_sizes': [(150,100,50), (120,80,40), (100,50,30)],\n",
        "    'max_iter': [50, 100, 150],\n",
        "    'activation': ['tanh', 'relu'],\n",
        "    'solver': ['sgd', 'adam'],\n",
        "    'alpha': [0.0001, 0.05],\n",
        "    'learning_rate': ['constant','adaptive'],\n",
        "}\n",
        "base = MLPClassifier(hidden_layer_sizes=(5,2),\n",
        "                        max_iter = 300,activation = 'relu',\n",
        "                        solver = 'adam')\n",
        "search = GridSearchCV(base, param_grid, n_jobs= -1, cv=5)\n",
        "search.fit(X_train_clinical, y_train)\n",
        "\n",
        "print(search.best_params_) "
      ],
      "metadata": {
        "colab": {
          "base_uri": "https://localhost:8080/"
        },
        "id": "sbAOa35ImXUj",
        "outputId": "d31b04c0-f25a-4fc3-a8ee-3b993a492f2b"
      },
      "id": "sbAOa35ImXUj",
      "execution_count": null,
      "outputs": [
        {
          "output_type": "stream",
          "name": "stderr",
          "text": [
            "/usr/local/lib/python3.8/dist-packages/sklearn/neural_network/_multilayer_perceptron.py:1109: DataConversionWarning: A column-vector y was passed when a 1d array was expected. Please change the shape of y to (n_samples, ), for example using ravel().\n",
            "  y = column_or_1d(y, warn=True)\n",
            "/usr/local/lib/python3.8/dist-packages/sklearn/utils/extmath.py:153: RuntimeWarning: overflow encountered in matmul\n",
            "  ret = a @ b\n",
            "/usr/local/lib/python3.8/dist-packages/sklearn/utils/extmath.py:153: RuntimeWarning: invalid value encountered in matmul\n",
            "  ret = a @ b\n"
          ]
        },
        {
          "output_type": "stream",
          "name": "stdout",
          "text": [
            "{'activation': 'relu', 'alpha': 0.05, 'hidden_layer_sizes': (150, 100, 50), 'learning_rate': 'adaptive', 'max_iter': 50, 'solver': 'sgd'}\n"
          ]
        },
        {
          "output_type": "stream",
          "name": "stderr",
          "text": [
            "/usr/local/lib/python3.8/dist-packages/sklearn/neural_network/_multilayer_perceptron.py:692: ConvergenceWarning: Stochastic Optimizer: Maximum iterations (50) reached and the optimization hasn't converged yet.\n",
            "  warnings.warn(\n"
          ]
        }
      ]
    },
    {
      "cell_type": "code",
      "source": [
        "# clinical data\n",
        "accuracy_score(y_test, search.predict(X_test_clinical))"
      ],
      "metadata": {
        "colab": {
          "base_uri": "https://localhost:8080/"
        },
        "id": "aAIAcQghp1Kw",
        "outputId": "eca19392-81f6-42ef-e1ec-c90d10f1209c"
      },
      "id": "aAIAcQghp1Kw",
      "execution_count": null,
      "outputs": [
        {
          "output_type": "execute_result",
          "data": {
            "text/plain": [
              "0.6071428571428571"
            ]
          },
          "metadata": {},
          "execution_count": 118
        }
      ]
    },
    {
      "cell_type": "code",
      "source": [
        "classifier = MLPClassifier(solver='adam', alpha=1e-5,\n",
        "                           hidden_layer_sizes=(5, 2),\n",
        "                           random_state=1, max_iter=1000)\n",
        "classifier.fit(X_train_reduced_clinical, y_train_clinical)\n",
        "accuracy_score(y_test_clinical, classifier.predict(X_test_reduced_clinical))"
      ],
      "metadata": {
        "colab": {
          "base_uri": "https://localhost:8080/"
        },
        "id": "2FYj3yvzUVTJ",
        "outputId": "37d5108e-d557-435e-fb7f-b87dda432a66"
      },
      "id": "2FYj3yvzUVTJ",
      "execution_count": null,
      "outputs": [
        {
          "output_type": "execute_result",
          "data": {
            "text/plain": [
              "0.7373949579831933"
            ]
          },
          "metadata": {},
          "execution_count": 125
        }
      ]
    },
    {
      "cell_type": "markdown",
      "source": [
        "### <font color='GoldenRod'>**Train on gene expression data**</font> "
      ],
      "metadata": {
        "id": "MZXLCAmqMcFw"
      },
      "id": "MZXLCAmqMcFw"
    },
    {
      "cell_type": "code",
      "source": [
        "param_grid = {\n",
        "    'hidden_layer_sizes': [(150,100,50), (120,80,40), (100,50,30)],\n",
        "    'max_iter': [50, 100, 150],\n",
        "    'activation': ['tanh', 'relu'],\n",
        "    'solver': ['sgd', 'adam'],\n",
        "    'alpha': [0.0001, 0.05],\n",
        "    'learning_rate': ['constant','adaptive'],\n",
        "}\n",
        "base = MLPClassifier(hidden_layer_sizes=(5,2),\n",
        "                        max_iter = 300, activation = 'relu',\n",
        "                        solver = 'adam')\n",
        "search = GridSearchCV(base, param_grid, n_jobs= -1, cv=5)\n",
        "search.fit(X_train_gene_expression, y_train)\n",
        "\n",
        "print(search.best_params_) "
      ],
      "metadata": {
        "colab": {
          "base_uri": "https://localhost:8080/"
        },
        "id": "kHMeBMqpqy31",
        "outputId": "827b98ff-e9f4-4e21-db59-8803e212b8c6"
      },
      "id": "kHMeBMqpqy31",
      "execution_count": null,
      "outputs": [
        {
          "output_type": "stream",
          "name": "stdout",
          "text": [
            "{'activation': 'tanh', 'alpha': 0.05, 'hidden_layer_sizes': (150, 100, 50), 'learning_rate': 'adaptive', 'max_iter': 50, 'solver': 'sgd'}\n"
          ]
        },
        {
          "output_type": "stream",
          "name": "stderr",
          "text": [
            "/usr/local/lib/python3.8/dist-packages/sklearn/neural_network/_multilayer_perceptron.py:692: ConvergenceWarning: Stochastic Optimizer: Maximum iterations (50) reached and the optimization hasn't converged yet.\n",
            "  warnings.warn(\n"
          ]
        }
      ]
    },
    {
      "cell_type": "code",
      "source": [
        "classifier = MLPClassifier(solver='sgd', alpha=0.05,\n",
        "                           activation = 'tanh', learning_rate = 'adaptive',\n",
        "                           hidden_layer_sizes=(150, 100, 50), random_state=1)\n",
        "classifier.fit(X_train_gene_expression, y_train)\n",
        "accuracy_score(y_test, classifier.predict(X_test_gene_expression))"
      ],
      "metadata": {
        "colab": {
          "base_uri": "https://localhost:8080/"
        },
        "id": "exDZcrYPySNn",
        "outputId": "fea530c4-e186-4fec-9e15-729d9cb5c904"
      },
      "id": "exDZcrYPySNn",
      "execution_count": null,
      "outputs": [
        {
          "output_type": "execute_result",
          "data": {
            "text/plain": [
              "0.6071428571428571"
            ]
          },
          "metadata": {},
          "execution_count": 121
        }
      ]
    },
    {
      "cell_type": "code",
      "source": [
        "# on reduced dimension gene expression data\n",
        "classifier = MLPClassifier(solver='lbfgs', alpha=1e-4, hidden_layer_sizes=(2, 2), random_state=1)\n",
        "classifier.fit(X_train_reduced_gene_expression, y_train)\n",
        "accuracy_score(y_test, classifier.predict(X_test_reduced_gene_expression))\n"
      ],
      "metadata": {
        "colab": {
          "base_uri": "https://localhost:8080/"
        },
        "id": "rmTT-Y34zZMP",
        "outputId": "1275d2cf-9815-425d-dcb1-bd7772c73b84"
      },
      "id": "rmTT-Y34zZMP",
      "execution_count": null,
      "outputs": [
        {
          "output_type": "execute_result",
          "data": {
            "text/plain": [
              "0.6008403361344538"
            ]
          },
          "metadata": {},
          "execution_count": 133
        }
      ]
    },
    {
      "cell_type": "markdown",
      "source": [
        "## <font color='Red'>Define model from scratch</font> "
      ],
      "metadata": {
        "id": "11XgDzG4U83E"
      },
      "id": "11XgDzG4U83E"
    },
    {
      "cell_type": "code",
      "execution_count": null,
      "id": "2992ff5a",
      "metadata": {
        "id": "2992ff5a"
      },
      "outputs": [],
      "source": [
        "from sklearn.neural_network import MLPClassifier\n",
        "import torch\n",
        "from torch import nn\n",
        "from torch.nn import functional as F\n",
        "from torch.utils.data import Dataset, DataLoader, random_split\n",
        "from torchvision import transforms, datasets\n",
        "from torch.utils.data import TensorDataset, DataLoader\n",
        "from tqdm import tqdm\n",
        "import numpy as np\n",
        "import pandas as pd\n",
        "import matplotlib.pyplot as plt"
      ]
    },
    {
      "cell_type": "code",
      "source": [
        "device = torch.device('cuda' if torch.cuda.is_available() else 'cpu')\n",
        "device"
      ],
      "metadata": {
        "colab": {
          "base_uri": "https://localhost:8080/"
        },
        "id": "JabKOORNYWri",
        "outputId": "db6ed570-46fa-42ad-d124-b1aa9e627c78"
      },
      "id": "JabKOORNYWri",
      "execution_count": null,
      "outputs": [
        {
          "output_type": "execute_result",
          "data": {
            "text/plain": [
              "device(type='cpu')"
            ]
          },
          "metadata": {},
          "execution_count": 287
        }
      ]
    },
    {
      "cell_type": "code",
      "source": [
        "class MLP(nn.Module):\n",
        "\n",
        "  def __init__(self, features_num):\n",
        "    super().__init__()\n",
        "    self.layers = nn.Sequential(\n",
        "      nn.Linear(features_num, 64),\n",
        "      nn.ReLU(),\n",
        "      nn.Linear(64, 32),\n",
        "      nn.ReLU(),\n",
        "      nn.Linear(32, 16),\n",
        "      nn.ReLU(),\n",
        "      nn.Linear(16, 8),\n",
        "      nn.ReLU(),\n",
        "      nn.Linear(8, 2)\n",
        "    )\n",
        "\n",
        "  def forward(self, x):\n",
        "    return self.layers(x)"
      ],
      "metadata": {
        "id": "bF9m4DP6eSin"
      },
      "id": "bF9m4DP6eSin",
      "execution_count": null,
      "outputs": []
    },
    {
      "cell_type": "code",
      "source": [
        "class MLP_Reduced(nn.Module):\n",
        "\n",
        "  def __init__(self, features_num):\n",
        "    super().__init__()\n",
        "    self.layers = nn.Sequential(\n",
        "      nn.Linear(features_num, 16),\n",
        "      nn.ReLU(),\n",
        "      nn.Linear(16, 8),\n",
        "      nn.ReLU(),\n",
        "      nn.Linear(8, 2)\n",
        "    )\n",
        "\n",
        "  def forward(self, x):\n",
        "    return self.layers(x)"
      ],
      "metadata": {
        "id": "0XtWtGoYe-QZ"
      },
      "id": "0XtWtGoYe-QZ",
      "execution_count": null,
      "outputs": []
    },
    {
      "cell_type": "code",
      "source": [
        "class BioDataset(Dataset):\n",
        "    def __init__(self, X: np.ndarray, y: np.ndarray):\n",
        "        self.X = torch.from_numpy(X).type(torch.float32)\n",
        "        self.y = torch.from_numpy(y).type(torch.LongTensor)\n",
        "\n",
        "    def __len__(self) -> int:\n",
        "        return self.X.shape[0]\n",
        "\n",
        "    def __getitem__(self, i: int):\n",
        "        return self.X[i], self.y[i]"
      ],
      "metadata": {
        "id": "GYd2oV-zZpWf"
      },
      "id": "GYd2oV-zZpWf",
      "execution_count": null,
      "outputs": []
    },
    {
      "cell_type": "markdown",
      "source": [
        "### <font color='GoldenRod'>**Train on whole data**</font> "
      ],
      "metadata": {
        "id": "Gh8LnloBVe_7"
      },
      "id": "Gh8LnloBVe_7"
    },
    {
      "cell_type": "code",
      "source": [
        "train_dataset = BioDataset(X_train, y_train)\n",
        "train_size = int(0.9 * len(train_dataset))\n",
        "val_size = len(train_dataset) - train_size\n",
        "train_dataset, val_dataset = random_split(train_dataset, (train_size, val_size))\n",
        "test_dataset = BioDataset(X_test, y_test)"
      ],
      "metadata": {
        "id": "clEjw7VDZxu0"
      },
      "id": "clEjw7VDZxu0",
      "execution_count": null,
      "outputs": []
    },
    {
      "cell_type": "code",
      "source": [
        "train_loader = DataLoader(dataset=train_dataset, batch_size=16, shuffle=True)\n",
        "val_loader = DataLoader(dataset=val_dataset, batch_size=16, shuffle=False)\n",
        "test_loader = DataLoader(dataset=test_dataset, batch_size=16, shuffle=False)"
      ],
      "metadata": {
        "id": "KYkyMxIxOaG1"
      },
      "id": "KYkyMxIxOaG1",
      "execution_count": null,
      "outputs": []
    },
    {
      "cell_type": "code",
      "source": [
        "model = MLP(X_train.shape[1]).to(device)\n",
        "\n",
        "criterion = nn.CrossEntropyLoss()\n",
        "learning_rate = 1e-4\n",
        "optimizer = torch.optim.Adam(model.parameters(), lr=learning_rate)"
      ],
      "metadata": {
        "id": "vv1g3KqbYRsP"
      },
      "id": "vv1g3KqbYRsP",
      "execution_count": null,
      "outputs": []
    },
    {
      "cell_type": "code",
      "source": [
        "num_epochs = 25\n",
        "\n",
        "train_loss_arr, val_loss_arr = [], []\n",
        "train_accuracy, val_accuracy = [], [] \n",
        "for epoch in range(num_epochs):\n",
        "    train_loss, val_loss = 0, 0\n",
        "\n",
        "    model.train()\n",
        "\n",
        "    epoch_all_train = 0\n",
        "    epoch_true_train = 0\n",
        "    epoch_accuracy = 0\n",
        "    epoch_all_val = 0\n",
        "    epoch_true_val = 0\n",
        "    n = 0 \n",
        "    for i, (x, y) in enumerate(train_loader):\n",
        "        x = x.to(device)\n",
        "        y = y.to(device)\n",
        "        optimizer.zero_grad()\n",
        "        p = model(x)\n",
        "        n += len(x)\n",
        "\n",
        "        batch_loss = criterion(p, y)\n",
        "        batch_size = p.shape[0]\n",
        "        train_loss += float(batch_loss.item() * batch_size)\n",
        "\n",
        "        predictions = p.argmax(-1)\n",
        "        epoch_all_train += len(predictions)\n",
        "        epoch_true_train += int((predictions == y).sum())\n",
        "\n",
        "        batch_loss.backward()\n",
        "\n",
        "        optimizer.step()\n",
        "    \n",
        "    epoch_true_train *= 100.0 / n\n",
        "\n",
        "  \n",
        "    n = 0\n",
        "    model.eval()            \n",
        "    with torch.no_grad():\n",
        "      for i, (x, y) in enumerate(val_loader):\n",
        "        x = x.to(device)\n",
        "        y = y.to(device)\n",
        "        p = model(x)\n",
        "        n += len(x)\n",
        "\n",
        "        batch_loss = criterion(p, y)\n",
        "        batch_size = p.shape[0]\n",
        "        val_loss += float(batch_loss.item() * batch_size)\n",
        "\n",
        "        predictions = p.argmax(-1)\n",
        "        epoch_all_val += len(predictions)\n",
        "        epoch_true_val += int((predictions == y).sum())\n",
        "\n",
        "    train_loss /= len(train_loader.dataset)\n",
        "    val_loss /= len(val_loader.dataset)\n",
        "    epoch_true_val *= 100.0 / n\n",
        "\n",
        "    train_loss_arr.append(train_loss)\n",
        "    val_loss_arr.append(val_loss)\n",
        "    train_accuracy.append(epoch_true_train)\n",
        "    val_accuracy.append(epoch_true_val)\n",
        "\n",
        "    print(f\"[Epoch {epoch}]\\t\"\n",
        "        f\"Train Loss: {train_loss:.4f}\\t\"\n",
        "        f\"Validation Loss: {val_loss:.4f}\\t\"\n",
        "        f\"Train Accuracy: {epoch_true_train:.2f}\\t\"\n",
        "        f\"Validation Accuracy: {epoch_true_val:.2f}\")"
      ],
      "metadata": {
        "colab": {
          "base_uri": "https://localhost:8080/"
        },
        "id": "p08hXlMwYSLY",
        "outputId": "54b63074-d823-4d2e-e96a-9f869e5b9172"
      },
      "id": "p08hXlMwYSLY",
      "execution_count": null,
      "outputs": [
        {
          "output_type": "stream",
          "name": "stdout",
          "text": [
            "[Epoch 0]\tTrain Loss: 0.6775\tValidation Loss: 0.6330\tTrain Accuracy: 59.61\tValidation Accuracy: 68.53\n",
            "[Epoch 1]\tTrain Loss: 0.6495\tValidation Loss: 0.6141\tTrain Accuracy: 63.27\tValidation Accuracy: 65.73\n",
            "[Epoch 2]\tTrain Loss: 0.6256\tValidation Loss: 0.5993\tTrain Accuracy: 65.76\tValidation Accuracy: 66.43\n",
            "[Epoch 3]\tTrain Loss: 0.6128\tValidation Loss: 0.6389\tTrain Accuracy: 66.46\tValidation Accuracy: 57.34\n",
            "[Epoch 4]\tTrain Loss: 0.6011\tValidation Loss: 0.5692\tTrain Accuracy: 66.54\tValidation Accuracy: 67.13\n",
            "[Epoch 5]\tTrain Loss: 0.5780\tValidation Loss: 0.5688\tTrain Accuracy: 68.40\tValidation Accuracy: 68.53\n",
            "[Epoch 6]\tTrain Loss: 0.5676\tValidation Loss: 0.5333\tTrain Accuracy: 68.64\tValidation Accuracy: 69.93\n",
            "[Epoch 7]\tTrain Loss: 0.5448\tValidation Loss: 0.5362\tTrain Accuracy: 70.35\tValidation Accuracy: 69.93\n",
            "[Epoch 8]\tTrain Loss: 0.5546\tValidation Loss: 0.5528\tTrain Accuracy: 69.96\tValidation Accuracy: 69.93\n",
            "[Epoch 9]\tTrain Loss: 0.5292\tValidation Loss: 0.5130\tTrain Accuracy: 72.14\tValidation Accuracy: 72.73\n",
            "[Epoch 10]\tTrain Loss: 0.5312\tValidation Loss: 0.5105\tTrain Accuracy: 72.22\tValidation Accuracy: 72.03\n",
            "[Epoch 11]\tTrain Loss: 0.5254\tValidation Loss: 0.5099\tTrain Accuracy: 74.24\tValidation Accuracy: 72.03\n",
            "[Epoch 12]\tTrain Loss: 0.5104\tValidation Loss: 0.4978\tTrain Accuracy: 75.80\tValidation Accuracy: 74.13\n",
            "[Epoch 13]\tTrain Loss: 0.5101\tValidation Loss: 0.5293\tTrain Accuracy: 75.49\tValidation Accuracy: 73.43\n",
            "[Epoch 14]\tTrain Loss: 0.5074\tValidation Loss: 0.5120\tTrain Accuracy: 76.81\tValidation Accuracy: 79.02\n",
            "[Epoch 15]\tTrain Loss: 0.4932\tValidation Loss: 0.4843\tTrain Accuracy: 77.67\tValidation Accuracy: 77.62\n",
            "[Epoch 16]\tTrain Loss: 0.4872\tValidation Loss: 0.4824\tTrain Accuracy: 77.82\tValidation Accuracy: 76.22\n",
            "[Epoch 17]\tTrain Loss: 0.4803\tValidation Loss: 0.4859\tTrain Accuracy: 78.91\tValidation Accuracy: 74.83\n",
            "[Epoch 18]\tTrain Loss: 0.4748\tValidation Loss: 0.4774\tTrain Accuracy: 77.82\tValidation Accuracy: 77.62\n",
            "[Epoch 19]\tTrain Loss: 0.4672\tValidation Loss: 0.4815\tTrain Accuracy: 78.91\tValidation Accuracy: 76.22\n",
            "[Epoch 20]\tTrain Loss: 0.4613\tValidation Loss: 0.4959\tTrain Accuracy: 79.14\tValidation Accuracy: 73.43\n",
            "[Epoch 21]\tTrain Loss: 0.4460\tValidation Loss: 0.4798\tTrain Accuracy: 80.47\tValidation Accuracy: 76.22\n",
            "[Epoch 22]\tTrain Loss: 0.4463\tValidation Loss: 0.4723\tTrain Accuracy: 80.23\tValidation Accuracy: 75.52\n",
            "[Epoch 23]\tTrain Loss: 0.4306\tValidation Loss: 0.4747\tTrain Accuracy: 81.48\tValidation Accuracy: 77.62\n",
            "[Epoch 24]\tTrain Loss: 0.4484\tValidation Loss: 0.4706\tTrain Accuracy: 79.77\tValidation Accuracy: 76.22\n"
          ]
        }
      ]
    },
    {
      "cell_type": "code",
      "source": [
        "model.eval()\n",
        "accuracy = 0.0\n",
        "total = 0.0\n",
        "test_loss = 0\n",
        "predicted_labels = []\n",
        "\n",
        "with torch.no_grad():\n",
        "    for data in test_loader:\n",
        "      images, labels = data\n",
        "      images = images.to(device)\n",
        "      labels = labels.to(device)\n",
        "      outputs = model(images)\n",
        "      batch_loss = criterion(outputs, labels)\n",
        "      batch_size = outputs.shape[0]\n",
        "      test_loss += float(batch_loss.item() * batch_size)\n",
        "      _, predicted = torch.max(outputs.data, 1)\n",
        "      for i in range(len(predicted)):\n",
        "        p = predicted[i].item()\n",
        "        predicted_labels.append(p)\n",
        "      total += labels.size(0)\n",
        "      accuracy += (predicted == labels).sum().item()\n",
        "\n",
        "test_loss /= len(test_loader.dataset)\n",
        "print(f\"Test Loss: {test_loss:.4f}\")\n",
        "accuracy = (100 * accuracy / total)\n",
        "print(f\"accuracy: {accuracy:.2f}\")"
      ],
      "metadata": {
        "colab": {
          "base_uri": "https://localhost:8080/"
        },
        "id": "BpjMzI0pccpV",
        "outputId": "2993ebd2-da1f-4a8f-ddca-f92ecb26ecf3"
      },
      "id": "BpjMzI0pccpV",
      "execution_count": null,
      "outputs": [
        {
          "output_type": "stream",
          "name": "stdout",
          "text": [
            "Test Loss: 0.5226\n",
            "accuracy: 73.11\n"
          ]
        }
      ]
    },
    {
      "cell_type": "markdown",
      "source": [
        "### <font color='GoldenRod'>**Train on Clinical data**</font> "
      ],
      "metadata": {
        "id": "cV81soy1j6pB"
      },
      "id": "cV81soy1j6pB"
    },
    {
      "cell_type": "code",
      "source": [
        "X_train_clinical.shape"
      ],
      "metadata": {
        "colab": {
          "base_uri": "https://localhost:8080/"
        },
        "id": "_9yQ1CGFlRpr",
        "outputId": "e6f6d823-d6de-40b5-c77a-4924550a6de5"
      },
      "id": "_9yQ1CGFlRpr",
      "execution_count": null,
      "outputs": [
        {
          "output_type": "execute_result",
          "data": {
            "text/plain": [
              "(1428, 29)"
            ]
          },
          "metadata": {},
          "execution_count": 297
        }
      ]
    },
    {
      "cell_type": "code",
      "source": [
        "train_dataset = BioDataset(X_train_clinical, y_train_clinical)\n",
        "train_size = int(0.9 * len(train_dataset))\n",
        "val_size = len(train_dataset) - train_size\n",
        "train_dataset, val_dataset = random_split(train_dataset, (train_size, val_size))\n",
        "test_dataset = BioDataset(X_test_clinical, y_test_clinical)"
      ],
      "metadata": {
        "id": "YSkMePVAkElD"
      },
      "execution_count": null,
      "outputs": [],
      "id": "YSkMePVAkElD"
    },
    {
      "cell_type": "code",
      "source": [
        "train_loader = DataLoader(dataset=train_dataset, batch_size=16, shuffle=True)\n",
        "val_loader = DataLoader(dataset=val_dataset, batch_size=16, shuffle=False)\n",
        "test_loader = DataLoader(dataset=test_dataset, batch_size=16, shuffle=False)"
      ],
      "metadata": {
        "id": "UTPvm5J5kElF"
      },
      "execution_count": null,
      "outputs": [],
      "id": "UTPvm5J5kElF"
    },
    {
      "cell_type": "code",
      "source": [
        "model = MLP_Reduced(X_train_clinical.shape[1]).to(device)\n",
        "\n",
        "criterion = nn.CrossEntropyLoss()\n",
        "learning_rate = 1e-4\n",
        "optimizer = torch.optim.Adam(model.parameters(), lr=learning_rate)"
      ],
      "metadata": {
        "id": "LaiS8cfpkElG"
      },
      "execution_count": null,
      "outputs": [],
      "id": "LaiS8cfpkElG"
    },
    {
      "cell_type": "code",
      "source": [
        "num_epochs = 25\n",
        "\n",
        "train_loss_arr, val_loss_arr = [], []\n",
        "train_accuracy, val_accuracy = [], [] \n",
        "for epoch in range(num_epochs):\n",
        "    train_loss, val_loss = 0, 0\n",
        "\n",
        "    model.train()\n",
        "\n",
        "    epoch_all_train = 0\n",
        "    epoch_true_train = 0\n",
        "    epoch_accuracy = 0\n",
        "    epoch_all_val = 0\n",
        "    epoch_true_val = 0\n",
        "    n = 0 \n",
        "    for i, (x, y) in enumerate(train_loader):\n",
        "        x = x.to(device)\n",
        "        y = y.to(device)\n",
        "        optimizer.zero_grad()\n",
        "        p = model(x)\n",
        "        n += len(x)\n",
        "\n",
        "        batch_loss = criterion(p, y)\n",
        "        batch_size = p.shape[0]\n",
        "        train_loss += float(batch_loss.item() * batch_size)\n",
        "\n",
        "        predictions = p.argmax(-1)\n",
        "        epoch_all_train += len(predictions)\n",
        "        epoch_true_train += int((predictions == y).sum())\n",
        "\n",
        "        batch_loss.backward()\n",
        "\n",
        "        optimizer.step()\n",
        "    \n",
        "    epoch_true_train *= 100.0 / n\n",
        "\n",
        "  \n",
        "    n = 0\n",
        "    model.eval()            \n",
        "    with torch.no_grad():\n",
        "      for i, (x, y) in enumerate(val_loader):\n",
        "        x = x.to(device)\n",
        "        y = y.to(device)\n",
        "        p = model(x)\n",
        "        n += len(x)\n",
        "\n",
        "        batch_loss = criterion(p, y)\n",
        "        batch_size = p.shape[0]\n",
        "        val_loss += float(batch_loss.item() * batch_size)\n",
        "\n",
        "        predictions = p.argmax(-1)\n",
        "        epoch_all_val += len(predictions)\n",
        "        epoch_true_val += int((predictions == y).sum())\n",
        "\n",
        "    train_loss /= len(train_loader.dataset)\n",
        "    val_loss /= len(val_loader.dataset)\n",
        "    epoch_true_val *= 100.0 / n\n",
        "\n",
        "    train_loss_arr.append(train_loss)\n",
        "    val_loss_arr.append(val_loss)\n",
        "    train_accuracy.append(epoch_true_train)\n",
        "    val_accuracy.append(epoch_true_val)\n",
        "\n",
        "    print(f\"[Epoch {epoch}]\\t\"\n",
        "        f\"Train Loss: {train_loss:.4f}\\t\"\n",
        "        f\"Validation Loss: {val_loss:.4f}\\t\"\n",
        "        f\"Train Accuracy: {epoch_true_train:.2f}\\t\"\n",
        "        f\"Validation Accuracy: {epoch_true_val:.2f}\")"
      ],
      "metadata": {
        "colab": {
          "base_uri": "https://localhost:8080/"
        },
        "outputId": "5fcfac95-b36a-4ae5-a109-33c02fc927ad",
        "id": "NIvJPysekElH"
      },
      "execution_count": null,
      "outputs": [
        {
          "output_type": "stream",
          "name": "stdout",
          "text": [
            "[Epoch 0]\tTrain Loss: 38.4691\tValidation Loss: 16.7966\tTrain Accuracy: 58.05\tValidation Accuracy: 65.73\n",
            "[Epoch 1]\tTrain Loss: 7.4280\tValidation Loss: 1.9255\tTrain Accuracy: 58.29\tValidation Accuracy: 61.54\n",
            "[Epoch 2]\tTrain Loss: 1.8956\tValidation Loss: 1.6564\tTrain Accuracy: 57.20\tValidation Accuracy: 57.34\n",
            "[Epoch 3]\tTrain Loss: 1.5951\tValidation Loss: 1.5530\tTrain Accuracy: 52.92\tValidation Accuracy: 47.55\n",
            "[Epoch 4]\tTrain Loss: 1.4073\tValidation Loss: 1.4689\tTrain Accuracy: 53.15\tValidation Accuracy: 62.24\n",
            "[Epoch 5]\tTrain Loss: 1.2596\tValidation Loss: 1.2255\tTrain Accuracy: 52.84\tValidation Accuracy: 59.44\n",
            "[Epoch 6]\tTrain Loss: 1.1658\tValidation Loss: 1.1141\tTrain Accuracy: 50.82\tValidation Accuracy: 52.45\n",
            "[Epoch 7]\tTrain Loss: 1.0677\tValidation Loss: 1.0133\tTrain Accuracy: 51.21\tValidation Accuracy: 48.95\n",
            "[Epoch 8]\tTrain Loss: 0.9699\tValidation Loss: 0.9355\tTrain Accuracy: 53.00\tValidation Accuracy: 48.95\n",
            "[Epoch 9]\tTrain Loss: 1.0060\tValidation Loss: 0.9251\tTrain Accuracy: 54.16\tValidation Accuracy: 46.15\n",
            "[Epoch 10]\tTrain Loss: 0.8692\tValidation Loss: 0.8176\tTrain Accuracy: 52.06\tValidation Accuracy: 45.45\n",
            "[Epoch 11]\tTrain Loss: 0.8313\tValidation Loss: 0.8232\tTrain Accuracy: 54.40\tValidation Accuracy: 49.65\n",
            "[Epoch 12]\tTrain Loss: 0.7851\tValidation Loss: 0.7101\tTrain Accuracy: 56.26\tValidation Accuracy: 60.14\n",
            "[Epoch 13]\tTrain Loss: 0.8170\tValidation Loss: 0.6934\tTrain Accuracy: 53.85\tValidation Accuracy: 57.34\n",
            "[Epoch 14]\tTrain Loss: 0.6802\tValidation Loss: 0.6121\tTrain Accuracy: 56.96\tValidation Accuracy: 64.34\n",
            "[Epoch 15]\tTrain Loss: 0.6525\tValidation Loss: 0.5920\tTrain Accuracy: 60.54\tValidation Accuracy: 66.43\n",
            "[Epoch 16]\tTrain Loss: 0.6409\tValidation Loss: 0.6266\tTrain Accuracy: 62.72\tValidation Accuracy: 57.34\n",
            "[Epoch 17]\tTrain Loss: 0.6259\tValidation Loss: 0.5767\tTrain Accuracy: 64.28\tValidation Accuracy: 69.23\n",
            "[Epoch 18]\tTrain Loss: 0.6050\tValidation Loss: 0.5877\tTrain Accuracy: 67.32\tValidation Accuracy: 69.23\n",
            "[Epoch 19]\tTrain Loss: 0.6132\tValidation Loss: 0.5368\tTrain Accuracy: 66.15\tValidation Accuracy: 72.73\n",
            "[Epoch 20]\tTrain Loss: 0.6324\tValidation Loss: 0.5307\tTrain Accuracy: 66.85\tValidation Accuracy: 76.22\n",
            "[Epoch 21]\tTrain Loss: 0.5959\tValidation Loss: 0.5284\tTrain Accuracy: 68.56\tValidation Accuracy: 77.62\n",
            "[Epoch 22]\tTrain Loss: 0.5957\tValidation Loss: 0.5139\tTrain Accuracy: 69.73\tValidation Accuracy: 78.32\n",
            "[Epoch 23]\tTrain Loss: 0.5944\tValidation Loss: 0.5400\tTrain Accuracy: 69.88\tValidation Accuracy: 72.73\n",
            "[Epoch 24]\tTrain Loss: 0.6053\tValidation Loss: 0.5118\tTrain Accuracy: 66.77\tValidation Accuracy: 78.32\n"
          ]
        }
      ],
      "id": "NIvJPysekElH"
    },
    {
      "cell_type": "code",
      "source": [
        "model.eval()\n",
        "accuracy = 0.0\n",
        "total = 0.0\n",
        "test_loss = 0\n",
        "predicted_labels = []\n",
        "\n",
        "with torch.no_grad():\n",
        "    for data in test_loader:\n",
        "      images, labels = data\n",
        "      images = images.to(device)\n",
        "      labels = labels.to(device)\n",
        "      outputs = model(images)\n",
        "      batch_loss = criterion(outputs, labels)\n",
        "      batch_size = outputs.shape[0]\n",
        "      test_loss += float(batch_loss.item() * batch_size)\n",
        "      _, predicted = torch.max(outputs.data, 1)\n",
        "      for i in range(len(predicted)):\n",
        "        p = predicted[i].item()\n",
        "        predicted_labels.append(p)\n",
        "      total += labels.size(0)\n",
        "      accuracy += (predicted == labels).sum().item()\n",
        "\n",
        "test_loss /= len(test_loader.dataset)\n",
        "print(f\"Test Loss: {test_loss:.4f}\")\n",
        "accuracy = (100 * accuracy / total)\n",
        "print(f\"accuracy: {accuracy:.2f}\")"
      ],
      "metadata": {
        "colab": {
          "base_uri": "https://localhost:8080/"
        },
        "outputId": "ccc6766e-1c41-4ee5-c09a-1a88c28e9c75",
        "id": "K08sScUvkElJ"
      },
      "execution_count": null,
      "outputs": [
        {
          "output_type": "stream",
          "name": "stdout",
          "text": [
            "Test Loss: 0.5461\n",
            "accuracy: 71.85\n"
          ]
        }
      ],
      "id": "K08sScUvkElJ"
    },
    {
      "cell_type": "markdown",
      "source": [
        "### <font color='GoldenRod'>**Train on gene expression data**</font> "
      ],
      "metadata": {
        "id": "HDuaRAq2dDCO"
      },
      "id": "HDuaRAq2dDCO"
    },
    {
      "cell_type": "code",
      "source": [
        "X_train_gene_expression.shape[1]"
      ],
      "metadata": {
        "colab": {
          "base_uri": "https://localhost:8080/"
        },
        "id": "2W14JJVaeGaX",
        "outputId": "2e1d5971-8fb2-430c-81a7-3bd5228e15d4"
      },
      "id": "2W14JJVaeGaX",
      "execution_count": null,
      "outputs": [
        {
          "output_type": "execute_result",
          "data": {
            "text/plain": [
              "489"
            ]
          },
          "metadata": {},
          "execution_count": 306
        }
      ]
    },
    {
      "cell_type": "code",
      "source": [
        "train_dataset = BioDataset(X_train_gene_expression, y_train_gene_expression)\n",
        "train_size = int(0.9 * len(train_dataset))\n",
        "val_size = len(train_dataset) - train_size\n",
        "train_dataset, val_dataset = random_split(train_dataset, (train_size, val_size))\n",
        "test_dataset = BioDataset(X_test_gene_expression, y_test_gene_expression)"
      ],
      "metadata": {
        "id": "8FNBsyR5dP-6"
      },
      "execution_count": null,
      "outputs": [],
      "id": "8FNBsyR5dP-6"
    },
    {
      "cell_type": "code",
      "source": [
        "train_loader = DataLoader(dataset=train_dataset, batch_size=16, shuffle=True)\n",
        "val_loader = DataLoader(dataset=val_dataset, batch_size=16, shuffle=False)\n",
        "test_loader = DataLoader(dataset=test_dataset, batch_size=16, shuffle=False)"
      ],
      "metadata": {
        "id": "y3njpxikdP-8"
      },
      "execution_count": null,
      "outputs": [],
      "id": "y3njpxikdP-8"
    },
    {
      "cell_type": "code",
      "source": [
        "model = MLP_Reduced(X_train_gene_expression.shape[1]).to(device)\n",
        "\n",
        "criterion = nn.CrossEntropyLoss()\n",
        "learning_rate = 1e-4\n",
        "optimizer = torch.optim.Adam(model.parameters(), lr=learning_rate)"
      ],
      "metadata": {
        "id": "-qxD0WvtdP-8"
      },
      "execution_count": null,
      "outputs": [],
      "id": "-qxD0WvtdP-8"
    },
    {
      "cell_type": "code",
      "source": [
        "num_epochs = 20\n",
        "\n",
        "train_loss_arr, val_loss_arr = [], []\n",
        "train_accuracy, val_accuracy = [], [] \n",
        "for epoch in range(num_epochs):\n",
        "    train_loss, val_loss = 0, 0\n",
        "\n",
        "    model.train()\n",
        "\n",
        "    epoch_all_train = 0\n",
        "    epoch_true_train = 0\n",
        "    epoch_accuracy = 0\n",
        "    epoch_all_val = 0\n",
        "    epoch_true_val = 0\n",
        "    n = 0 \n",
        "    for i, (x, y) in enumerate(train_loader):\n",
        "        x = x.to(device)\n",
        "        y = y.to(device)\n",
        "        optimizer.zero_grad()\n",
        "        p = model(x)\n",
        "        n += len(x)\n",
        "\n",
        "        batch_loss = criterion(p, y)\n",
        "        batch_size = p.shape[0]\n",
        "        train_loss += float(batch_loss.item() * batch_size)\n",
        "\n",
        "        predictions = p.argmax(-1)\n",
        "        epoch_all_train += len(predictions)\n",
        "        epoch_true_train += int((predictions == y).sum())\n",
        "\n",
        "        batch_loss.backward()\n",
        "\n",
        "        optimizer.step()\n",
        "    \n",
        "    epoch_true_train *= 100.0 / n\n",
        "\n",
        "  \n",
        "    n = 0\n",
        "    model.eval()            \n",
        "    with torch.no_grad():\n",
        "      for i, (x, y) in enumerate(val_loader):\n",
        "        x = x.to(device)\n",
        "        y = y.to(device)\n",
        "        p = model(x)\n",
        "        n += len(x)\n",
        "\n",
        "        batch_loss = criterion(p, y)\n",
        "        batch_size = p.shape[0]\n",
        "        val_loss += float(batch_loss.item() * batch_size)\n",
        "\n",
        "        predictions = p.argmax(-1)\n",
        "        epoch_all_val += len(predictions)\n",
        "        epoch_true_val += int((predictions == y).sum())\n",
        "\n",
        "    train_loss /= len(train_loader.dataset)\n",
        "    val_loss /= len(val_loader.dataset)\n",
        "    epoch_true_val *= 100.0 / n\n",
        "\n",
        "    train_loss_arr.append(train_loss)\n",
        "    val_loss_arr.append(val_loss)\n",
        "    train_accuracy.append(epoch_true_train)\n",
        "    val_accuracy.append(epoch_true_val)\n",
        "\n",
        "    print(f\"[Epoch {epoch}]\\t\"\n",
        "        f\"Train Loss: {train_loss:.4f}\\t\"\n",
        "        f\"Validation Loss: {val_loss:.4f}\\t\"\n",
        "        f\"Train Accuracy: {epoch_true_train:.2f}\\t\"\n",
        "        f\"Validation Accuracy: {epoch_true_val:.2f}\")"
      ],
      "metadata": {
        "colab": {
          "base_uri": "https://localhost:8080/"
        },
        "outputId": "ddf86489-5fc8-49f5-b510-656320199981",
        "id": "gw76FRkydP-9"
      },
      "execution_count": null,
      "outputs": [
        {
          "output_type": "stream",
          "name": "stdout",
          "text": [
            "[Epoch 0]\tTrain Loss: 0.7227\tValidation Loss: 0.7129\tTrain Accuracy: 42.96\tValidation Accuracy: 45.45\n",
            "[Epoch 1]\tTrain Loss: 0.7015\tValidation Loss: 0.6989\tTrain Accuracy: 48.02\tValidation Accuracy: 51.75\n",
            "[Epoch 2]\tTrain Loss: 0.6826\tValidation Loss: 0.6875\tTrain Accuracy: 52.53\tValidation Accuracy: 54.55\n",
            "[Epoch 3]\tTrain Loss: 0.6661\tValidation Loss: 0.6778\tTrain Accuracy: 57.51\tValidation Accuracy: 57.34\n",
            "[Epoch 4]\tTrain Loss: 0.6516\tValidation Loss: 0.6691\tTrain Accuracy: 62.10\tValidation Accuracy: 61.54\n",
            "[Epoch 5]\tTrain Loss: 0.6383\tValidation Loss: 0.6610\tTrain Accuracy: 64.28\tValidation Accuracy: 65.03\n",
            "[Epoch 6]\tTrain Loss: 0.6274\tValidation Loss: 0.6534\tTrain Accuracy: 66.69\tValidation Accuracy: 66.43\n",
            "[Epoch 7]\tTrain Loss: 0.6172\tValidation Loss: 0.6476\tTrain Accuracy: 68.33\tValidation Accuracy: 67.83\n",
            "[Epoch 8]\tTrain Loss: 0.6075\tValidation Loss: 0.6429\tTrain Accuracy: 69.65\tValidation Accuracy: 67.83\n",
            "[Epoch 9]\tTrain Loss: 0.5988\tValidation Loss: 0.6375\tTrain Accuracy: 70.19\tValidation Accuracy: 69.23\n",
            "[Epoch 10]\tTrain Loss: 0.5898\tValidation Loss: 0.6334\tTrain Accuracy: 70.35\tValidation Accuracy: 67.83\n",
            "[Epoch 11]\tTrain Loss: 0.5812\tValidation Loss: 0.6300\tTrain Accuracy: 71.21\tValidation Accuracy: 67.83\n",
            "[Epoch 12]\tTrain Loss: 0.5722\tValidation Loss: 0.6260\tTrain Accuracy: 71.98\tValidation Accuracy: 68.53\n",
            "[Epoch 13]\tTrain Loss: 0.5634\tValidation Loss: 0.6242\tTrain Accuracy: 73.31\tValidation Accuracy: 70.63\n",
            "[Epoch 14]\tTrain Loss: 0.5540\tValidation Loss: 0.6190\tTrain Accuracy: 73.77\tValidation Accuracy: 70.63\n",
            "[Epoch 15]\tTrain Loss: 0.5447\tValidation Loss: 0.6183\tTrain Accuracy: 74.79\tValidation Accuracy: 69.23\n",
            "[Epoch 16]\tTrain Loss: 0.5355\tValidation Loss: 0.6168\tTrain Accuracy: 75.56\tValidation Accuracy: 69.23\n",
            "[Epoch 17]\tTrain Loss: 0.5257\tValidation Loss: 0.6134\tTrain Accuracy: 76.73\tValidation Accuracy: 69.23\n",
            "[Epoch 18]\tTrain Loss: 0.5160\tValidation Loss: 0.6134\tTrain Accuracy: 77.43\tValidation Accuracy: 68.53\n",
            "[Epoch 19]\tTrain Loss: 0.5060\tValidation Loss: 0.6118\tTrain Accuracy: 78.91\tValidation Accuracy: 69.23\n"
          ]
        }
      ],
      "id": "gw76FRkydP-9"
    },
    {
      "cell_type": "code",
      "source": [
        "model.eval()\n",
        "accuracy = 0.0\n",
        "total = 0.0\n",
        "test_loss = 0\n",
        "predicted_labels = []\n",
        "\n",
        "with torch.no_grad():\n",
        "    for data in test_loader:\n",
        "      images, labels = data\n",
        "      images = images.to(device)\n",
        "      labels = labels.to(device)\n",
        "      outputs = model(images)\n",
        "      batch_loss = criterion(outputs, labels)\n",
        "      batch_size = outputs.shape[0]\n",
        "      test_loss += float(batch_loss.item() * batch_size)\n",
        "      _, predicted = torch.max(outputs.data, 1)\n",
        "      for i in range(len(predicted)):\n",
        "        p = predicted[i].item()\n",
        "        predicted_labels.append(p)\n",
        "      total += labels.size(0)\n",
        "      accuracy += (predicted == labels).sum().item()\n",
        "\n",
        "test_loss /= len(test_loader.dataset)\n",
        "print(f\"Test Loss: {test_loss:.4f}\")\n",
        "accuracy = (100 * accuracy / total)\n",
        "print(f\"accuracy: {accuracy:.2f}\")"
      ],
      "metadata": {
        "colab": {
          "base_uri": "https://localhost:8080/"
        },
        "id": "eiYePaRce3mj",
        "outputId": "c0d7c1d7-fe22-4751-a4f6-32ac6e0f99d4"
      },
      "id": "eiYePaRce3mj",
      "execution_count": null,
      "outputs": [
        {
          "output_type": "stream",
          "name": "stdout",
          "text": [
            "Test Loss: 0.6520\n",
            "accuracy: 63.45\n"
          ]
        }
      ]
    },
    {
      "cell_type": "markdown",
      "source": [
        "### <font color='GoldenRod'>**Train on reduced gene expression data**</font> "
      ],
      "metadata": {
        "id": "nh3-mWCMgdha"
      },
      "id": "nh3-mWCMgdha"
    },
    {
      "cell_type": "code",
      "source": [
        "X_train_reduced_gene_expression.shape[1]"
      ],
      "metadata": {
        "colab": {
          "base_uri": "https://localhost:8080/"
        },
        "outputId": "9a5b5bb7-1aac-4b7d-e2b8-9f5742ce7256",
        "id": "UTyUMp3YgeG1"
      },
      "execution_count": null,
      "outputs": [
        {
          "output_type": "execute_result",
          "data": {
            "text/plain": [
              "60"
            ]
          },
          "metadata": {},
          "execution_count": 336
        }
      ],
      "id": "UTyUMp3YgeG1"
    },
    {
      "cell_type": "code",
      "source": [
        "class MLP_Reduced_2(nn.Module):\n",
        "\n",
        "  def __init__(self, features_num):\n",
        "    super().__init__()\n",
        "    self.layers = nn.Sequential(\n",
        "      nn.Linear(features_num, 16),\n",
        "      nn.ReLU(),\n",
        "      nn.Linear(16, 8),\n",
        "      nn.ReLU(),\n",
        "      nn.Linear(8, 2)\n",
        "    )\n",
        "\n",
        "  def forward(self, x):\n",
        "    return self.layers(x)"
      ],
      "metadata": {
        "id": "P0b2o2dQh7zh"
      },
      "id": "P0b2o2dQh7zh",
      "execution_count": null,
      "outputs": []
    },
    {
      "cell_type": "code",
      "source": [
        "train_dataset = BioDataset(X_train_reduced_gene_expression, y_train_gene_expression)\n",
        "train_size = int(0.9 * len(train_dataset))\n",
        "val_size = len(train_dataset) - train_size\n",
        "train_dataset, val_dataset = random_split(train_dataset, (train_size, val_size))\n",
        "test_dataset = BioDataset(X_train_reduced_gene_expression, y_test_gene_expression)"
      ],
      "metadata": {
        "id": "9W4pLbXogeG1"
      },
      "execution_count": null,
      "outputs": [],
      "id": "9W4pLbXogeG1"
    },
    {
      "cell_type": "code",
      "source": [
        "train_loader = DataLoader(dataset=train_dataset, batch_size=32, shuffle=True)\n",
        "val_loader = DataLoader(dataset=val_dataset, batch_size=32, shuffle=False)\n",
        "test_loader = DataLoader(dataset=test_dataset, batch_size=32, shuffle=False)"
      ],
      "metadata": {
        "id": "whquYKIVgeG2"
      },
      "execution_count": null,
      "outputs": [],
      "id": "whquYKIVgeG2"
    },
    {
      "cell_type": "code",
      "source": [
        "model = MLP_Reduced_2(X_train_gene_expression.shape[1]).to(device)\n",
        "\n",
        "criterion = nn.CrossEntropyLoss()\n",
        "learning_rate = 1e-4\n",
        "optimizer = torch.optim.Adam(model.parameters(), lr=learning_rate)"
      ],
      "metadata": {
        "id": "M2OmkpDmgeG2"
      },
      "execution_count": null,
      "outputs": [],
      "id": "M2OmkpDmgeG2"
    },
    {
      "cell_type": "code",
      "source": [
        "num_epochs = 25\n",
        "\n",
        "train_loss_arr, val_loss_arr = [], []\n",
        "train_accuracy, val_accuracy = [], [] \n",
        "for epoch in range(num_epochs):\n",
        "    train_loss, val_loss = 0, 0\n",
        "\n",
        "    model.train()\n",
        "\n",
        "    epoch_all_train = 0\n",
        "    epoch_true_train = 0\n",
        "    epoch_accuracy = 0\n",
        "    epoch_all_val = 0\n",
        "    epoch_true_val = 0\n",
        "    n = 0 \n",
        "    for i, (x, y) in enumerate(train_loader):\n",
        "        x = x.to(device)\n",
        "        y = y.to(device)\n",
        "        optimizer.zero_grad()\n",
        "        p = model(x)\n",
        "        n += len(x)\n",
        "\n",
        "        batch_loss = criterion(p, y)\n",
        "        batch_size = p.shape[0]\n",
        "        train_loss += float(batch_loss.item() * batch_size)\n",
        "\n",
        "        predictions = p.argmax(-1)\n",
        "        epoch_all_train += len(predictions)\n",
        "        epoch_true_train += int((predictions == y).sum())\n",
        "\n",
        "        batch_loss.backward()\n",
        "\n",
        "        optimizer.step()\n",
        "    \n",
        "    epoch_true_train *= 100.0 / n\n",
        "\n",
        "  \n",
        "    n = 0\n",
        "    model.eval()            \n",
        "    with torch.no_grad():\n",
        "      for i, (x, y) in enumerate(val_loader):\n",
        "        x = x.to(device)\n",
        "        y = y.to(device)\n",
        "        p = model(x)\n",
        "        n += len(x)\n",
        "\n",
        "        batch_loss = criterion(p, y)\n",
        "        batch_size = p.shape[0]\n",
        "        val_loss += float(batch_loss.item() * batch_size)\n",
        "\n",
        "        predictions = p.argmax(-1)\n",
        "        epoch_all_val += len(predictions)\n",
        "        epoch_true_val += int((predictions == y).sum())\n",
        "\n",
        "    train_loss /= len(train_loader.dataset)\n",
        "    val_loss /= len(val_loader.dataset)\n",
        "    epoch_true_val *= 100.0 / n\n",
        "\n",
        "    train_loss_arr.append(train_loss)\n",
        "    val_loss_arr.append(val_loss)\n",
        "    train_accuracy.append(epoch_true_train)\n",
        "    val_accuracy.append(epoch_true_val)\n",
        "\n",
        "    print(f\"[Epoch {epoch}]\\t\"\n",
        "        f\"Train Loss: {train_loss:.4f}\\t\"\n",
        "        f\"Validation Loss: {val_loss:.4f}\\t\"\n",
        "        f\"Train Accuracy: {epoch_true_train:.2f}\\t\"\n",
        "        f\"Validation Accuracy: {epoch_true_val:.2f}\")"
      ],
      "metadata": {
        "colab": {
          "base_uri": "https://localhost:8080/"
        },
        "outputId": "a8c574ee-10fa-42b6-8817-75e4dbf9e0f1",
        "id": "xGDVbRvsgeG3"
      },
      "execution_count": null,
      "outputs": [
        {
          "output_type": "stream",
          "name": "stdout",
          "text": [
            "[Epoch 0]\tTrain Loss: 0.6865\tValidation Loss: 0.6773\tTrain Accuracy: 56.81\tValidation Accuracy: 63.64\n",
            "[Epoch 1]\tTrain Loss: 0.6838\tValidation Loss: 0.6767\tTrain Accuracy: 57.04\tValidation Accuracy: 62.24\n",
            "[Epoch 2]\tTrain Loss: 0.6815\tValidation Loss: 0.6758\tTrain Accuracy: 57.74\tValidation Accuracy: 62.24\n",
            "[Epoch 3]\tTrain Loss: 0.6790\tValidation Loss: 0.6750\tTrain Accuracy: 59.46\tValidation Accuracy: 63.64\n",
            "[Epoch 4]\tTrain Loss: 0.6758\tValidation Loss: 0.6736\tTrain Accuracy: 61.87\tValidation Accuracy: 63.64\n",
            "[Epoch 5]\tTrain Loss: 0.6722\tValidation Loss: 0.6716\tTrain Accuracy: 63.11\tValidation Accuracy: 65.03\n",
            "[Epoch 6]\tTrain Loss: 0.6681\tValidation Loss: 0.6695\tTrain Accuracy: 64.82\tValidation Accuracy: 65.03\n",
            "[Epoch 7]\tTrain Loss: 0.6633\tValidation Loss: 0.6668\tTrain Accuracy: 65.37\tValidation Accuracy: 66.43\n",
            "[Epoch 8]\tTrain Loss: 0.6576\tValidation Loss: 0.6630\tTrain Accuracy: 66.77\tValidation Accuracy: 67.13\n",
            "[Epoch 9]\tTrain Loss: 0.6508\tValidation Loss: 0.6581\tTrain Accuracy: 66.77\tValidation Accuracy: 67.13\n",
            "[Epoch 10]\tTrain Loss: 0.6431\tValidation Loss: 0.6512\tTrain Accuracy: 66.85\tValidation Accuracy: 67.83\n",
            "[Epoch 11]\tTrain Loss: 0.6340\tValidation Loss: 0.6436\tTrain Accuracy: 67.00\tValidation Accuracy: 67.83\n",
            "[Epoch 12]\tTrain Loss: 0.6245\tValidation Loss: 0.6365\tTrain Accuracy: 67.78\tValidation Accuracy: 67.13\n",
            "[Epoch 13]\tTrain Loss: 0.6152\tValidation Loss: 0.6313\tTrain Accuracy: 68.09\tValidation Accuracy: 68.53\n",
            "[Epoch 14]\tTrain Loss: 0.6065\tValidation Loss: 0.6269\tTrain Accuracy: 68.79\tValidation Accuracy: 68.53\n",
            "[Epoch 15]\tTrain Loss: 0.5984\tValidation Loss: 0.6238\tTrain Accuracy: 69.34\tValidation Accuracy: 68.53\n",
            "[Epoch 16]\tTrain Loss: 0.5903\tValidation Loss: 0.6218\tTrain Accuracy: 69.96\tValidation Accuracy: 67.83\n",
            "[Epoch 17]\tTrain Loss: 0.5828\tValidation Loss: 0.6193\tTrain Accuracy: 70.82\tValidation Accuracy: 69.93\n",
            "[Epoch 18]\tTrain Loss: 0.5754\tValidation Loss: 0.6174\tTrain Accuracy: 71.36\tValidation Accuracy: 67.83\n",
            "[Epoch 19]\tTrain Loss: 0.5681\tValidation Loss: 0.6172\tTrain Accuracy: 71.36\tValidation Accuracy: 68.53\n",
            "[Epoch 20]\tTrain Loss: 0.5606\tValidation Loss: 0.6153\tTrain Accuracy: 72.76\tValidation Accuracy: 69.93\n",
            "[Epoch 21]\tTrain Loss: 0.5527\tValidation Loss: 0.6150\tTrain Accuracy: 73.07\tValidation Accuracy: 69.93\n",
            "[Epoch 22]\tTrain Loss: 0.5454\tValidation Loss: 0.6154\tTrain Accuracy: 73.39\tValidation Accuracy: 69.93\n",
            "[Epoch 23]\tTrain Loss: 0.5377\tValidation Loss: 0.6155\tTrain Accuracy: 73.93\tValidation Accuracy: 69.23\n",
            "[Epoch 24]\tTrain Loss: 0.5297\tValidation Loss: 0.6144\tTrain Accuracy: 74.71\tValidation Accuracy: 68.53\n"
          ]
        }
      ],
      "id": "xGDVbRvsgeG3"
    },
    {
      "cell_type": "code",
      "source": [
        "model.eval()\n",
        "accuracy = 0.0\n",
        "total = 0.0\n",
        "test_loss = 0\n",
        "predicted_labels = []\n",
        "\n",
        "with torch.no_grad():\n",
        "    for data in test_loader:\n",
        "      images, labels = data\n",
        "      images = images.to(device)\n",
        "      labels = labels.to(device)\n",
        "      outputs = model(images)\n",
        "      batch_loss = criterion(outputs, labels)\n",
        "      batch_size = outputs.shape[0]\n",
        "      test_loss += float(batch_loss.item() * batch_size)\n",
        "      _, predicted = torch.max(outputs.data, 1)\n",
        "      for i in range(len(predicted)):\n",
        "        p = predicted[i].item()\n",
        "        predicted_labels.append(p)\n",
        "      total += labels.size(0)\n",
        "      accuracy += (predicted == labels).sum().item()\n",
        "\n",
        "test_loss /= len(test_loader.dataset)\n",
        "print(f\"Test Loss: {test_loss:.4f}\")\n",
        "accuracy = (100 * accuracy / total)\n",
        "print(f\"accuracy: {accuracy:.2f}\")"
      ],
      "metadata": {
        "colab": {
          "base_uri": "https://localhost:8080/"
        },
        "outputId": "cadfa78a-8bfc-4251-c461-4a40d4886a8d",
        "id": "AK_GYhVygeG4"
      },
      "execution_count": null,
      "outputs": [
        {
          "output_type": "stream",
          "name": "stdout",
          "text": [
            "Test Loss: 0.6387\n",
            "accuracy: 61.76\n"
          ]
        }
      ],
      "id": "AK_GYhVygeG4"
    },
    {
      "cell_type": "markdown",
      "id": "56877dc4",
      "metadata": {
        "id": "56877dc4"
      },
      "source": [
        "# Model Comparison (10 Points)"
      ]
    },
    {
      "cell_type": "markdown",
      "id": "509fe56a",
      "metadata": {
        "id": "509fe56a"
      },
      "source": [
        "Compare different models and different datasets (clinical, gene expressions, and gene reduced expressions) and try to explain their differences."
      ]
    },
    {
      "cell_type": "markdown",
      "id": "c2f05a73",
      "metadata": {
        "id": "c2f05a73"
      },
      "source": [
        "<font color='FireBrick'> Actually the clinical data has the most informative features. We can see this matter by just finding the most important features(as it was calculated and found in the code). They mostly are related to clinical dataset columns. However some of the most important features are related to gene expression data; thus the combination of these two works better than each of them individually. According to the last section, by using NN models we reach better accuracy for the joint of clinical and gene expression data. Next we can see that clinical data works worse than the joint data and better than gene expression data per se. As we expected, gene reduced expression data has the worst accuracy, because every one of the gene expressions has a small proportion of the whole information and by reducing its features, we lose some of the information, thus; we reach lower accuracies. </font>\n",
        "\n",
        "\n",
        "<font color='FireBrick'> On the other hand, in this problem, Classic models(in this problem we used RandomForest) perform better on our data than NN models! RandomForest has fewer parameters and is less computationally expensive. Also NN models need so much more data than RandomForests which shows their difference in performance on reduced data."
      ]
    }
  ],
  "metadata": {
    "kernelspec": {
      "display_name": "Python 3 (ipykernel)",
      "language": "python",
      "name": "python3"
    },
    "language_info": {
      "codemirror_mode": {
        "name": "ipython",
        "version": 3
      },
      "file_extension": ".py",
      "mimetype": "text/x-python",
      "name": "python",
      "nbconvert_exporter": "python",
      "pygments_lexer": "ipython3",
      "version": "3.9.7"
    },
    "toc": {
      "base_numbering": 1,
      "nav_menu": {},
      "number_sections": true,
      "sideBar": true,
      "skip_h1_title": false,
      "title_cell": "Table of Contents",
      "title_sidebar": "Contents",
      "toc_cell": false,
      "toc_position": {},
      "toc_section_display": true,
      "toc_window_display": false
    },
    "varInspector": {
      "cols": {
        "lenName": 16,
        "lenType": 16,
        "lenVar": 40
      },
      "kernels_config": {
        "python": {
          "delete_cmd_postfix": "",
          "delete_cmd_prefix": "del ",
          "library": "var_list.py",
          "varRefreshCmd": "print(var_dic_list())"
        },
        "r": {
          "delete_cmd_postfix": ") ",
          "delete_cmd_prefix": "rm(",
          "library": "var_list.r",
          "varRefreshCmd": "cat(var_dic_list()) "
        }
      },
      "types_to_exclude": [
        "module",
        "function",
        "builtin_function_or_method",
        "instance",
        "_Feature"
      ],
      "window_display": false
    },
    "colab": {
      "provenance": [],
      "collapsed_sections": [
        "WDprnHJ0t8mB",
        "8s6YqNLeuvEk",
        "EP9w4268EBWn",
        "1T4F1_D7FH38"
      ],
      "include_colab_link": true
    },
    "gpuClass": "standard"
  },
  "nbformat": 4,
  "nbformat_minor": 5
}